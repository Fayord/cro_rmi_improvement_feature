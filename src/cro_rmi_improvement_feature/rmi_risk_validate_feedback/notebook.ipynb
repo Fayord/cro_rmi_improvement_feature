{
 "cells": [
  {
   "cell_type": "code",
   "execution_count": 13,
   "metadata": {},
   "outputs": [],
   "source": [
    "from dotenv import load_dotenv\n",
    "import os\n",
    "from main import (\n",
    "    add_metric,\n",
    "    remove_metric,\n",
    "    get_metrics,\n",
    "    validate_user_input,\n",
    "    export_to_excel,\n",
    "    create_human_review_template,\n",
    ")"
   ]
  },
  {
   "cell_type": "code",
   "execution_count": 2,
   "metadata": {},
   "outputs": [],
   "source": [
    "env_path = \"/Users/ford/Documents/coding/confidential/.env\"\n",
    "load_dotenv(env_path)\n",
    "api_key = os.getenv(\"OPENAI_API_KEY\")\n",
    "assert api_key, \"API key is missing\""
   ]
  },
  {
   "cell_type": "code",
   "execution_count": 3,
   "metadata": {},
   "outputs": [
    {
     "data": {
      "text/plain": [
       "{'Have cause': 'Text identifies and explains the underlying root cause or triggering factors of the risk',\n",
       " 'Have risk event': 'Text clearly describes what could go wrong or the specific risk scenario that may occur',\n",
       " 'Have impact': 'Text describes potential consequences or outcomes resulting from the risk event'}"
      ]
     },
     "execution_count": 3,
     "metadata": {},
     "output_type": "execute_result"
    }
   ],
   "source": [
    "# Initialize default metrics\n",
    "add_metric(\n",
    "    \"Have cause\",\n",
    "    \"Text identifies and explains the underlying root cause or triggering factors of the risk\",\n",
    ")\n",
    "add_metric(\n",
    "    \"Have risk event\",\n",
    "    \"Text clearly describes what could go wrong or the specific risk scenario that may occur\",\n",
    ")\n",
    "add_metric(\n",
    "    \"Have impact\",\n",
    "    \"Text describes potential consequences or outcomes resulting from the risk event\",\n",
    ")"
   ]
  },
  {
   "cell_type": "code",
   "execution_count": 4,
   "metadata": {},
   "outputs": [
    {
     "data": {
      "text/plain": [
       "{'Have cause': 'Text identifies and explains the underlying root cause or triggering factors of the risk',\n",
       " 'Have risk event': 'Text clearly describes what could go wrong or the specific risk scenario that may occur',\n",
       " 'Have impact': 'Text describes potential consequences or outcomes resulting from the risk event'}"
      ]
     },
     "execution_count": 4,
     "metadata": {},
     "output_type": "execute_result"
    }
   ],
   "source": [
    "get_metrics()"
   ]
  },
  {
   "cell_type": "code",
   "execution_count": 15,
   "metadata": {},
   "outputs": [],
   "source": [
    "user_inputs = [\n",
    "    \"ไม่จัดส่งรายงานพลังงานประจำปี\",\n",
    "    \"ถุงจัมโบ้เสียหายในการจัดเก็บและขนส่ง ทำให้เกิดการปนของสายพันธุ์\",\n",
    "    \"เครื่องจักร Brakedown บ่อย\",\n",
    "]"
   ]
  },
  {
   "cell_type": "code",
   "execution_count": 16,
   "metadata": {},
   "outputs": [
    {
     "name": "stdout",
     "output_type": "stream",
     "text": [
      "Validating user input: 'ไม่จัดส่งรายงานพลังงานประจำปี'\n",
      "Using provider: openai, model: default\n",
      "Metrics: {'Have cause': 'Text identifies and explains the underlying root cause or triggering factors of the risk', 'Have risk event': 'Text clearly describes what could go wrong or the specific risk scenario that may occur', 'Have impact': 'Text describes potential consequences or outcomes resulting from the risk event'}\n",
      "Validating text on metric: Have cause\n",
      "Validating text on metric: Have risk event\n",
      "Validating text on metric: Have impact\n",
      "\n",
      "Metric: Have cause - INVALID\n",
      "Reason: The text 'ไม่จัดส่งรายงานพลังงานประจำปี' translates to 'Not submitting the annual energy report.' While it indicates a specific risk (failure to submit a report), it does not identify or explain the underlying root cause or triggering factors of this risk. To meet the validation criteria, the text should elaborate on why the report is not being submitted, such as lack of resources, oversight, or other contributing factors.\n",
      "\n",
      "Metric: Have risk event - INVALID\n",
      "Reason: The text 'ไม่จัดส่งรายงานพลังงานประจำปี' translates to 'Not submitting the annual energy report.' While it indicates a potential risk event, it does not clearly describe what could go wrong or the specific consequences of this risk scenario. More detail is needed to fully articulate the implications of not submitting the report.\n",
      "\n",
      "Metric: Have impact - INVALID\n",
      "Reason: The text 'ไม่จัดส่งรายงานพลังงานประจำปี' translates to 'Not submitting the annual energy report.' While it indicates a specific risk event, it does not describe the potential consequences or outcomes resulting from this event, which is necessary to meet the validation criteria for the metric 'Have impact.'\n",
      "Validating user input: 'ถุงจัมโบ้เสียหายในการจัดเก็บและขนส่ง ทำให้เกิดการปนของสายพันธุ์'\n",
      "Using provider: openai, model: default\n",
      "Metrics: {'Have cause': 'Text identifies and explains the underlying root cause or triggering factors of the risk', 'Have risk event': 'Text clearly describes what could go wrong or the specific risk scenario that may occur', 'Have impact': 'Text describes potential consequences or outcomes resulting from the risk event'}\n",
      "Validating text on metric: Have cause\n",
      "Validating text on metric: Have risk event\n",
      "Validating text on metric: Have impact\n",
      "\n",
      "Metric: Have cause - VALID\n",
      "Reason: The text identifies a specific risk related to the damage of jumbo bags during storage and transportation, which leads to contamination of strains. This clearly explains the underlying root cause of the risk, meeting the validation criteria.\n",
      "\n",
      "Metric: Have risk event - VALID\n",
      "Reason: The text clearly describes a specific risk scenario where 'jumbo bags' are damaged during storage and transportation, leading to contamination of strains. This aligns with the requirement to articulate what could go wrong in a risk event.\n",
      "\n",
      "Metric: Have impact - VALID\n",
      "Reason: The text describes potential consequences of a risk event, specifically the damage to jumbo bags during storage and transportation, which leads to contamination of strains. This aligns with the requirement to outline the impact of the risk event.\n",
      "Validating user input: 'เครื่องจักร Brakedown บ่อย'\n",
      "Using provider: openai, model: default\n",
      "Metrics: {'Have cause': 'Text identifies and explains the underlying root cause or triggering factors of the risk', 'Have risk event': 'Text clearly describes what could go wrong or the specific risk scenario that may occur', 'Have impact': 'Text describes potential consequences or outcomes resulting from the risk event'}\n",
      "Validating text on metric: Have cause\n",
      "Validating text on metric: Have risk event\n",
      "Validating text on metric: Have impact\n",
      "\n",
      "Metric: Have cause - INVALID\n",
      "Reason: The text 'เครื่องจักร Brakedown บ่อย' translates to 'Machines break down often' in English. While it indicates a recurring issue, it does not identify or explain the underlying root cause or triggering factors of the risk. To meet the validation criteria, the text should provide insights into why the machines are breaking down frequently, such as maintenance issues, operator errors, or environmental factors.\n",
      "\n",
      "Metric: Have risk event - INVALID\n",
      "Reason: The text 'เครื่องจักร Brakedown บ่อย' translates to 'Machines break down often' in English. While it indicates a potential risk scenario, it lacks a clear description of the specific consequences or context of the risk event. To meet the validation criteria, it should elaborate on what could go wrong as a result of the frequent breakdowns, such as production delays, increased costs, or safety hazards.\n",
      "\n",
      "Metric: Have impact - INVALID\n",
      "Reason: The text 'เครื่องจักร Brakedown บ่อย' translates to 'Machines break down often' but does not describe the potential consequences or outcomes resulting from the risk event. It merely states the occurrence of the risk without elaborating on its impact, which is necessary for the metric 'Have impact'.\n"
     ]
    }
   ],
   "source": [
    "all_result = []\n",
    "for user_input in user_inputs:\n",
    "    results = validate_user_input(\n",
    "        user_input,\n",
    "        provider=\"openai\",\n",
    "        export=False,\n",
    "    )\n",
    "    all_result.extend(results)"
   ]
  },
  {
   "cell_type": "code",
   "execution_count": 17,
   "metadata": {},
   "outputs": [
    {
     "name": "stdout",
     "output_type": "stream",
     "text": [
      "Human review template exported to human_review_template_openai_20250402_150422.xlsx\n"
     ]
    }
   ],
   "source": [
    "human_template = create_human_review_template(all_result)"
   ]
  },
  {
   "cell_type": "code",
   "execution_count": null,
   "metadata": {},
   "outputs": [],
   "source": []
  }
 ],
 "metadata": {
  "kernelspec": {
   "display_name": ".venv",
   "language": "python",
   "name": "python3"
  },
  "language_info": {
   "codemirror_mode": {
    "name": "ipython",
    "version": 3
   },
   "file_extension": ".py",
   "mimetype": "text/x-python",
   "name": "python",
   "nbconvert_exporter": "python",
   "pygments_lexer": "ipython3",
   "version": "3.12.2"
  }
 },
 "nbformat": 4,
 "nbformat_minor": 2
}
