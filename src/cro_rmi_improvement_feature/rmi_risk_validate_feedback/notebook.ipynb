{
 "cells": [
  {
   "cell_type": "code",
   "execution_count": 1,
   "metadata": {},
   "outputs": [
    {
     "name": "stderr",
     "output_type": "stream",
     "text": [
      "/var/folders/wr/0gwyb5t142l5ys9ymbzy5z380000gn/T/ipykernel_15324/4197826368.py:3: LangChainDeprecationWarning: As of langchain-core 0.3.0, LangChain uses pydantic v2 internally. The langchain_core.pydantic_v1 module was a compatibility shim for pydantic v1, and should no longer be used. Please update the code to import from Pydantic directly.\n",
      "\n",
      "For example, replace imports like: `from langchain_core.pydantic_v1 import BaseModel`\n",
      "with: `from pydantic import BaseModel`\n",
      "or the v1 compatibility namespace if you are working in a code base that has not been fully upgraded to pydantic 2 yet. \tfrom pydantic.v1 import BaseModel\n",
      "\n",
      "  from main import (\n"
     ]
    }
   ],
   "source": [
    "from dotenv import load_dotenv\n",
    "import os\n",
    "from main import (\n",
    "    add_metric,\n",
    "    remove_metric,\n",
    "    get_metrics,\n",
    "    validate_user_input,\n",
    "    export_to_excel,\n",
    "    create_human_review_template,\n",
    "    generate_feedback_questions,\n",
    ")\n",
    "import pandas as pd"
   ]
  },
  {
   "cell_type": "code",
   "execution_count": 2,
   "metadata": {},
   "outputs": [],
   "source": [
    "env_path = \"/Users/ford/Documents/coding/confidential/.env\"\n",
    "load_dotenv(env_path)\n",
    "api_key = os.getenv(\"OPENAI_API_KEY\")\n",
    "assert api_key, \"API key is missing\""
   ]
  },
  {
   "cell_type": "code",
   "execution_count": 3,
   "metadata": {},
   "outputs": [],
   "source": [
    "data_path = \"/Users/ford/Documents/coding/confidential/250327_data_from_RMI_from_productionbuild_Q3-2024_label.xlsx\"\n",
    "# assert is file exist\n",
    "assert os.path.exists(data_path)"
   ]
  },
  {
   "cell_type": "code",
   "execution_count": 4,
   "metadata": {},
   "outputs": [
    {
     "name": "stdout",
     "output_type": "stream",
     "text": [
      "<class 'pandas.core.frame.DataFrame'>\n",
      "RangeIndex: 1783 entries, 0 to 1782\n",
      "Data columns (total 82 columns):\n",
      " #   Column                                                        Non-Null Count  Dtype  \n",
      "---  ------                                                        --------------  -----  \n",
      " 0   id                                                            789 non-null    float64\n",
      " 1   control_name                                                  789 non-null    object \n",
      " 2   control_owner                                                 789 non-null    object \n",
      " 3   have_control                                                  1783 non-null   bool   \n",
      " 4   control_freq                                                  0 non-null      float64\n",
      " 5   control_effective_date                                        789 non-null    object \n",
      " 6   risk_question_id                                              1783 non-null   int64  \n",
      " 7   control_des                                                   789 non-null    object \n",
      " 8   control_design                                                783 non-null    object \n",
      " 9   response_type                                                 789 non-null    object \n",
      " 10  control_effectiveness                                         783 non-null    object \n",
      " 11  existing_control_processes                                    1783 non-null   object \n",
      " 12  existing_control_causes                                       1783 non-null   object \n",
      " 13  company_sector                                                1783 non-null   object \n",
      " 14  company                                                       1783 non-null   object \n",
      " 15  est_revenue                                                   1783 non-null   float64\n",
      " 16  est_EBITDA                                                    1783 non-null   float64\n",
      " 17  assessment_id                                                 1783 non-null   int64  \n",
      " 18  assessment_status                                             1783 non-null   object \n",
      " 19  user                                                          1783 non-null   object \n",
      " 20  risk_cat                                                      1783 non-null   object \n",
      " 21  risk_subcat                                                   1783 non-null   object \n",
      " 22  risk_id                                                       1783 non-null   int64  \n",
      " 23  iscustom                                                      1783 non-null   bool   \n",
      " 24  robotics_related                                              52 non-null     float64\n",
      " 25  risk                                                          1783 non-null   object \n",
      " 26  risk_desc                                                     1675 non-null   object \n",
      " 27  rootcause                                                     1783 non-null   object \n",
      " 28  rootcause_desc                                                1783 non-null   object \n",
      " 29  process                                                       1783 non-null   object \n",
      " 30  process_desc                                                  1783 non-null   object \n",
      " 31  KRI_name                                                      1783 non-null   object \n",
      " 32  KRI_desc                                                      1783 non-null   object \n",
      " 33  KRI_target                                                    1783 non-null   object \n",
      " 34  KRI_result                                                    1783 non-null   object \n",
      " 35  FinancialImpacts_justification                                96 non-null     object \n",
      " 36  FinancialImpacts_Impact on Revenue                            852 non-null    object \n",
      " 37  FinancialImpacts_Impact on Revenue_notes                      28 non-null     float64\n",
      " 38  FinancialImpacts_Impact on cash flow                          867 non-null    object \n",
      " 39  FinancialImpacts_Impact on cash flow_notes                    17 non-null     float64\n",
      " 40  FinancialImpacts_Impact on EBITDA                             940 non-null    object \n",
      " 41  FinancialImpacts_Impact on EBITDA_notes                       31 non-null     float64\n",
      " 42  Likelihood_justification                                      251 non-null    object \n",
      " 43  Likelihood_Frequency                                          1675 non-null   object \n",
      " 44  Likelihood_Frequency_notes                                    0 non-null      float64\n",
      " 45  NonFinancialImpacts_justification                             99 non-null     object \n",
      " 46  NonFinancialImpacts_Health & Safety                           294 non-null    object \n",
      " 47  NonFinancialImpacts_Health & Safety_notes                     15 non-null     object \n",
      " 48  NonFinancialImpacts_Environment                               405 non-null    object \n",
      " 49  NonFinancialImpacts_Environment_notes                         14 non-null     object \n",
      " 50  NonFinancialImpacts_Legal Liability                           664 non-null    object \n",
      " 51  NonFinancialImpacts_Legal Liability_notes                     17 non-null     object \n",
      " 52  NonFinancialImpacts_Internal Punishment                       454 non-null    object \n",
      " 53  NonFinancialImpacts_Internal Punishment_notes                 18 non-null     object \n",
      " 54  NonFinancialImpacts_Channel of spreading negative news        643 non-null    object \n",
      " 55  NonFinancialImpacts_Channel of spreading negative news_notes  14 non-null     object \n",
      " 56  NonFinancialImpacts_Scope of spreading negative news          461 non-null    object \n",
      " 57  NonFinancialImpacts_Scope of spreading negative news_notes    16 non-null     object \n",
      " 58  NonFinancialImpacts_Period of spreading negative news         424 non-null    object \n",
      " 59  NonFinancialImpacts_Period of spreading negative news_notes   13 non-null     object \n",
      " 60  NonFinancialImpacts_Impact on operational process             1127 non-null   object \n",
      " 61  NonFinancialImpacts_Impact on operational process_notes       20 non-null     object \n",
      " 62  mitigation_id                                                 128 non-null    object \n",
      " 63  mitigation_name                                               128 non-null    object \n",
      " 64  mitigation_owner                                              128 non-null    object \n",
      " 65  have_mitigation                                               1527 non-null   object \n",
      " 66  mitigation_des                                                128 non-null    object \n",
      " 67  notification_sent                                             1527 non-null   object \n",
      " 68  mitigation_remark                                             128 non-null    object \n",
      " 69  risk_mitigation_action_comment                                128 non-null    object \n",
      " 70  mitigation_target_likelihood                                  128 non-null    object \n",
      " 71  mitigation_target_impact                                      128 non-null    object \n",
      " 72  mitigation_target_final_score                                 128 non-null    object \n",
      " 73  mitigation_cost_support                                       128 non-null    object \n",
      " 74  mitigation_other_support                                      128 non-null    object \n",
      " 75  mitigation_target_date                                        128 non-null    object \n",
      " 76  mitigation_plan_start_date                                    128 non-null    object \n",
      " 77  mitigation_plan_end_date                                      128 non-null    object \n",
      " 78  mitigation_plan_processes                                     1527 non-null   object \n",
      " 79  mitigation_plan_causes                                        1527 non-null   object \n",
      " 80  mitigation_plan_external_organization                         1527 non-null   object \n",
      " 81  existing_control_external_organization                        789 non-null    object \n",
      "dtypes: bool(2), float64(9), int64(3), object(68)\n",
      "memory usage: 1.1+ MB\n"
     ]
    }
   ],
   "source": [
    "data_df = pd.read_excel(data_path)\n",
    "data_df.info()"
   ]
  },
  {
   "cell_type": "code",
   "execution_count": 5,
   "metadata": {},
   "outputs": [
    {
     "data": {
      "text/plain": [
       "(268, 82)"
      ]
     },
     "execution_count": 5,
     "metadata": {},
     "output_type": "execute_result"
    }
   ],
   "source": [
    "selected_df = data_df[data_df[\"iscustom\"] == True]\n",
    "# column risk_desc unique values\n",
    "risk_desc_unique_list = selected_df[\"risk_desc\"].unique().tolist()\n",
    "selected_df.shape"
   ]
  },
  {
   "cell_type": "code",
   "execution_count": 6,
   "metadata": {},
   "outputs": [
    {
     "data": {
      "text/plain": [
       "174"
      ]
     },
     "execution_count": 6,
     "metadata": {},
     "output_type": "execute_result"
    }
   ],
   "source": [
    "len(risk_desc_unique_list)"
   ]
  },
  {
   "cell_type": "code",
   "execution_count": 7,
   "metadata": {},
   "outputs": [],
   "source": [
    "risk_desc_unique_list = risk_desc_unique_list[:1]\n",
    "# risk_desc_unique_list = risk_desc_unique_list[:10]"
   ]
  },
  {
   "cell_type": "code",
   "execution_count": 8,
   "metadata": {},
   "outputs": [
    {
     "data": {
      "text/plain": [
       "{'Have cause': 'Text identifies and explains the underlying root cause or triggering factors of the risk',\n",
       " 'Have risk event': 'Text clearly describes what could go wrong or the specific risk scenario that may occur',\n",
       " 'Have impact': 'Text describes potential consequences or outcomes resulting from the risk event'}"
      ]
     },
     "execution_count": 8,
     "metadata": {},
     "output_type": "execute_result"
    }
   ],
   "source": [
    "# Initialize default metrics\n",
    "add_metric(\n",
    "    \"Have cause\",\n",
    "    \"Text identifies and explains the underlying root cause or triggering factors of the risk\",\n",
    ")\n",
    "add_metric(\n",
    "    \"Have risk event\",\n",
    "    \"Text clearly describes what could go wrong or the specific risk scenario that may occur\",\n",
    ")\n",
    "add_metric(\n",
    "    \"Have impact\",\n",
    "    \"Text describes potential consequences or outcomes resulting from the risk event\",\n",
    ")"
   ]
  },
  {
   "cell_type": "code",
   "execution_count": 9,
   "metadata": {},
   "outputs": [
    {
     "data": {
      "text/plain": [
       "{'Have cause': 'Text identifies and explains the underlying root cause or triggering factors of the risk',\n",
       " 'Have risk event': 'Text clearly describes what could go wrong or the specific risk scenario that may occur',\n",
       " 'Have impact': 'Text describes potential consequences or outcomes resulting from the risk event'}"
      ]
     },
     "execution_count": 9,
     "metadata": {},
     "output_type": "execute_result"
    }
   ],
   "source": [
    "get_metrics()"
   ]
  },
  {
   "cell_type": "code",
   "execution_count": 10,
   "metadata": {},
   "outputs": [],
   "source": [
    "# user_inputs = [\n",
    "#     \"ไม่จัดส่งรายงานพลังงานประจำปี\",\n",
    "#     \"ถุงจัมโบ้เสียหายในการจัดเก็บและขนส่ง ทำให้เกิดการปนของสายพันธุ์\",\n",
    "#     \"เครื่องจักร Brakedown บ่อย\",\n",
    "# ]\n",
    "user_inputs = risk_desc_unique_list"
   ]
  },
  {
   "cell_type": "code",
   "execution_count": 11,
   "metadata": {},
   "outputs": [
    {
     "name": "stdout",
     "output_type": "stream",
     "text": [
      "Validating user input: 'การทุจริตในกระบวน การเบิกจ่ายค่าใช้จ่าย การจัดซื้อ'\n",
      "Using provider: openai, model: default\n",
      "Metrics: {'Have cause': 'Text identifies and explains the underlying root cause or triggering factors of the risk', 'Have risk event': 'Text clearly describes what could go wrong or the specific risk scenario that may occur', 'Have impact': 'Text describes potential consequences or outcomes resulting from the risk event'}\n",
      "Validating text on metric: Have cause\n",
      "Validating text on metric: Have risk event\n",
      "Validating text on metric: Have impact\n",
      "\n",
      "Metric: Have cause - INVALID\n",
      "Reason: The text identifies a specific risk related to fraud in the expense reimbursement and procurement process but does not explain the underlying root cause or triggering factors of this risk. To meet the validation criteria, it should provide insights into why this fraud occurs, such as lack of oversight, inadequate controls, or cultural factors that may contribute to such behavior.\n",
      "\n",
      "Metric: Have risk event - VALID\n",
      "Reason: The text clearly describes a specific risk scenario related to fraud in the expense reimbursement and procurement process. It identifies a potential risk event that could occur, which aligns with the validation criteria.\n",
      "\n",
      "Metric: Have impact - INVALID\n",
      "Reason: The text mentions 'corruption in the expense reimbursement process and procurement' but does not describe the potential consequences or outcomes resulting from this risk event. To meet the validation criteria, it should elaborate on how such corruption could impact the organization, stakeholders, or operations.\n",
      "\n",
      "Consolidated Feedback:\n",
      "Question: Your risk description needs improvement in the following areas: Have cause, Have impact. Please provide a more comprehensive description that addresses these aspects.\n",
      "\n",
      "Improvement Examples:\n",
      "\n",
      "choice1\n",
      "\n",
      "choice2\n",
      "\n",
      "choice3\n"
     ]
    }
   ],
   "source": [
    "all_result = []\n",
    "for user_input in user_inputs:\n",
    "    result, feedback_dict = validate_user_input(user_input, export=False)\n",
    "    all_result.append(result)"
   ]
  },
  {
   "cell_type": "code",
   "execution_count": 12,
   "metadata": {},
   "outputs": [
    {
     "data": {
      "text/plain": [
       "[[{'text': 'การทุจริตในกระบวน การเบิกจ่ายค่าใช้จ่าย การจัดซื้อ',\n",
       "   'metric': 'Have cause',\n",
       "   'metric_detail': 'Text identifies and explains the underlying root cause or triggering factors of the risk',\n",
       "   'additional_information': None,\n",
       "   'is_valid': False,\n",
       "   'reason': 'The text identifies a specific risk related to fraud in the expense reimbursement and procurement process but does not explain the underlying root cause or triggering factors of this risk. To meet the validation criteria, it should provide insights into why this fraud occurs, such as lack of oversight, inadequate controls, or cultural factors that may contribute to such behavior.',\n",
       "   'provider': 'openai',\n",
       "   'model': 'default'},\n",
       "  {'text': 'การทุจริตในกระบวน การเบิกจ่ายค่าใช้จ่าย การจัดซื้อ',\n",
       "   'metric': 'Have risk event',\n",
       "   'metric_detail': 'Text clearly describes what could go wrong or the specific risk scenario that may occur',\n",
       "   'additional_information': None,\n",
       "   'is_valid': True,\n",
       "   'reason': 'The text clearly describes a specific risk scenario related to fraud in the expense reimbursement and procurement process. It identifies a potential risk event that could occur, which aligns with the validation criteria.',\n",
       "   'provider': 'openai',\n",
       "   'model': 'default'},\n",
       "  {'text': 'การทุจริตในกระบวน การเบิกจ่ายค่าใช้จ่าย การจัดซื้อ',\n",
       "   'metric': 'Have impact',\n",
       "   'metric_detail': 'Text describes potential consequences or outcomes resulting from the risk event',\n",
       "   'additional_information': None,\n",
       "   'is_valid': False,\n",
       "   'reason': \"The text mentions 'corruption in the expense reimbursement process and procurement' but does not describe the potential consequences or outcomes resulting from this risk event. To meet the validation criteria, it should elaborate on how such corruption could impact the organization, stakeholders, or operations.\",\n",
       "   'provider': 'openai',\n",
       "   'model': 'default'}]]"
      ]
     },
     "execution_count": 12,
     "metadata": {},
     "output_type": "execute_result"
    }
   ],
   "source": [
    "all_result[:3]"
   ]
  },
  {
   "cell_type": "code",
   "execution_count": 13,
   "metadata": {},
   "outputs": [
    {
     "data": {
      "text/plain": [
       "[[{'text': 'การทุจริตในกระบวน การเบิกจ่ายค่าใช้จ่าย การจัดซื้อ',\n",
       "   'metric': 'Have cause',\n",
       "   'metric_detail': 'Text identifies and explains the underlying root cause or triggering factors of the risk',\n",
       "   'additional_information': None,\n",
       "   'is_valid': False,\n",
       "   'reason': 'The text identifies a specific risk related to fraud in the expense reimbursement and procurement process but does not explain the underlying root cause or triggering factors of this risk. To meet the validation criteria, it should provide insights into why this fraud occurs, such as lack of oversight, inadequate controls, or cultural factors that may contribute to such behavior.',\n",
       "   'provider': 'openai',\n",
       "   'model': 'default'},\n",
       "  {'text': 'การทุจริตในกระบวน การเบิกจ่ายค่าใช้จ่าย การจัดซื้อ',\n",
       "   'metric': 'Have risk event',\n",
       "   'metric_detail': 'Text clearly describes what could go wrong or the specific risk scenario that may occur',\n",
       "   'additional_information': None,\n",
       "   'is_valid': True,\n",
       "   'reason': 'The text clearly describes a specific risk scenario related to fraud in the expense reimbursement and procurement process. It identifies a potential risk event that could occur, which aligns with the validation criteria.',\n",
       "   'provider': 'openai',\n",
       "   'model': 'default'},\n",
       "  {'text': 'การทุจริตในกระบวน การเบิกจ่ายค่าใช้จ่าย การจัดซื้อ',\n",
       "   'metric': 'Have impact',\n",
       "   'metric_detail': 'Text describes potential consequences or outcomes resulting from the risk event',\n",
       "   'additional_information': None,\n",
       "   'is_valid': False,\n",
       "   'reason': \"The text mentions 'corruption in the expense reimbursement process and procurement' but does not describe the potential consequences or outcomes resulting from this risk event. To meet the validation criteria, it should elaborate on how such corruption could impact the organization, stakeholders, or operations.\",\n",
       "   'provider': 'openai',\n",
       "   'model': 'default'}]]"
      ]
     },
     "execution_count": 13,
     "metadata": {},
     "output_type": "execute_result"
    }
   ],
   "source": [
    "all_result"
   ]
  },
  {
   "cell_type": "code",
   "execution_count": 14,
   "metadata": {},
   "outputs": [
    {
     "data": {
      "text/plain": [
       "1"
      ]
     },
     "execution_count": 14,
     "metadata": {},
     "output_type": "execute_result"
    }
   ],
   "source": [
    "len(all_result)"
   ]
  },
  {
   "cell_type": "code",
   "execution_count": 15,
   "metadata": {},
   "outputs": [
    {
     "data": {
      "text/plain": [
       "dict_keys(['invalid_metrics', 'question', 'examples', 'original_text'])"
      ]
     },
     "execution_count": 15,
     "metadata": {},
     "output_type": "execute_result"
    }
   ],
   "source": [
    "feedback_dict[\"consolidated_feedback\"].keys()"
   ]
  },
  {
   "cell_type": "code",
   "execution_count": 16,
   "metadata": {},
   "outputs": [
    {
     "data": {
      "text/plain": [
       "{'invalid_metrics': ['Have cause', 'Have impact'],\n",
       " 'question': 'Your risk description needs improvement in the following areas: Have cause, Have impact. Please provide a more comprehensive description that addresses these aspects.',\n",
       " 'examples': {'choice1': 'การทุจริตในกระบวนการเบิกจ่ายค่าใช้จ่ายและการจัดซื้อเกิดจากการขาดการตรวจสอบที่เข้มงวด ซึ่งอาจนำไปสู่การใช้จ่ายที่ไม่เหมาะสมและการสูญเสียทรัพยากรทางการเงินที่สำคัญ ส่งผลกระทบต่อความเชื่อมั่นของผู้มีส่วนได้ส่วนเสียและภาพลักษณ์ขององค์กร.',\n",
       "  'choice2': 'การทุจริตในกระบวนการเบิกจ่ายค่าใช้จ่ายและการจัดซื้อมีสาเหตุมาจากการขาดการควบคุมภายในที่มีประสิทธิภาพ ซึ่งอาจทำให้เกิดการจัดซื้อที่ไม่โปร่งใสและการใช้จ่ายที่ไม่จำเป็น ส่งผลให้เกิดความเสียหายทางการเงินและลดประสิทธิภาพในการดำเนินงานขององค์กร.',\n",
       "  'choice3': 'การทุจริตในกระบวนการเบิกจ่ายค่าใช้จ่ายและการจัดซื้อเกิดจากการขาดการฝึกอบรมและความตระหนักรู้ในเรื่องจริยธรรมของพนักงาน ซึ่งอาจนำไปสู่การตัดสินใจที่ไม่ถูกต้องและการใช้จ่ายที่ไม่เหมาะสม ส่งผลกระทบต่อความยั่งยืนทางการเงินและความน่าเชื่อถือขององค์กร.'},\n",
       " 'original_text': 'การทุจริตในกระบวน การเบิกจ่ายค่าใช้จ่าย การจัดซื้อ'}"
      ]
     },
     "execution_count": 16,
     "metadata": {},
     "output_type": "execute_result"
    }
   ],
   "source": [
    "feedback_dict[\"consolidated_feedback\"]"
   ]
  },
  {
   "cell_type": "code",
   "execution_count": 17,
   "metadata": {},
   "outputs": [
    {
     "data": {
      "text/plain": [
       "{'choice1': 'การทุจริตในกระบวนการเบิกจ่ายค่าใช้จ่ายและการจัดซื้อเกิดจากการขาดการตรวจสอบที่เข้มงวด ซึ่งอาจนำไปสู่การใช้จ่ายที่ไม่เหมาะสมและการสูญเสียทรัพยากรทางการเงินที่สำคัญ ส่งผลกระทบต่อความเชื่อมั่นของผู้มีส่วนได้ส่วนเสียและภาพลักษณ์ขององค์กร.',\n",
       " 'choice2': 'การทุจริตในกระบวนการเบิกจ่ายค่าใช้จ่ายและการจัดซื้อมีสาเหตุมาจากการขาดการควบคุมภายในที่มีประสิทธิภาพ ซึ่งอาจทำให้เกิดการจัดซื้อที่ไม่โปร่งใสและการใช้จ่ายที่ไม่จำเป็น ส่งผลให้เกิดความเสียหายทางการเงินและลดประสิทธิภาพในการดำเนินงานขององค์กร.',\n",
       " 'choice3': 'การทุจริตในกระบวนการเบิกจ่ายค่าใช้จ่ายและการจัดซื้อเกิดจากการขาดการฝึกอบรมและความตระหนักรู้ในเรื่องจริยธรรมของพนักงาน ซึ่งอาจนำไปสู่การตัดสินใจที่ไม่ถูกต้องและการใช้จ่ายที่ไม่เหมาะสม ส่งผลกระทบต่อความยั่งยืนทางการเงินและความน่าเชื่อถือขององค์กร.'}"
      ]
     },
     "execution_count": 17,
     "metadata": {},
     "output_type": "execute_result"
    }
   ],
   "source": [
    "feedback_dict[\"consolidated_feedback\"][\"examples\"]"
   ]
  },
  {
   "cell_type": "code",
   "execution_count": null,
   "metadata": {},
   "outputs": [],
   "source": []
  },
  {
   "cell_type": "code",
   "execution_count": null,
   "metadata": {},
   "outputs": [],
   "source": []
  }
 ],
 "metadata": {
  "kernelspec": {
   "display_name": ".venv",
   "language": "python",
   "name": "python3"
  },
  "language_info": {
   "codemirror_mode": {
    "name": "ipython",
    "version": 3
   },
   "file_extension": ".py",
   "mimetype": "text/x-python",
   "name": "python",
   "nbconvert_exporter": "python",
   "pygments_lexer": "ipython3",
   "version": "3.12.2"
  }
 },
 "nbformat": 4,
 "nbformat_minor": 2
}
