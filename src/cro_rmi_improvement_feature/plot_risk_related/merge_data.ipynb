{
 "cells": [
  {
   "cell_type": "code",
   "execution_count": 1,
   "metadata": {},
   "outputs": [
    {
     "name": "stdout",
     "output_type": "stream",
     "text": [
      "569\n"
     ]
    }
   ],
   "source": [
    "import pickle\n",
    "\n",
    "\n",
    "data_path_list = [\n",
    "    \"result/250520-company_risk_data_with_embedding.pkl\",\n",
    "    \"result/250528-company_risk_data_with_embedding.pkl\",\n",
    "]\n",
    "all_data = []\n",
    "for data_path in data_path_list:\n",
    "    with open(data_path, \"rb\") as f:\n",
    "        data = pickle.load(f)\n",
    "    all_data.extend(data)\n",
    "print(len(all_data))\n",
    "# save to new pickle file\n",
    "merge_data_path = \"result/merge-company_risk_data_with_embedding.pkl\"\n",
    "\n",
    "with open(merge_data_path, \"wb\") as f:\n",
    "    pickle.dump(all_data, f)"
   ]
  },
  {
   "cell_type": "code",
   "execution_count": 2,
   "metadata": {},
   "outputs": [
    {
     "data": {
      "text/plain": [
       "array(['Operational Risk', 'Strategic Risk', 'Credit Risk', 'Market Risk',\n",
       "       'Liquidity Risk'], dtype=object)"
      ]
     },
     "execution_count": 2,
     "metadata": {},
     "output_type": "execute_result"
    }
   ],
   "source": [
    "import pandas as pd\n",
    "\n",
    "all_data_df = pd.DataFrame(all_data)\n",
    "all_data_df.risk_cat.unique()"
   ]
  },
  {
   "cell_type": "code",
   "execution_count": null,
   "metadata": {},
   "outputs": [],
   "source": []
  }
 ],
 "metadata": {
  "kernelspec": {
   "display_name": ".venv",
   "language": "python",
   "name": "python3"
  },
  "language_info": {
   "codemirror_mode": {
    "name": "ipython",
    "version": 3
   },
   "file_extension": ".py",
   "mimetype": "text/x-python",
   "name": "python",
   "nbconvert_exporter": "python",
   "pygments_lexer": "ipython3",
   "version": "3.12.2"
  }
 },
 "nbformat": 4,
 "nbformat_minor": 2
}
