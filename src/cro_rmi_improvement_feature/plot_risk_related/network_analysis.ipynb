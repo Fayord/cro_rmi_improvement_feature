{
 "cells": [
  {
   "cell_type": "code",
   "execution_count": 1,
   "metadata": {},
   "outputs": [
    {
     "name": "stdout",
     "output_type": "stream",
     "text": [
      "/Users/ford/Documents/coding_trae/cro_rmi_improvement_feature/src/cro_rmi_improvement_feature/plot_risk_related\n"
     ]
    },
    {
     "data": {
      "text/html": [
       "<div>\n",
       "<style scoped>\n",
       "    .dataframe tbody tr th:only-of-type {\n",
       "        vertical-align: middle;\n",
       "    }\n",
       "\n",
       "    .dataframe tbody tr th {\n",
       "        vertical-align: top;\n",
       "    }\n",
       "\n",
       "    .dataframe thead th {\n",
       "        text-align: right;\n",
       "    }\n",
       "</style>\n",
       "<table border=\"1\" class=\"dataframe\">\n",
       "  <thead>\n",
       "    <tr style=\"text-align: right;\">\n",
       "      <th></th>\n",
       "      <th>company</th>\n",
       "      <th>risk_id</th>\n",
       "      <th>risk_name</th>\n",
       "      <th>in_degree_centrality</th>\n",
       "      <th>out_degree_centrality</th>\n",
       "      <th>betweenness_centrality_weight</th>\n",
       "      <th>betweenness_centrality_non_weight</th>\n",
       "    </tr>\n",
       "  </thead>\n",
       "  <tbody>\n",
       "    <tr>\n",
       "      <th>0</th>\n",
       "      <td>PCG</td>\n",
       "      <td>risk_PCG_0</td>\n",
       "      <td>Accounting errors</td>\n",
       "      <td>0.019231</td>\n",
       "      <td>0.000000</td>\n",
       "      <td>0.0</td>\n",
       "      <td>0.0</td>\n",
       "    </tr>\n",
       "    <tr>\n",
       "      <th>1</th>\n",
       "      <td>PCG</td>\n",
       "      <td>risk_PCG_1</td>\n",
       "      <td>Business interruption from fire hazards</td>\n",
       "      <td>0.000000</td>\n",
       "      <td>0.019231</td>\n",
       "      <td>0.0</td>\n",
       "      <td>0.0</td>\n",
       "    </tr>\n",
       "    <tr>\n",
       "      <th>2</th>\n",
       "      <td>PCG</td>\n",
       "      <td>risk_PCG_2</td>\n",
       "      <td>Business interruption from flood</td>\n",
       "      <td>0.019231</td>\n",
       "      <td>0.000000</td>\n",
       "      <td>0.0</td>\n",
       "      <td>0.0</td>\n",
       "    </tr>\n",
       "    <tr>\n",
       "      <th>3</th>\n",
       "      <td>PCG</td>\n",
       "      <td>risk_PCG_3</td>\n",
       "      <td>Business interruption from labor dispute</td>\n",
       "      <td>NaN</td>\n",
       "      <td>NaN</td>\n",
       "      <td>NaN</td>\n",
       "      <td>NaN</td>\n",
       "    </tr>\n",
       "    <tr>\n",
       "      <th>4</th>\n",
       "      <td>PCG</td>\n",
       "      <td>risk_PCG_4</td>\n",
       "      <td>Business interruption from natural disasters</td>\n",
       "      <td>0.000000</td>\n",
       "      <td>0.019231</td>\n",
       "      <td>0.0</td>\n",
       "      <td>0.0</td>\n",
       "    </tr>\n",
       "  </tbody>\n",
       "</table>\n",
       "</div>"
      ],
      "text/plain": [
       "  company     risk_id                                     risk_name  \\\n",
       "0     PCG  risk_PCG_0                             Accounting errors   \n",
       "1     PCG  risk_PCG_1       Business interruption from fire hazards   \n",
       "2     PCG  risk_PCG_2              Business interruption from flood   \n",
       "3     PCG  risk_PCG_3      Business interruption from labor dispute   \n",
       "4     PCG  risk_PCG_4  Business interruption from natural disasters   \n",
       "\n",
       "   in_degree_centrality  out_degree_centrality  betweenness_centrality_weight  \\\n",
       "0              0.019231               0.000000                            0.0   \n",
       "1              0.000000               0.019231                            0.0   \n",
       "2              0.019231               0.000000                            0.0   \n",
       "3                   NaN                    NaN                            NaN   \n",
       "4              0.000000               0.019231                            0.0   \n",
       "\n",
       "   betweenness_centrality_non_weight  \n",
       "0                                0.0  \n",
       "1                                0.0  \n",
       "2                                0.0  \n",
       "3                                NaN  \n",
       "4                                0.0  "
      ]
     },
     "execution_count": 1,
     "metadata": {},
     "output_type": "execute_result"
    }
   ],
   "source": [
    "import pickle\n",
    "import networkx as nx\n",
    "import pandas as pd\n",
    "import os\n",
    "from utils import get_number_edges_to_show\n",
    "\n",
    "dir_path = os.getcwd()\n",
    "pcg_data_path = f\"{dir_path}/result/nodes_and_edges_PCG.pkl\"\n",
    "lotus_south_data_path = f\"{dir_path}/result/nodes_and_edges_lotus_south.pkl\"\n",
    "data_path_dict = {\"PCG\": pcg_data_path, \"Lotus South\": lotus_south_data_path}\n",
    "data_path_dict = {\"PCG\": pcg_data_path}\n",
    "\n",
    "\n",
    "def filter_non_arrow_edges(edges, slider_value):\n",
    "    new_edges = []\n",
    "    for edge in edges:\n",
    "        if edge[\"data\"][\"arrow_weight\"] != \"none\":\n",
    "            if edge[\"data\"][\"raw_weight\"] >= slider_value:\n",
    "                new_edges.append(edge)\n",
    "    return new_edges\n",
    "\n",
    "\n",
    "debug_list = []\n",
    "all_data_list = []\n",
    "for company, data_path in data_path_dict.items():\n",
    "    G = nx.DiGraph()\n",
    "    data = pickle.load(open(data_path, \"rb\"))\n",
    "\n",
    "    nodes = data[0]\n",
    "    edges = data[1]\n",
    "    line_weights = [edge[\"data\"][\"raw_weight\"] for edge in edges]\n",
    "    # num_edges_to_show = get_number_edges_to_show(len(nodes))\n",
    "    num_edges_to_show = get_number_edges_to_show(100)\n",
    "    sorted_weights = sorted(line_weights, reverse=True)\n",
    "    # The threshold is the weight of the (num_edges_to_show)-th edge (0-indexed)\n",
    "    slider_value = sorted_weights[num_edges_to_show - 1]\n",
    "    filter_edges = filter_non_arrow_edges(edges, slider_value)\n",
    "    for edge in filter_edges:\n",
    "        G.add_edge(\n",
    "            edge[\"data\"][\"source\"],\n",
    "            edge[\"data\"][\"target\"],\n",
    "            weight=edge[\"data\"][\"raw_weight\"],\n",
    "        )\n",
    "        if edge[\"data\"][\"source\"] == \"risk_PCG_40\":\n",
    "            debug_list.append(edge)\n",
    "    in_degree_centrality_dict = nx.in_degree_centrality(G)\n",
    "    out_degree_centrality_dict = nx.out_degree_centrality(G)\n",
    "    betweenness_dict_weight = nx.betweenness_centrality(G, weight=\"weight\")\n",
    "    betweenness_dict_non_weight = nx.betweenness_centrality(G)\n",
    "\n",
    "    # create list of data so I can convert to dataframe later\n",
    "    for node in nodes:\n",
    "        row_data = {\n",
    "            \"company\": company,\n",
    "            \"risk_id\": node[\"data\"][\"id\"],\n",
    "            \"risk_name\": node[\"data\"][\"label\"],\n",
    "            \"in_degree_centrality\": in_degree_centrality_dict.get(\n",
    "                node[\"data\"][\"id\"], None\n",
    "            ),\n",
    "            \"out_degree_centrality\": out_degree_centrality_dict.get(\n",
    "                node[\"data\"][\"id\"], None\n",
    "            ),\n",
    "            \"betweenness_centrality_weight\": betweenness_dict_weight.get(\n",
    "                node[\"data\"][\"id\"], None\n",
    "            ),\n",
    "            \"betweenness_centrality_non_weight\": betweenness_dict_non_weight.get(\n",
    "                node[\"data\"][\"id\"], None\n",
    "            ),\n",
    "        }\n",
    "        all_data_list.append(row_data)\n",
    "# num_edges_to_show = get_number_edges_to_show(total_nodes)\n",
    "\n",
    "# if num_edges_to_show == 0:\n",
    "#     # If showing 0 edges, set threshold higher than max weight\n",
    "#     slider_value = max(line_weights) + 1 if line_weights else float(\"inf\")\n",
    "# elif num_edges_to_show == total_edges:\n",
    "#     # If showing all edges, set threshold lower than min weight\n",
    "#     slider_value = min(line_weights) - 1 if line_weights else float(\"-inf\")\n",
    "# else:\n",
    "#     # Sort weights descending and find the weight at the index corresponding to the number of edges\n",
    "#     sorted_weights = sorted(line_weights, reverse=True)\n",
    "#     # The threshold is the weight of the (num_edges_to_show)-th edge (0-indexed)\n",
    "#     slider_value = sorted_weights[num_edges_to_show - 1]\n",
    "all_data_df = pd.DataFrame(all_data_list)\n",
    "all_data_df.head()"
   ]
  },
  {
   "cell_type": "code",
   "execution_count": 2,
   "metadata": {},
   "outputs": [
    {
     "data": {
      "text/plain": [
       "11"
      ]
     },
     "execution_count": 2,
     "metadata": {},
     "output_type": "execute_result"
    }
   ],
   "source": [
    "len(debug_list)"
   ]
  },
  {
   "cell_type": "code",
   "execution_count": null,
   "metadata": {},
   "outputs": [],
   "source": []
  },
  {
   "cell_type": "code",
   "execution_count": 3,
   "metadata": {},
   "outputs": [
    {
     "data": {
      "text/plain": [
       "160"
      ]
     },
     "execution_count": 3,
     "metadata": {},
     "output_type": "execute_result"
    }
   ],
   "source": [
    "len(filter_edges)"
   ]
  },
  {
   "cell_type": "code",
   "execution_count": null,
   "metadata": {},
   "outputs": [],
   "source": []
  }
 ],
 "metadata": {
  "kernelspec": {
   "display_name": ".venv",
   "language": "python",
   "name": "python3"
  },
  "language_info": {
   "codemirror_mode": {
    "name": "ipython",
    "version": 3
   },
   "file_extension": ".py",
   "mimetype": "text/x-python",
   "name": "python",
   "nbconvert_exporter": "python",
   "pygments_lexer": "ipython3",
   "version": "3.12.2"
  }
 },
 "nbformat": 4,
 "nbformat_minor": 2
}
