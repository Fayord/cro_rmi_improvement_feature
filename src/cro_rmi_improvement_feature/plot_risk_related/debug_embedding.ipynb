{
 "cells": [
  {
   "cell_type": "code",
   "execution_count": 7,
   "metadata": {},
   "outputs": [
    {
     "name": "stdout",
     "output_type": "stream",
     "text": [
      "dict_keys(['elements', 'line_weights'])\n",
      "13695\n",
      "{'data': {'id': 'risk_0', 'label': 'Supply shortage', 'raw_size': np.float64(19361.45423064056), 'size': 1, 'color': 'rgb(75, 192, 192)'}, 'position': {'x': 488.77756783677825, 'y': 484.73783364004663}}\n"
     ]
    }
   ],
   "source": [
    "import pickle\n",
    "\n",
    "data_path = \"/Users/ford/Documents/coding_trae/cro_rmi_improvement_feature/network_risk_catalog_['risk_desc']_62.pkl\"\n",
    "data_path = \"/Users/ford/Documents/coding_trae/cro_rmi_improvement_feature/network_risk_catalog_['risk_desc']_137.pkl\"\n",
    "data = pickle.load(open(data_path, \"rb\"))\n",
    "print(data.keys())\n",
    "elements = data[\"elements\"]\n",
    "print(len(elements))\n",
    "print(elements[0])"
   ]
  },
  {
   "cell_type": "code",
   "execution_count": null,
   "metadata": {},
   "outputs": [
    {
     "name": "stdout",
     "output_type": "stream",
     "text": [
      "13530\n"
     ]
    }
   ],
   "source": [
    "selected_element = []\n",
    "for element in elements:\n",
    "    try:\n",
    "        element[\"data\"][\"source\"]\n",
    "        selected_element.append(element[\"data\"])\n",
    "    except:\n",
    "        pass\n",
    "print(len(selected_element))"
   ]
  },
  {
   "cell_type": "code",
   "execution_count": 16,
   "metadata": {},
   "outputs": [
    {
     "data": {
      "text/plain": [
       "{'source': 'risk_0',\n",
       " 'target': 'risk_1',\n",
       " 'weight': 2,\n",
       " 'raw_weight': np.float64(89.38636116544303),\n",
       " 'color': 'rgb(201, 203, 207)'}"
      ]
     },
     "execution_count": 16,
     "metadata": {},
     "output_type": "execute_result"
    }
   ],
   "source": [
    "selected_element[0]"
   ]
  },
  {
   "cell_type": "code",
   "execution_count": null,
   "metadata": {},
   "outputs": [
    {
     "name": "stdout",
     "output_type": "stream",
     "text": [
      "(13530, 5)\n"
     ]
    },
    {
     "data": {
      "text/html": [
       "<div>\n",
       "<style scoped>\n",
       "    .dataframe tbody tr th:only-of-type {\n",
       "        vertical-align: middle;\n",
       "    }\n",
       "\n",
       "    .dataframe tbody tr th {\n",
       "        vertical-align: top;\n",
       "    }\n",
       "\n",
       "    .dataframe thead th {\n",
       "        text-align: right;\n",
       "    }\n",
       "</style>\n",
       "<table border=\"1\" class=\"dataframe\">\n",
       "  <thead>\n",
       "    <tr style=\"text-align: right;\">\n",
       "      <th></th>\n",
       "      <th>source</th>\n",
       "      <th>target</th>\n",
       "      <th>weight</th>\n",
       "      <th>raw_weight</th>\n",
       "      <th>color</th>\n",
       "    </tr>\n",
       "  </thead>\n",
       "  <tbody>\n",
       "    <tr>\n",
       "      <th>0</th>\n",
       "      <td>risk_0</td>\n",
       "      <td>risk_1</td>\n",
       "      <td>2</td>\n",
       "      <td>89.386361</td>\n",
       "      <td>rgb(201, 203, 207)</td>\n",
       "    </tr>\n",
       "    <tr>\n",
       "      <th>1</th>\n",
       "      <td>risk_0</td>\n",
       "      <td>risk_2</td>\n",
       "      <td>2</td>\n",
       "      <td>108.548054</td>\n",
       "      <td>rgb(201, 203, 207)</td>\n",
       "    </tr>\n",
       "    <tr>\n",
       "      <th>2</th>\n",
       "      <td>risk_0</td>\n",
       "      <td>risk_3</td>\n",
       "      <td>2</td>\n",
       "      <td>117.038358</td>\n",
       "      <td>rgb(201, 203, 207)</td>\n",
       "    </tr>\n",
       "    <tr>\n",
       "      <th>3</th>\n",
       "      <td>risk_0</td>\n",
       "      <td>risk_4</td>\n",
       "      <td>2</td>\n",
       "      <td>109.032463</td>\n",
       "      <td>rgb(201, 203, 207)</td>\n",
       "    </tr>\n",
       "    <tr>\n",
       "      <th>4</th>\n",
       "      <td>risk_0</td>\n",
       "      <td>risk_5</td>\n",
       "      <td>2</td>\n",
       "      <td>115.880411</td>\n",
       "      <td>rgb(201, 203, 207)</td>\n",
       "    </tr>\n",
       "  </tbody>\n",
       "</table>\n",
       "</div>"
      ],
      "text/plain": [
       "   source  target  weight  raw_weight               color\n",
       "0  risk_0  risk_1       2   89.386361  rgb(201, 203, 207)\n",
       "1  risk_0  risk_2       2  108.548054  rgb(201, 203, 207)\n",
       "2  risk_0  risk_3       2  117.038358  rgb(201, 203, 207)\n",
       "3  risk_0  risk_4       2  109.032463  rgb(201, 203, 207)\n",
       "4  risk_0  risk_5       2  115.880411  rgb(201, 203, 207)"
      ]
     },
     "execution_count": 17,
     "metadata": {},
     "output_type": "execute_result"
    }
   ],
   "source": [
    "import pandas as pd\n",
    "\n",
    "df = pd.DataFrame(selected_element)\n",
    "print(df.shape)\n",
    "df.head()"
   ]
  },
  {
   "cell_type": "code",
   "execution_count": null,
   "metadata": {},
   "outputs": [],
   "source": []
  },
  {
   "cell_type": "code",
   "execution_count": null,
   "metadata": {},
   "outputs": [],
   "source": []
  }
 ],
 "metadata": {
  "kernelspec": {
   "display_name": ".venv",
   "language": "python",
   "name": "python3"
  },
  "language_info": {
   "codemirror_mode": {
    "name": "ipython",
    "version": 3
   },
   "file_extension": ".py",
   "mimetype": "text/x-python",
   "name": "python",
   "nbconvert_exporter": "python",
   "pygments_lexer": "ipython3",
   "version": "3.12.2"
  }
 },
 "nbformat": 4,
 "nbformat_minor": 2
}
