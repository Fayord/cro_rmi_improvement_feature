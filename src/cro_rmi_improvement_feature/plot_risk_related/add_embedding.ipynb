{
 "cells": [
  {
   "cell_type": "code",
   "execution_count": 1,
   "metadata": {},
   "outputs": [
    {
     "name": "stderr",
     "output_type": "stream",
     "text": [
      "/Users/ford/Documents/coding_trae/cro_rmi_improvement_feature/.venv/lib/python3.12/site-packages/tqdm/auto.py:21: TqdmWarning: IProgress not found. Please update jupyter and ipywidgets. See https://ipywidgets.readthedocs.io/en/stable/user_install.html\n",
      "  from .autonotebook import tqdm as notebook_tqdm\n"
     ]
    }
   ],
   "source": [
    "import openai\n",
    "from dotenv import load_dotenv\n",
    "import os\n",
    "import sys\n",
    "\n",
    "sys.path.append(\"../find_similar_risk\")\n",
    "from embedding_providers import (\n",
    "    OpenAIEmbeddingProvider,\n",
    "    SentenceTransformerProvider,\n",
    "    GeminiEmbeddingProvider,\n",
    ")\n",
    "\n",
    "env_path = \"/Users/ford/Documents/coding/confidential/.env\"\n",
    "load_dotenv(env_path)\n",
    "api_key = os.getenv(\"OPENAI_API_KEY\")\n",
    "assert api_key, \"API key is missing\"\n",
    "# Set your OpenAI API key\n",
    "openai.api_key = api_key\n",
    "\n",
    "# Initialize embedding providers with caching\n",
    "embedding_models = {\n",
    "    \"openai-large\": OpenAIEmbeddingProvider(model_name=\"text-embedding-3-large\"),\n",
    "}"
   ]
  },
  {
   "cell_type": "code",
   "execution_count": 2,
   "metadata": {},
   "outputs": [],
   "source": [
    "test_input_sentence = \"test_input_sentence\"\n",
    "result = embedding_models[\"openai-large\"].get_embedding(test_input_sentence)"
   ]
  },
  {
   "cell_type": "code",
   "execution_count": 3,
   "metadata": {},
   "outputs": [
    {
     "data": {
      "text/plain": [
       "'a'"
      ]
     },
     "execution_count": 3,
     "metadata": {},
     "output_type": "execute_result"
    }
   ],
   "source": [
    "# test_tuple_key_dict\n",
    "a_dict = {}\n",
    "a_dict[tuple(sorted([1, 2]))] = \"a\"\n",
    "a_dict[tuple(sorted([2, 1]))]"
   ]
  },
  {
   "cell_type": "code",
   "execution_count": 4,
   "metadata": {},
   "outputs": [
    {
     "data": {
      "text/plain": [
       "[{'company': 'lotus_south',\n",
       "  'risk_cat': 'Operational Risk',\n",
       "  'risk': 'Business interruption from fire hazards',\n",
       "  'risk_desc': 'The business interruption due to a fire incident that occurs within the workplace premises can result in damage to buildings, property, and various equipment. This damage may necessitate a temporary or permanent cessation of business operations.\\n\\nBusiness interruption: refers to a period during which normal business operations are disrupted or halted, resulting in reduced operational efficiency, loss of revenue, or increased costs. 火灾事故导致的业务中断，可能会对建筑物、财产和各种设备造成损害。这种损害可能需要暂时或永久停止商业运营。',\n",
       "  'risk_level': 2,\n",
       "  'rootcause': 'rootcause :Insufficient Maintenance of Fire Safety Equipment: 消防措施不足；电气系统维护不当。',\n",
       "  'process': 'process :Facilities Management: 安全维保部, Maintenance: 安全维保部'},\n",
       " {'company': 'lotus_south',\n",
       "  'risk_cat': 'Operational Risk',\n",
       "  'risk': 'Business interruption from natural disasters',\n",
       "  'risk_desc': 'Business interruption from natural disasters such as earthquake, hurricanes, or wildfires that can disrupt business operations.\\n\\nBusiness interruption: refers to a period during which normal business operations are disrupted or halted, resulting in reduced operational efficiency, loss of revenue, or increased costs. 台风/暴雨自然灾害风险造成中断营业',\n",
       "  'risk_level': 1,\n",
       "  'rootcause': 'rootcause :Lack of Emergency Response Training: 不可抗力因素，缺乏应急预案, Absence of a Comprehensive Disaster Recovery Plan: 灾后恢复能力不足\\n',\n",
       "  'process': 'process :Health, Safety, and Environment (HSE): 安全维保部'},\n",
       " {'company': 'lotus_south',\n",
       "  'risk_cat': 'Operational Risk',\n",
       "  'risk': 'Business interruption from pandemic or epidemic',\n",
       "  'risk_desc': 'Business interruption from pandemic or epidemic involves outbreaks of infectious diseases that can lead to closures, quarantines, or reduced workforce availability, affecting business continuity.\\n\\nBusiness interruption: refers to a period during which normal business operations are disrupted or halted, resulting in reduced operational efficiency, loss of revenue, or increased costs. 疫情或流行病导致的商业中断涉及传染病的爆发，这可能导致关闭、隔离或减少劳动力可用性，从而影响商业连续性。',\n",
       "  'risk_level': 2,\n",
       "  'rootcause': 'rootcause :Other: 对健康危机准备不足；依赖实体店运营。',\n",
       "  'process': 'process :Health, Safety, and Environment (HSE): 安全维保部'}]"
      ]
     },
     "execution_count": 4,
     "metadata": {},
     "output_type": "execute_result"
    }
   ],
   "source": [
    "import json\n",
    "import os\n",
    "\n",
    "# file_name = \"result/250327-company_risk_data\"\n",
    "file_name = \"result/250520-company_risk_data\"\n",
    "# file_name = \"result/250528-company_risk_data\"\n",
    "data_path = f\"{file_name}.json\"\n",
    "data = json.load(open(data_path))\n",
    "data[:3]"
   ]
  },
  {
   "cell_type": "code",
   "execution_count": 5,
   "metadata": {},
   "outputs": [
    {
     "name": "stderr",
     "output_type": "stream",
     "text": [
      "Embedding rows: 100%|██████████| 269/269 [00:02<00:00, 112.00it/s]\n"
     ]
    }
   ],
   "source": [
    "from itertools import combinations\n",
    "from tqdm import tqdm\n",
    "\n",
    "data_with_embedding = data.copy()\n",
    "interest_columns = [\"risk_desc\", \"rootcause\", \"process\"]  # example list\n",
    "all_combinations = []\n",
    "for r in range(1, len(interest_columns) + 1):\n",
    "    all_combinations.extend(combinations(interest_columns, r))\n",
    "all_combinations = [list(c) for c in all_combinations]\n",
    "all_combinations = [[\"risk\"] + c for c in all_combinations]\n",
    "all_combinations = [[\"risk\"]] + all_combinations\n",
    "for i in tqdm(range(len(data_with_embedding)), desc=\"Embedding rows\"):\n",
    "    for combination in all_combinations:\n",
    "        interest_columns = combination\n",
    "        key = tuple(sorted(interest_columns + [\"embedding\"]))\n",
    "        data_list = []\n",
    "        for column in interest_columns:\n",
    "            data_list.append(data_with_embedding[i][column])\n",
    "        try:\n",
    "            data = \"\\n\".join(data_list)\n",
    "        except:\n",
    "            print(data_list)\n",
    "            raise\n",
    "        data_with_embedding[i][key] = embedding_models[\"openai-large\"].get_embedding(\n",
    "            data\n",
    "        )"
   ]
  },
  {
   "cell_type": "code",
   "execution_count": 6,
   "metadata": {},
   "outputs": [
    {
     "data": {
      "text/plain": [
       "[{'company': 'lotus_south',\n",
       "  'risk_cat': 'Operational Risk',\n",
       "  'risk': 'Business interruption from fire hazards',\n",
       "  'risk_desc': 'The business interruption due to a fire incident that occurs within the workplace premises can result in damage to buildings, property, and various equipment. This damage may necessitate a temporary or permanent cessation of business operations.\\n\\nBusiness interruption: refers to a period during which normal business operations are disrupted or halted, resulting in reduced operational efficiency, loss of revenue, or increased costs. 火灾事故导致的业务中断，可能会对建筑物、财产和各种设备造成损害。这种损害可能需要暂时或永久停止商业运营。',\n",
       "  'risk_level': 2,\n",
       "  'rootcause': 'rootcause :Insufficient Maintenance of Fire Safety Equipment: 消防措施不足；电气系统维护不当。',\n",
       "  'process': 'process :Facilities Management: 安全维保部, Maintenance: 安全维保部',\n",
       "  ('embedding',\n",
       "   'risk'): array([ 0.00782128, -0.01295227, -0.00216153, ..., -0.00683146,\n",
       "          0.00437382, -0.00690337], shape=(3072,)),\n",
       "  ('embedding',\n",
       "   'risk',\n",
       "   'risk_desc'): array([ 0.01170064,  0.00102205, -0.00721529, ..., -0.00311205,\n",
       "         -0.01791473, -0.00620074], shape=(3072,)),\n",
       "  ('embedding',\n",
       "   'risk',\n",
       "   'rootcause'): array([ 0.01885137,  0.00794408,  0.00091111, ..., -0.00504043,\n",
       "          0.00176173, -0.00507021], shape=(3072,)),\n",
       "  ('embedding',\n",
       "   'process',\n",
       "   'risk'): array([ 0.01212062, -0.01234647,  0.00042556, ..., -0.0090591 ,\n",
       "          0.01269779, -0.00463829], shape=(3072,)),\n",
       "  ('embedding',\n",
       "   'risk',\n",
       "   'risk_desc',\n",
       "   'rootcause'): array([ 0.01418556, -0.00051819, -0.0025956 , ..., -0.0022979 ,\n",
       "         -0.01167741, -0.01156577], shape=(3072,)),\n",
       "  ('embedding',\n",
       "   'process',\n",
       "   'risk',\n",
       "   'risk_desc'): array([ 0.01000435,  0.00412917, -0.00348322, ..., -0.00341809,\n",
       "         -0.0136935 , -0.00764583], shape=(3072,)),\n",
       "  ('embedding',\n",
       "   'process',\n",
       "   'risk',\n",
       "   'rootcause'): array([ 0.01512319, -0.00494337, -0.00349748, ..., -0.00185914,\n",
       "          0.00133744, -0.00587733], shape=(3072,)),\n",
       "  ('embedding',\n",
       "   'process',\n",
       "   'risk',\n",
       "   'risk_desc',\n",
       "   'rootcause'): array([ 0.0141836 , -0.00015173, -0.00340144, ..., -0.00256093,\n",
       "         -0.01159453, -0.01130185], shape=(3072,))}]"
      ]
     },
     "execution_count": 6,
     "metadata": {},
     "output_type": "execute_result"
    }
   ],
   "source": [
    "data_with_embedding[:1]"
   ]
  },
  {
   "cell_type": "code",
   "execution_count": 7,
   "metadata": {},
   "outputs": [],
   "source": [
    "# save data_with_embedding to pickle\n",
    "import pickle\n",
    "\n",
    "with open(f\"{file_name}_with_embedding.pkl\", \"wb\") as f:\n",
    "    pickle.dump(data_with_embedding, f)"
   ]
  },
  {
   "cell_type": "code",
   "execution_count": null,
   "metadata": {},
   "outputs": [],
   "source": []
  },
  {
   "cell_type": "code",
   "execution_count": null,
   "metadata": {},
   "outputs": [],
   "source": []
  }
 ],
 "metadata": {
  "kernelspec": {
   "display_name": ".venv",
   "language": "python",
   "name": "python3"
  },
  "language_info": {
   "codemirror_mode": {
    "name": "ipython",
    "version": 3
   },
   "file_extension": ".py",
   "mimetype": "text/x-python",
   "name": "python",
   "nbconvert_exporter": "python",
   "pygments_lexer": "ipython3",
   "version": "3.12.2"
  }
 },
 "nbformat": 4,
 "nbformat_minor": 2
}
