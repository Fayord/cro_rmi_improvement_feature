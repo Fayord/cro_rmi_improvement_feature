{
 "cells": [
  {
   "cell_type": "code",
   "execution_count": 1,
   "metadata": {},
   "outputs": [
    {
     "name": "stderr",
     "output_type": "stream",
     "text": [
      "/Users/ford/Documents/coding_trae/cro_rmi_improvement_feature/.venv/lib/python3.12/site-packages/tqdm/auto.py:21: TqdmWarning: IProgress not found. Please update jupyter and ipywidgets. See https://ipywidgets.readthedocs.io/en/stable/user_install.html\n",
      "  from .autonotebook import tqdm as notebook_tqdm\n"
     ]
    }
   ],
   "source": [
    "import openai\n",
    "from dotenv import load_dotenv\n",
    "import os\n",
    "import sys\n",
    "\n",
    "sys.path.append(\"../find_similar_risk\")\n",
    "from embedding_providers import (\n",
    "    OpenAIEmbeddingProvider,\n",
    "    SentenceTransformerProvider,\n",
    "    GeminiEmbeddingProvider,\n",
    ")\n",
    "\n",
    "env_path = \"/Users/ford/Documents/coding/confidential/.env\"\n",
    "load_dotenv(env_path)\n",
    "api_key = os.getenv(\"OPENAI_API_KEY\")\n",
    "assert api_key, \"API key is missing\"\n",
    "# Set your OpenAI API key\n",
    "openai.api_key = api_key\n",
    "\n",
    "# Initialize embedding providers with caching\n",
    "embedding_models = {\n",
    "    \"openai-large\": OpenAIEmbeddingProvider(model_name=\"text-embedding-3-large\"),\n",
    "}"
   ]
  },
  {
   "cell_type": "code",
   "execution_count": 2,
   "metadata": {},
   "outputs": [],
   "source": [
    "test_input_sentence = \"test_input_sentence\"\n",
    "result = embedding_models[\"openai-large\"].get_embedding(test_input_sentence)"
   ]
  },
  {
   "cell_type": "code",
   "execution_count": 3,
   "metadata": {},
   "outputs": [
    {
     "data": {
      "text/plain": [
       "'a'"
      ]
     },
     "execution_count": 3,
     "metadata": {},
     "output_type": "execute_result"
    }
   ],
   "source": [
    "# test_tuple_key_dict\n",
    "a_dict = {}\n",
    "a_dict[tuple(sorted([1, 2]))] = \"a\"\n",
    "a_dict[tuple(sorted([2, 1]))]"
   ]
  },
  {
   "cell_type": "code",
   "execution_count": 4,
   "metadata": {},
   "outputs": [
    {
     "data": {
      "text/plain": [
       "[{'company': 'Advance AQ',\n",
       "  'risk_cat': 'Operational risk',\n",
       "  'risk': 'After-sale service-related dissatisfaction',\n",
       "  'risk_desc': 'The risk of customers experiencing dissatisfaction with the post-purchase support, assistance, or follow-up provided by the organization, leading to negative perceptions, reviews, or repurchase behavior. ขั้นตอนในการเคลมสินค้า เพื่อขอชดเชย มีหลายขั้นตอน ซึ่งขึ้นอยู่แต่ละปัญหาของสินค้า',\n",
       "  'risk_level': 1.0,\n",
       "  'rootcause': 'rootcause :ขั้นตอนการคืนสินค้า การแลกเปลี่ยน หรือการคืนเงินที่ซับซ้อน ยืดเยื้อ หรือไม่มีประสิทธิภาพ ส่งผลกระทบต่อความสามารถของลูกค้าในการหาทางแก้ไขปัญหาที่เกี่ยวข้องกับผลิตภัณฑ์\\nrootcause_desc :ขั้นตอนการตรวจสอบการคืนสินค้าที่มีปัญหา หลายขั้นตอน และใช้เวลานาน',\n",
       "  'process': 'process :Procurement,Research and Development\\nprocess_desc :กระบวนการเคลมสินค้า กับ Supplier ต้องมีหลักฐานเอกสารประกอบ,ต้องทำการตรวจสอบจากหน่วยงาน R&D ก่อน'},\n",
       " {'company': 'Advance AQ',\n",
       "  'risk_cat': 'Strategic Risk',\n",
       "  'risk': 'Air pollution',\n",
       "  'risk_desc': 'The presence of harmful substances in the air that can adversely affect health, environment, and quality of life.',\n",
       "  'risk_level': 2.0,\n",
       "  'rootcause': 'rootcause :ฝุ่นจากกระบวนการผลิต\\nrootcause_desc :ฝุ่นจากกระบวนการผลิต',\n",
       "  'process': 'process :Health, Safety, and Environment (HSE),Production'},\n",
       " {'company': 'Advance AQ',\n",
       "  'risk_cat': 'Strategic Risk',\n",
       "  'risk': 'Animal or insect infestation',\n",
       "  'risk_desc': 'Risk of the invasion and proliferation of pests, such as rodents, insects, or other animals, in homes, businesses, or agricultural settings. มีผลต่อคุณภาพในการจัดเก็บสินค้า',\n",
       "  'risk_level': 1.0,\n",
       "  'rootcause': 'rootcause :วิธีการและเทคโนโลยีการควบคุมศัตรูพืชที่ไม่เหมาะสม',\n",
       "  'process': 'process :Quality Assurance,Warehouse'}]"
      ]
     },
     "execution_count": 4,
     "metadata": {},
     "output_type": "execute_result"
    }
   ],
   "source": [
    "import json\n",
    "import os\n",
    "\n",
    "data_path = \"company_risk_data.json\"\n",
    "data = json.load(open(data_path))\n",
    "data[:3]"
   ]
  },
  {
   "cell_type": "code",
   "execution_count": 5,
   "metadata": {},
   "outputs": [
    {
     "name": "stderr",
     "output_type": "stream",
     "text": [
      "Embedding rows: 100%|██████████| 305/305 [08:54<00:00,  1.75s/it]  \n"
     ]
    }
   ],
   "source": [
    "from itertools import combinations\n",
    "from tqdm import tqdm\n",
    "\n",
    "data_with_embedding = data.copy()\n",
    "interest_columns = [\"risk_desc\", \"rootcause\", \"process\"]  # example list\n",
    "all_combinations = []\n",
    "for r in range(1, len(interest_columns) + 1):\n",
    "    all_combinations.extend(combinations(interest_columns, r))\n",
    "all_combinations = [list(c) for c in all_combinations]\n",
    "all_combinations = [[\"risk\"] + c for c in all_combinations]\n",
    "all_combinations = [[\"risk\"]] + all_combinations\n",
    "for i in tqdm(range(len(data_with_embedding)), desc=\"Embedding rows\"):\n",
    "    for combinations in all_combinations:\n",
    "        interest_columns = combinations\n",
    "        key = tuple(sorted(interest_columns + [\"embedding\"]))\n",
    "        data_list = []\n",
    "        for column in interest_columns:\n",
    "            data_list.append(data_with_embedding[i][column])\n",
    "        try:\n",
    "            data = \"\\n\".join(data_list)\n",
    "        except:\n",
    "            print(data_list)\n",
    "            raise\n",
    "        data_with_embedding[i][key] = embedding_models[\"openai-large\"].get_embedding(\n",
    "            data\n",
    "        )"
   ]
  },
  {
   "cell_type": "code",
   "execution_count": 6,
   "metadata": {},
   "outputs": [
    {
     "data": {
      "text/plain": [
       "[{'company': 'Advance AQ',\n",
       "  'risk_cat': 'Operational risk',\n",
       "  'risk': 'After-sale service-related dissatisfaction',\n",
       "  'risk_desc': 'The risk of customers experiencing dissatisfaction with the post-purchase support, assistance, or follow-up provided by the organization, leading to negative perceptions, reviews, or repurchase behavior. ขั้นตอนในการเคลมสินค้า เพื่อขอชดเชย มีหลายขั้นตอน ซึ่งขึ้นอยู่แต่ละปัญหาของสินค้า',\n",
       "  'risk_level': 1.0,\n",
       "  'rootcause': 'rootcause :ขั้นตอนการคืนสินค้า การแลกเปลี่ยน หรือการคืนเงินที่ซับซ้อน ยืดเยื้อ หรือไม่มีประสิทธิภาพ ส่งผลกระทบต่อความสามารถของลูกค้าในการหาทางแก้ไขปัญหาที่เกี่ยวข้องกับผลิตภัณฑ์\\nrootcause_desc :ขั้นตอนการตรวจสอบการคืนสินค้าที่มีปัญหา หลายขั้นตอน และใช้เวลานาน',\n",
       "  'process': 'process :Procurement,Research and Development\\nprocess_desc :กระบวนการเคลมสินค้า กับ Supplier ต้องมีหลักฐานเอกสารประกอบ,ต้องทำการตรวจสอบจากหน่วยงาน R&D ก่อน',\n",
       "  ('embedding',\n",
       "   'risk'): array([ 0.00843114, -0.01816072, -0.01205196, ..., -0.00681027,\n",
       "          0.00574712,  0.00036546], shape=(3072,)),\n",
       "  ('embedding',\n",
       "   'risk',\n",
       "   'risk_desc'): array([ 0.00359323, -0.03585002, -0.00583214, ..., -0.00573271,\n",
       "         -0.00154804,  0.00462526], shape=(3072,)),\n",
       "  ('embedding',\n",
       "   'risk',\n",
       "   'rootcause'): array([-0.00031948, -0.02118695, -0.00881876, ..., -0.00511515,\n",
       "          0.01373863,  0.01069626], shape=(3072,)),\n",
       "  ('embedding',\n",
       "   'process',\n",
       "   'risk'): array([ 0.0011035 , -0.04381788, -0.00733418, ..., -0.01263171,\n",
       "          0.0120327 ,  0.01428649], shape=(3072,)),\n",
       "  ('embedding',\n",
       "   'risk',\n",
       "   'risk_desc',\n",
       "   'rootcause'): array([ 0.00410914, -0.02385819, -0.01287252, ..., -0.00786887,\n",
       "          0.00649566,  0.01299132], shape=(3072,)),\n",
       "  ('embedding',\n",
       "   'process',\n",
       "   'risk',\n",
       "   'risk_desc'): array([ 0.00610544, -0.03379004, -0.01188205, ..., -0.0088275 ,\n",
       "         -0.00295042,  0.01106361], shape=(3072,)),\n",
       "  ('embedding',\n",
       "   'process',\n",
       "   'risk',\n",
       "   'rootcause'): array([-0.00303896, -0.03626733, -0.00704682, ..., -0.00835178,\n",
       "          0.00843044,  0.01050408], shape=(3072,)),\n",
       "  ('embedding',\n",
       "   'process',\n",
       "   'risk',\n",
       "   'risk_desc',\n",
       "   'rootcause'): array([ 0.00398153, -0.03281658, -0.01079762, ..., -0.01056384,\n",
       "          0.00055705,  0.0149764 ], shape=(3072,))}]"
      ]
     },
     "execution_count": 6,
     "metadata": {},
     "output_type": "execute_result"
    }
   ],
   "source": [
    "data_with_embedding[:1]"
   ]
  },
  {
   "cell_type": "code",
   "execution_count": 7,
   "metadata": {},
   "outputs": [],
   "source": [
    "# save data_with_embedding to pickle\n",
    "import pickle\n",
    "\n",
    "with open(\"company_risk_data_with_embedding.pkl\", \"wb\") as f:\n",
    "    pickle.dump(data_with_embedding, f)"
   ]
  },
  {
   "cell_type": "code",
   "execution_count": null,
   "metadata": {},
   "outputs": [],
   "source": []
  },
  {
   "cell_type": "code",
   "execution_count": null,
   "metadata": {},
   "outputs": [],
   "source": []
  }
 ],
 "metadata": {
  "kernelspec": {
   "display_name": ".venv",
   "language": "python",
   "name": "python3"
  },
  "language_info": {
   "codemirror_mode": {
    "name": "ipython",
    "version": 3
   },
   "file_extension": ".py",
   "mimetype": "text/x-python",
   "name": "python",
   "nbconvert_exporter": "python",
   "pygments_lexer": "ipython3",
   "version": "3.12.2"
  }
 },
 "nbformat": 4,
 "nbformat_minor": 2
}
