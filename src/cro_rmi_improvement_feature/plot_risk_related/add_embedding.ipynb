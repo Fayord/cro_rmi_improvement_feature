{
 "cells": [
  {
   "cell_type": "code",
   "execution_count": 1,
   "metadata": {},
   "outputs": [
    {
     "name": "stderr",
     "output_type": "stream",
     "text": [
      "/Users/ford/Documents/coding_trae/cro_rmi_improvement_feature/.venv/lib/python3.12/site-packages/tqdm/auto.py:21: TqdmWarning: IProgress not found. Please update jupyter and ipywidgets. See https://ipywidgets.readthedocs.io/en/stable/user_install.html\n",
      "  from .autonotebook import tqdm as notebook_tqdm\n"
     ]
    }
   ],
   "source": [
    "import openai\n",
    "from dotenv import load_dotenv\n",
    "import os\n",
    "import sys\n",
    "\n",
    "sys.path.append(\"../find_similar_risk\")\n",
    "from embedding_providers import (\n",
    "    OpenAIEmbeddingProvider,\n",
    "    SentenceTransformerProvider,\n",
    "    GeminiEmbeddingProvider,\n",
    ")\n",
    "\n",
    "env_path = \"/Users/ford/Documents/coding/confidential/.env\"\n",
    "load_dotenv(env_path)\n",
    "api_key = os.getenv(\"OPENAI_API_KEY\")\n",
    "assert api_key, \"API key is missing\"\n",
    "# Set your OpenAI API key\n",
    "openai.api_key = api_key\n",
    "\n",
    "# Initialize embedding providers with caching\n",
    "embedding_models = {\n",
    "    \"openai-large\": OpenAIEmbeddingProvider(model_name=\"text-embedding-3-large\"),\n",
    "}"
   ]
  },
  {
   "cell_type": "code",
   "execution_count": 2,
   "metadata": {},
   "outputs": [],
   "source": [
    "test_input_sentence = \"test_input_sentence\"\n",
    "result = embedding_models[\"openai-large\"].get_embedding(test_input_sentence)"
   ]
  },
  {
   "cell_type": "code",
   "execution_count": 3,
   "metadata": {},
   "outputs": [
    {
     "data": {
      "text/plain": [
       "'a'"
      ]
     },
     "execution_count": 3,
     "metadata": {},
     "output_type": "execute_result"
    }
   ],
   "source": [
    "# test_tuple_key_dict\n",
    "a_dict = {}\n",
    "a_dict[tuple(sorted([1, 2]))] = \"a\"\n",
    "a_dict[tuple(sorted([2, 1]))]"
   ]
  },
  {
   "cell_type": "code",
   "execution_count": 4,
   "metadata": {},
   "outputs": [
    {
     "data": {
      "text/plain": [
       "[{'company': 'PCG',\n",
       "  'risk_cat': 'Operational Risk',\n",
       "  'risk': 'Accounting errors',\n",
       "  'risk_desc': \"Accounting error refers to inaccuracies in the recording, calculation, or reporting of financial transactions within an organization's accounting system. These errors can vary from simple mathematical mistakes to more complex issues like misapplication of accounting principles or estimation errors. การแจ้งรายละเอียดค่าใช้จ่ายที่เกิดขึ้นในคลังมีความคลาดเคลื่อน ส่งผลให้ค่าใช้จ่ายด้านโลจิสติกส์ (Logistic Cost) ไม่สะท้อนถึงความเป็นจริง และอาจทำให้การคำนวณค่าใช้จ่ายไม่สมเหตุสมผล\",\n",
       "  'risk_level': 1,\n",
       "  'rootcause': 'rootcause :Mistakes in calculations, data entry, or judgment errors during the accounting process: -',\n",
       "  'process': 'process :Finance and Accounting: -'},\n",
       " {'company': 'PCG',\n",
       "  'risk_cat': 'Operational Risk',\n",
       "  'risk': 'Business interruption from fire hazards',\n",
       "  'risk_desc': 'The business interruption due to a fire incident that occurs within the workplace premises can result in damage to buildings, property, and various equipment. This damage may necessitate a temporary or permanent cessation of business operations.\\n\\nBusiness interruption: refers to a period during which normal business operations are disrupted or halted, resulting in reduced operational efficiency, loss of revenue, or increased costs. เกิดเพลิงไหม้อาคารคลังสินค้า ส่งผลให้อาคารคลังสินค้า รวมถึงสินค้าได้รับความเสียหาย,กระบวนการทำงานของบริษัทมีความเสี่ยงที่อาจก่อให้เกิดเพลิงไหม้ได้',\n",
       "  'risk_level': 2,\n",
       "  'rootcause': 'rootcause :Negligence or Human Error in Handling Flammable Materials: เช่น พนักงานไม่ปฏิบัติตามข้อบังคับความปลอดภัยในการจัดเก็บสารเคมีไวไฟ, Inadequate Fire Safety Training: เช่น พนักงานไม่ได้รับการอบรมดับเพลิงขั้นต้นตามที่กฎหมายกำหนด, ทีมดับเพลิงของบริษัทไม่ได้รับการอบรมในการตอบโต้เหตุฉุกเฉิน, Lack of a Fire Emergency Response Plan: เช่น แผนการตอบสนองเหตุเพลิงไหม้ไม่มีการ update หรือ ไม่มีการฝึกซ้อมแผนประจำปี, Poor Emergency Communication Procedures: เช่น ไม่มีการอบรมวิธีการป้องกันและระงับอัคคีภัยให้กับพนักงาน หรือ เจ้าหน้าที่ที่เกี่ยวข้อง, Insufficient Maintenance of Fire Safety Equipment: เช่น ไม่มีการตรวจอุปกรณ์ดับเพลิงตามแผนท่กำหนดไว้ ทำใหอุปกรณ์ไม่พร้อมใช้งาน,Inadequate Fire Safety Training: -, Insufficient Maintenance of Fire Safety Equipment: -, Lack of Automatic Fire Suppression Systems: -',\n",
       "  'process': 'process :Maintenance: -, Engineering: -, Production: -, Health, Safety, and Environment (HSE): -, Packing: -,Distribution Center (DC): -'},\n",
       " {'company': 'PCG',\n",
       "  'risk_cat': 'Operational Risk',\n",
       "  'risk': 'Business interruption from flood',\n",
       "  'risk_desc': 'The business interruption due to flooding in the workplace or business premises can cause damage to property, equipment, and technology, potentially leading to a temporary or permanent cessation of operations.\\n\\nBusiness interruption: refers to a period during which normal business operations are disrupted or halted, resulting in reduced operational efficiency, loss of revenue, or increased costs. น้ำท่วมพื้นที่คลังสินค้า หรือบริเวณใกล้เคียง',\n",
       "  'risk_level': 1,\n",
       "  'rootcause': 'rootcause :Inadequate Emergency Training: -, Poor Communication During Emergencies: -, Lack of Awareness of Flood Risks: -, Inadequate Regular Maintenance of Infrastructure: -, Insufficient Flood Monitoring and Alert Systems: -, Lack of Waterproofing and Flood-Proofing Technologies: -',\n",
       "  'process': 'process :Distribution Center (DC): -'}]"
      ]
     },
     "execution_count": 4,
     "metadata": {},
     "output_type": "execute_result"
    }
   ],
   "source": [
    "import json\n",
    "import os\n",
    "\n",
    "# file_name = \"result/250327-company_risk_data\"\n",
    "# file_name = \"result/250520-company_risk_data\"\n",
    "file_name = \"result/250528-company_risk_data\"\n",
    "data_path = f\"{file_name}.json\"\n",
    "data = json.load(open(data_path))\n",
    "# remove risk_level key\n",
    "# for i in data:\n",
    "#     del i[\"risk_level\"]\n",
    "data[:3]"
   ]
  },
  {
   "cell_type": "code",
   "execution_count": 5,
   "metadata": {},
   "outputs": [
    {
     "name": "stderr",
     "output_type": "stream",
     "text": [
      "Embedding rows:   1%|          | 2/300 [00:00<00:20, 14.47it/s]"
     ]
    },
    {
     "name": "stderr",
     "output_type": "stream",
     "text": [
      "Embedding rows: 100%|██████████| 300/300 [00:03<00:00, 88.11it/s] \n"
     ]
    }
   ],
   "source": [
    "from itertools import combinations\n",
    "from tqdm import tqdm\n",
    "\n",
    "data_with_embedding = data.copy()\n",
    "interest_columns = [\"risk_desc\", \"rootcause\", \"process\"]  # example list\n",
    "all_combinations = []\n",
    "for r in range(1, len(interest_columns) + 1):\n",
    "    all_combinations.extend(combinations(interest_columns, r))\n",
    "all_combinations = [list(c) for c in all_combinations]\n",
    "all_combinations = [[\"risk\"] + c for c in all_combinations]\n",
    "all_combinations = [[\"risk\"]] + all_combinations\n",
    "for i in tqdm(range(len(data_with_embedding)), desc=\"Embedding rows\"):\n",
    "    for combination in all_combinations:\n",
    "        interest_columns = combination\n",
    "        key = tuple(sorted(interest_columns + [\"embedding\"]))\n",
    "        data_list = []\n",
    "        for column in interest_columns:\n",
    "            data_list.append(data_with_embedding[i][column])\n",
    "        try:\n",
    "            data = \"\\n\".join(data_list)\n",
    "        except:\n",
    "            print(data_list)\n",
    "            raise\n",
    "        data_with_embedding[i][key] = embedding_models[\"openai-large\"].get_embedding(\n",
    "            data\n",
    "        )"
   ]
  },
  {
   "cell_type": "code",
   "execution_count": 6,
   "metadata": {},
   "outputs": [
    {
     "name": "stdout",
     "output_type": "stream",
     "text": [
      "<class 'str'>\n"
     ]
    },
    {
     "data": {
      "text/plain": [
       "'Non-compliance with laws/regulations related to OT\\nThis risk refers to situation where the organization does not comply with laws and regulations related to Operational Technology, such as\\n- The Cybersecurity Act (especially for Critical Services)\\n\\n- Lack of standardized OT Policies/Processes/Procedures\\n- Lack of OT related Laws/Regulations Awareness\\n- Lack of effective monitoring for Cybersecurity Act (Critical Services)\\n- Inadequate compliance management systems\\n'"
      ]
     },
     "execution_count": 6,
     "metadata": {},
     "output_type": "execute_result"
    }
   ],
   "source": [
    "print(type(data))\n",
    "data"
   ]
  },
  {
   "cell_type": "code",
   "execution_count": 7,
   "metadata": {},
   "outputs": [
    {
     "data": {
      "text/plain": [
       "[{'company': 'PCG',\n",
       "  'risk_cat': 'Operational Risk',\n",
       "  'risk': 'Accounting errors',\n",
       "  'risk_desc': \"Accounting error refers to inaccuracies in the recording, calculation, or reporting of financial transactions within an organization's accounting system. These errors can vary from simple mathematical mistakes to more complex issues like misapplication of accounting principles or estimation errors. การแจ้งรายละเอียดค่าใช้จ่ายที่เกิดขึ้นในคลังมีความคลาดเคลื่อน ส่งผลให้ค่าใช้จ่ายด้านโลจิสติกส์ (Logistic Cost) ไม่สะท้อนถึงความเป็นจริง และอาจทำให้การคำนวณค่าใช้จ่ายไม่สมเหตุสมผล\",\n",
       "  'risk_level': 1,\n",
       "  'rootcause': 'rootcause :Mistakes in calculations, data entry, or judgment errors during the accounting process: -',\n",
       "  'process': 'process :Finance and Accounting: -',\n",
       "  ('embedding',\n",
       "   'risk'): array([-0.01385025,  0.04698864,  0.00528706, ...,  0.00213661,\n",
       "         -0.0024173 ,  0.00280692], shape=(3072,)),\n",
       "  ('embedding',\n",
       "   'risk',\n",
       "   'risk_desc'): array([-0.01377645,  0.01044742, -0.01182282, ..., -0.01230562,\n",
       "          0.01114916,  0.00063753], shape=(3072,)),\n",
       "  ('embedding',\n",
       "   'risk',\n",
       "   'rootcause'): array([0.0039192 , 0.00312058, 0.00355331, ..., 0.00402474, 0.01405844,\n",
       "         0.00871089], shape=(3072,)),\n",
       "  ('embedding',\n",
       "   'process',\n",
       "   'risk'): array([-0.01244394,  0.03063125,  0.00228499, ...,  0.00262465,\n",
       "          0.02576792, -0.00486719], shape=(3072,)),\n",
       "  ('embedding',\n",
       "   'risk',\n",
       "   'risk_desc',\n",
       "   'rootcause'): array([-0.01135286, -0.0043401 , -0.00571782, ..., -0.00817761,\n",
       "          0.00975636, -0.00056432], shape=(3072,)),\n",
       "  ('embedding',\n",
       "   'process',\n",
       "   'risk',\n",
       "   'risk_desc'): array([-0.01667463,  0.00859964, -0.0093581 , ..., -0.00838294,\n",
       "          0.01334427, -0.00236376], shape=(3072,)),\n",
       "  ('embedding',\n",
       "   'process',\n",
       "   'risk',\n",
       "   'rootcause'): array([0.00012055, 0.00601168, 0.00483257, ..., 0.002455  , 0.01775345,\n",
       "         0.00810943], shape=(3072,)),\n",
       "  ('embedding',\n",
       "   'process',\n",
       "   'risk',\n",
       "   'risk_desc',\n",
       "   'rootcause'): array([-0.01586161, -0.00347224, -0.00532161, ..., -0.00903756,\n",
       "          0.01285673,  0.00102504], shape=(3072,))}]"
      ]
     },
     "execution_count": 7,
     "metadata": {},
     "output_type": "execute_result"
    }
   ],
   "source": [
    "data_with_embedding[:1]"
   ]
  },
  {
   "cell_type": "code",
   "execution_count": 8,
   "metadata": {},
   "outputs": [],
   "source": [
    "# save data_with_embedding to pickle\n",
    "import pickle\n",
    "\n",
    "with open(f\"{file_name}_with_embedding.pkl\", \"wb\") as f:\n",
    "    pickle.dump(data_with_embedding, f)"
   ]
  },
  {
   "cell_type": "code",
   "execution_count": null,
   "metadata": {},
   "outputs": [],
   "source": []
  },
  {
   "cell_type": "code",
   "execution_count": null,
   "metadata": {},
   "outputs": [],
   "source": []
  }
 ],
 "metadata": {
  "kernelspec": {
   "display_name": ".venv",
   "language": "python",
   "name": "python3"
  },
  "language_info": {
   "codemirror_mode": {
    "name": "ipython",
    "version": 3
   },
   "file_extension": ".py",
   "mimetype": "text/x-python",
   "name": "python",
   "nbconvert_exporter": "python",
   "pygments_lexer": "ipython3",
   "version": "3.12.2"
  }
 },
 "nbformat": 4,
 "nbformat_minor": 2
}
