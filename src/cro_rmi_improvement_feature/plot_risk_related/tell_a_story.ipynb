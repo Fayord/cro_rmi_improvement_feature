{
 "cells": [
  {
   "cell_type": "code",
   "execution_count": 1,
   "metadata": {},
   "outputs": [
    {
     "data": {
      "text/plain": [
       "[{'data': {'id': 'risk_0',\n",
       "   'label': 'Business interruption from fire hazards',\n",
       "   'raw_size': np.float64(2979.294704333808),\n",
       "   'size_level': 1,\n",
       "   'size': 50,\n",
       "   'color': 'rgb(75, 192, 192)',\n",
       "   'risk_level': 2},\n",
       "  'position': {'x': 569.0578545909224, 'y': 401.58355106365104}},\n",
       " {'data': {'id': 'risk_1',\n",
       "   'label': 'Business interruption from natural disasters',\n",
       "   'raw_size': np.float64(2981.9705626647115),\n",
       "   'size_level': 1,\n",
       "   'size': 50,\n",
       "   'color': 'rgb(75, 192, 192)',\n",
       "   'risk_level': 1},\n",
       "  'position': {'x': 563.1024390487687, 'y': 454.28963642971905}},\n",
       " {'data': {'id': 'risk_2',\n",
       "   'label': 'Business interruption from pandemic or epidemic',\n",
       "   'raw_size': np.float64(2958.4038410833527),\n",
       "   'size_level': 1,\n",
       "   'size': 50,\n",
       "   'color': 'rgb(75, 192, 192)',\n",
       "   'risk_level': 2},\n",
       "  'position': {'x': 658.6523128399094, 'y': 213.65047912077455}}]"
      ]
     },
     "execution_count": 1,
     "metadata": {},
     "output_type": "execute_result"
    }
   ],
   "source": [
    "import pickle\n",
    "import pandas as pd\n",
    "\n",
    "raw_risk_data_path = \"250520-company_risk_data_with_embedding.pkl\"\n",
    "raw_risk_data = pickle.load(open(raw_risk_data_path, \"rb\"))\n",
    "data_path = \"250520-company_risk_data_with_embedding-10percent_edges.pkl\"\n",
    "data = pickle.load(open(data_path, \"rb\"))\n",
    "data[:3]"
   ]
  },
  {
   "cell_type": "code",
   "execution_count": 24,
   "metadata": {},
   "outputs": [
    {
     "name": "stdout",
     "output_type": "stream",
     "text": [
      "Business interruption from fire hazards Insufficient maintenance of fire safety equipment and a lack of emergency response training can lead to significant operational risks, such as business interruptions from fire hazards and natural disasters. These interruptions not only damage property and equipment but also result in reduced operational efficiency and loss of revenue. Additionally, the absence of a comprehensive disaster recovery plan exacerbates the impact of unforeseen events, including pandemics, which further disrupt business continuity and strain resources. Ultimately, these interconnected risks highlight the critical need for robust safety measures and preparedness strategies to safeguard against potential operational failures.\n",
      "Business interruption from natural disasters Natural disasters, fire hazards, and health crises collectively pose significant operational risks that can lead to business interruptions, resulting in reduced efficiency, loss of revenue, and increased costs. The lack of comprehensive emergency response training and disaster recovery plans exacerbates these vulnerabilities, leaving businesses ill-prepared to handle such disruptions. Consequently, insufficient maintenance of safety equipment and inadequate health crisis preparedness further heighten the risk of prolonged operational halts, ultimately threatening the sustainability of the business.\n",
      "Business interruption from pandemic or epidemic The operational risks faced by the business, including interruptions from pandemics, fire hazards, and natural disasters, stem from inadequate preparedness and reliance on physical operations. These vulnerabilities can lead to significant disruptions, resulting in reduced operational efficiency, loss of revenue, and increased costs. Without robust health and safety measures, emergency response training, and comprehensive disaster recovery plans, the business remains exposed to prolonged interruptions that threaten its continuity and financial stability.\n",
      "Carbon emission control The organization faces strategic risks due to increasing government regulations aimed at controlling carbon emissions, which lead to higher operational costs and impact profitability. This challenge is compounded by operational inefficiencies and poor budget management, resulting in overspending that strains financial resources. Additionally, fluctuations in freight and raw material prices, driven by global supply chain changes and fuel price volatility, further exacerbate cost pressures. Together, these interconnected risks create a precarious business environment, threatening the company's competitive position and overall sustainability.\n",
      "Cost or expense overspending The organization faces significant operational risks due to overspending on costs and expenses, primarily stemming from low operational efficiency and poor budget management. This financial strain is compounded by strategic risks related to carbon emission control, which increases operational costs, and pricing issues that arise from inadequate market research and unclear pricing strategies. Additionally, overstocking inventory and SKU margin risks further exacerbate profitability challenges, as inaccurate demand forecasting and insufficient cost analysis lead to resource misallocation and reduced sales. Collectively, these factors create a cycle of financial instability, hindering the organization's ability to maintain profitability and effectively allocate resources.\n",
      "Cost or expense overspending The organization faces significant operational risks due to overspending on costs and expenses, primarily stemming from low operational efficiency and poor budget management. This financial strain is compounded by strategic risks related to carbon emission control, which increases operational costs, and pricing issues that arise from inadequate market research and unclear pricing strategies. Additionally, overstocking inventory and SKU margin risks further exacerbate profitability challenges, as inaccurate demand forecasting and insufficient cost analysis lead to resource misallocation and reduced sales. Collectively, these factors create a cycle of financial instability, hindering the organization's ability to maintain profitability and effectively allocate resources.\n",
      "Business interruption from natural disasters Natural disasters, fire hazards, and health crises collectively pose significant operational risks that can lead to business interruptions, resulting in reduced efficiency, loss of revenue, and increased costs. The lack of comprehensive emergency response training and disaster recovery plans exacerbates these vulnerabilities, leaving businesses ill-prepared to handle such disruptions. Consequently, insufficient maintenance of safety equipment and inadequate health crisis preparedness further heighten the risk of prolonged operational halts, ultimately threatening the sustainability of the business.\n",
      "Business interruption from pandemic or epidemic The operational risks faced by the business, including interruptions from pandemics, fire hazards, and natural disasters, stem from inadequate preparedness and reliance on physical operations. These vulnerabilities can lead to significant disruptions, resulting in reduced operational efficiency, loss of revenue, and increased costs. Without robust health and safety measures, emergency response training, and comprehensive disaster recovery plans, the business remains exposed to prolonged interruptions that threaten its continuity and financial stability.\n",
      "Business interruption from fire hazards Insufficient maintenance of fire safety equipment and a lack of emergency response training can lead to significant operational risks, such as business interruptions from fire hazards and natural disasters. These interruptions not only damage property and equipment but also result in reduced operational efficiency and loss of revenue. Additionally, the absence of a comprehensive disaster recovery plan exacerbates the impact of unforeseen events, including pandemics, which further disrupt business continuity and strain resources. Ultimately, these interconnected risks highlight the critical need for robust safety measures and preparedness strategies to safeguard against potential operational failures.\n",
      "Carbon emission control The organization faces strategic risks due to increasing government regulations aimed at controlling carbon emissions, which lead to higher operational costs and impact profitability. This challenge is compounded by operational inefficiencies and poor budget management, resulting in overspending that strains financial resources. Additionally, fluctuations in freight and raw material prices, driven by global supply chain changes and fuel price volatility, further exacerbate cost pressures. Together, these interconnected risks create a precarious business environment, threatening the company's competitive position and overall sustainability.\n"
     ]
    }
   ],
   "source": [
    "for i in raw_risk_data:\n",
    "    if i.get(\"story\") is not None:\n",
    "        print(i[\"risk\"], i[\"story\"])"
   ]
  },
  {
   "cell_type": "code",
   "execution_count": null,
   "metadata": {},
   "outputs": [],
   "source": []
  },
  {
   "cell_type": "code",
   "execution_count": 3,
   "metadata": {},
   "outputs": [
    {
     "data": {
      "text/plain": [
       "[{'company': 'lotus_south',\n",
       "  'risk_cat': 'Operational Risk',\n",
       "  'risk': 'Business interruption from fire hazards',\n",
       "  'risk_desc': 'The business interruption due to a fire incident that occurs within the workplace premises can result in damage to buildings, property, and various equipment. This damage may necessitate a temporary or permanent cessation of business operations.\\n\\nBusiness interruption: refers to a period during which normal business operations are disrupted or halted, resulting in reduced operational efficiency, loss of revenue, or increased costs. 火灾事故导致的业务中断，可能会对建筑物、财产和各种设备造成损害。这种损害可能需要暂时或永久停止商业运营。',\n",
       "  'risk_level': 2,\n",
       "  'rootcause': 'rootcause :Insufficient Maintenance of Fire Safety Equipment: 消防措施不足；电气系统维护不当。',\n",
       "  'process': 'process :Facilities Management: 安全维保部, Maintenance: 安全维保部',\n",
       "  ('embedding',\n",
       "   'risk'): array([ 0.00782128, -0.01295227, -0.00216153, ..., -0.00683146,\n",
       "          0.00437382, -0.00690337], shape=(3072,)),\n",
       "  ('embedding',\n",
       "   'risk',\n",
       "   'risk_desc'): array([ 0.01170064,  0.00102205, -0.00721529, ..., -0.00311205,\n",
       "         -0.01791473, -0.00620074], shape=(3072,)),\n",
       "  ('embedding',\n",
       "   'risk',\n",
       "   'rootcause'): array([ 0.01885137,  0.00794408,  0.00091111, ..., -0.00504043,\n",
       "          0.00176173, -0.00507021], shape=(3072,)),\n",
       "  ('embedding',\n",
       "   'process',\n",
       "   'risk'): array([ 0.01212062, -0.01234647,  0.00042556, ..., -0.0090591 ,\n",
       "          0.01269779, -0.00463829], shape=(3072,)),\n",
       "  ('embedding',\n",
       "   'risk',\n",
       "   'risk_desc',\n",
       "   'rootcause'): array([ 0.01418556, -0.00051819, -0.0025956 , ..., -0.0022979 ,\n",
       "         -0.01167741, -0.01156577], shape=(3072,)),\n",
       "  ('embedding',\n",
       "   'process',\n",
       "   'risk',\n",
       "   'risk_desc'): array([ 0.01000435,  0.00412917, -0.00348322, ..., -0.00341809,\n",
       "         -0.0136935 , -0.00764583], shape=(3072,)),\n",
       "  ('embedding',\n",
       "   'process',\n",
       "   'risk',\n",
       "   'rootcause'): array([ 0.01512319, -0.00494337, -0.00349748, ..., -0.00185914,\n",
       "          0.00133744, -0.00587733], shape=(3072,)),\n",
       "  ('embedding',\n",
       "   'process',\n",
       "   'risk',\n",
       "   'risk_desc',\n",
       "   'rootcause'): array([ 0.0141836 , -0.00015173, -0.00340144, ..., -0.00256093,\n",
       "         -0.01159453, -0.01130185], shape=(3072,)),\n",
       "  'story': 'Insufficient maintenance of fire safety equipment and a lack of emergency response training can lead to significant operational risks, such as business interruptions from fire hazards and natural disasters. These interruptions not only damage property and equipment but also result in reduced operational efficiency and loss of revenue. Additionally, the absence of a comprehensive disaster recovery plan exacerbates the impact of unforeseen events, including pandemics, which further disrupt business continuity and strain resources. Ultimately, these interconnected risks highlight the critical need for robust safety measures and preparedness strategies to safeguard against potential operational failures.'},\n",
       " {'company': 'lotus_south',\n",
       "  'risk_cat': 'Operational Risk',\n",
       "  'risk': 'Business interruption from natural disasters',\n",
       "  'risk_desc': 'Business interruption from natural disasters such as earthquake, hurricanes, or wildfires that can disrupt business operations.\\n\\nBusiness interruption: refers to a period during which normal business operations are disrupted or halted, resulting in reduced operational efficiency, loss of revenue, or increased costs. 台风/暴雨自然灾害风险造成中断营业',\n",
       "  'risk_level': 1,\n",
       "  'rootcause': 'rootcause :Lack of Emergency Response Training: 不可抗力因素，缺乏应急预案, Absence of a Comprehensive Disaster Recovery Plan: 灾后恢复能力不足\\n',\n",
       "  'process': 'process :Health, Safety, and Environment (HSE): 安全维保部',\n",
       "  ('embedding',\n",
       "   'risk'): array([ 0.00900802, -0.00101787, -0.0042302 , ..., -0.02371451,\n",
       "         -0.01882557,  0.00745245], shape=(3072,)),\n",
       "  ('embedding',\n",
       "   'risk',\n",
       "   'risk_desc'): array([ 0.00965333,  0.00090237, -0.00870807, ..., -0.01209418,\n",
       "         -0.02118423,  0.00949794], shape=(3072,)),\n",
       "  ('embedding',\n",
       "   'risk',\n",
       "   'rootcause'): array([ 0.02185705,  0.00133618,  0.00342432, ..., -0.01156094,\n",
       "         -0.01287206,  0.00697976], shape=(3072,)),\n",
       "  ('embedding',\n",
       "   'process',\n",
       "   'risk'): array([ 0.0192192 ,  0.00516056,  0.00278814, ..., -0.01648502,\n",
       "          0.0049527 ,  0.0099134 ], shape=(3072,)),\n",
       "  ('embedding',\n",
       "   'risk',\n",
       "   'risk_desc',\n",
       "   'rootcause'): array([ 0.01162553,  0.00107769, -0.00345144, ..., -0.0123357 ,\n",
       "         -0.01802419,  0.01211555], shape=(3072,)),\n",
       "  ('embedding',\n",
       "   'process',\n",
       "   'risk',\n",
       "   'risk_desc'): array([ 0.01154768,  0.00623721, -0.00660058, ..., -0.01076094,\n",
       "         -0.01104097,  0.01154101], shape=(3072,)),\n",
       "  ('embedding',\n",
       "   'process',\n",
       "   'risk',\n",
       "   'rootcause'): array([ 0.02523832,  0.00700804,  0.00741776, ..., -0.00829571,\n",
       "         -0.00268264,  0.00848301], shape=(3072,)),\n",
       "  ('embedding',\n",
       "   'process',\n",
       "   'risk',\n",
       "   'risk_desc',\n",
       "   'rootcause'): array([ 0.0140422 ,  0.00763558, -0.00111261, ..., -0.01010805,\n",
       "         -0.01042802,  0.0103553 ], shape=(3072,)),\n",
       "  'story': 'Natural disasters, fire hazards, and health crises collectively pose significant operational risks that can lead to business interruptions, resulting in reduced efficiency, loss of revenue, and increased costs. The lack of comprehensive emergency response training and disaster recovery plans exacerbates these vulnerabilities, leaving businesses ill-prepared to handle such disruptions. Consequently, insufficient maintenance of safety equipment and inadequate health crisis preparedness further heighten the risk of prolonged operational halts, ultimately threatening the sustainability of the business.'},\n",
       " {'company': 'lotus_south',\n",
       "  'risk_cat': 'Operational Risk',\n",
       "  'risk': 'Business interruption from pandemic or epidemic',\n",
       "  'risk_desc': 'Business interruption from pandemic or epidemic involves outbreaks of infectious diseases that can lead to closures, quarantines, or reduced workforce availability, affecting business continuity.\\n\\nBusiness interruption: refers to a period during which normal business operations are disrupted or halted, resulting in reduced operational efficiency, loss of revenue, or increased costs. 疫情或流行病导致的商业中断涉及传染病的爆发，这可能导致关闭、隔离或减少劳动力可用性，从而影响商业连续性。',\n",
       "  'risk_level': 2,\n",
       "  'rootcause': 'rootcause :Other: 对健康危机准备不足；依赖实体店运营。',\n",
       "  'process': 'process :Health, Safety, and Environment (HSE): 安全维保部',\n",
       "  ('embedding',\n",
       "   'risk'): array([-0.01560079, -0.00698451, -0.00707104, ..., -0.00765617,\n",
       "         -0.00475523, -0.01024394], shape=(3072,)),\n",
       "  ('embedding',\n",
       "   'risk',\n",
       "   'risk_desc'): array([-0.0223671 ,  0.02485665, -0.01377035, ...,  0.00746867,\n",
       "         -0.0149503 , -0.01461317], shape=(3072,)),\n",
       "  ('embedding',\n",
       "   'risk',\n",
       "   'rootcause'): array([-0.00165944, -0.00380655,  0.0004314 , ..., -0.00416983,\n",
       "         -0.00813432,  0.00672859], shape=(3072,)),\n",
       "  ('embedding',\n",
       "   'process',\n",
       "   'risk'): array([-0.00252003,  0.00459205,  0.00062067, ..., -0.00652096,\n",
       "          0.00660807, -0.00118742], shape=(3072,)),\n",
       "  ('embedding',\n",
       "   'risk',\n",
       "   'risk_desc',\n",
       "   'rootcause'): array([-0.01239919,  0.0095728 , -0.01035397, ...,  0.0085857 ,\n",
       "         -0.01477109, -0.00842236], shape=(3072,)),\n",
       "  ('embedding',\n",
       "   'process',\n",
       "   'risk',\n",
       "   'risk_desc'): array([-0.01911174,  0.02329876, -0.00717872, ...,  0.00778651,\n",
       "         -0.00711794, -0.01554601], shape=(3072,)),\n",
       "  ('embedding',\n",
       "   'process',\n",
       "   'risk',\n",
       "   'rootcause'): array([ 0.00259317, -0.00286359,  0.002686  , ..., -0.00382619,\n",
       "         -0.00204729,  0.0083708 ], shape=(3072,)),\n",
       "  ('embedding',\n",
       "   'process',\n",
       "   'risk',\n",
       "   'risk_desc',\n",
       "   'rootcause'): array([-0.01026773,  0.00910882, -0.0076743 , ...,  0.00517273,\n",
       "         -0.01091786, -0.01120052], shape=(3072,)),\n",
       "  'story': 'The operational risks faced by the business, including interruptions from pandemics, fire hazards, and natural disasters, stem from inadequate preparedness and reliance on physical operations. These vulnerabilities can lead to significant disruptions, resulting in reduced operational efficiency, loss of revenue, and increased costs. Without robust health and safety measures, emergency response training, and comprehensive disaster recovery plans, the business remains exposed to prolonged interruptions that threaten its continuity and financial stability.'}]"
      ]
     },
     "execution_count": 3,
     "metadata": {},
     "output_type": "execute_result"
    }
   ],
   "source": [
    "raw_risk_data[:3]"
   ]
  },
  {
   "cell_type": "code",
   "execution_count": 4,
   "metadata": {},
   "outputs": [
    {
     "data": {
      "text/plain": [
       "95"
      ]
     },
     "execution_count": 4,
     "metadata": {},
     "output_type": "execute_result"
    }
   ],
   "source": [
    "len(data)"
   ]
  },
  {
   "cell_type": "code",
   "execution_count": 5,
   "metadata": {},
   "outputs": [
    {
     "data": {
      "text/plain": [
       "dict_keys(['id', 'label', 'raw_size', 'size_level', 'size', 'color', 'risk_level'])"
      ]
     },
     "execution_count": 5,
     "metadata": {},
     "output_type": "execute_result"
    }
   ],
   "source": [
    "data[0][\"data\"].keys()"
   ]
  },
  {
   "cell_type": "code",
   "execution_count": 6,
   "metadata": {},
   "outputs": [
    {
     "name": "stdout",
     "output_type": "stream",
     "text": [
      "{'id': 'risk_0', 'label': 'Business interruption from fire hazards', 'raw_size': np.float64(2979.294704333808), 'size_level': 1, 'size': 50, 'color': 'rgb(75, 192, 192)', 'risk_level': 2}\n",
      "{'id': 'risk_1', 'label': 'Business interruption from natural disasters', 'raw_size': np.float64(2981.9705626647115), 'size_level': 1, 'size': 50, 'color': 'rgb(75, 192, 192)', 'risk_level': 1}\n",
      "{'id': 'risk_2', 'label': 'Business interruption from pandemic or epidemic', 'raw_size': np.float64(2958.4038410833527), 'size_level': 1, 'size': 50, 'color': 'rgb(75, 192, 192)', 'risk_level': 2}\n",
      "{'id': 'risk_3', 'label': 'Carbon emission control', 'raw_size': np.float64(2994.065967624946), 'size_level': 1, 'size': 1, 'color': 'rgb(153, 102, 255)', 'risk_level': 1}\n",
      "{'id': 'risk_4', 'label': 'Cost or expense overspending', 'raw_size': np.float64(3065.0153087612803), 'size_level': 2, 'size': 50, 'color': 'rgb(75, 192, 192)', 'risk_level': 1}\n",
      "{'id': 'risk_5', 'label': 'Crisis Mismanagement', 'raw_size': np.float64(3045.66328496778), 'size_level': 2, 'size': 1, 'color': 'rgb(75, 192, 192)', 'risk_level': 1}\n",
      "{'id': 'risk_6', 'label': 'Debtor credit risk (External party)', 'raw_size': np.float64(2989.768671075894), 'size_level': 1, 'size': 1, 'color': 'rgb(255, 99, 132)', 'risk_level': 2}\n",
      "{'id': 'risk_7', 'label': 'Delayed product delivery', 'raw_size': np.float64(3055.966067349427), 'size_level': 2, 'size': 1, 'color': 'rgb(75, 192, 192)', 'risk_level': 2}\n",
      "{'id': 'risk_8', 'label': 'Demographic change', 'raw_size': np.float64(2735.4979849228216), 'size_level': 1, 'size': 1, 'color': 'rgb(153, 102, 255)', 'risk_level': 1}\n",
      "{'id': 'risk_9', 'label': 'Digital transformation risk', 'raw_size': np.float64(2991.1571248401638), 'size_level': 1, 'size': 1, 'color': 'rgb(153, 102, 255)', 'risk_level': 2}\n",
      "{'id': 'risk_10', 'label': 'Fluctuation in freight price', 'raw_size': np.float64(3028.7755549446033), 'size_level': 1, 'size': 1, 'color': 'rgb(255, 206, 86)', 'risk_level': 1}\n",
      "{'id': 'risk_11', 'label': 'Fluctuation in raw material products', 'raw_size': np.float64(3053.4242791027896), 'size_level': 2, 'size': 50, 'color': 'rgb(255, 206, 86)', 'risk_level': 1}\n",
      "{'id': 'risk_12', 'label': 'Global economic crisis', 'raw_size': np.float64(2955.6873125699335), 'size_level': 1, 'size': 1, 'color': 'rgb(153, 102, 255)', 'risk_level': 2}\n",
      "{'id': 'risk_13', 'label': 'Government policy change', 'raw_size': np.float64(3045.6564597051893), 'size_level': 1, 'size': 1, 'color': 'rgb(153, 102, 255)', 'risk_level': 2}\n",
      "{'id': 'risk_14', 'label': 'Inappropriate price setting', 'raw_size': np.float64(3097.7126763677625), 'size_level': 2, 'size': 50, 'color': 'rgb(75, 192, 192)', 'risk_level': 2}\n",
      "{'id': 'risk_15', 'label': 'Ineffective marketing', 'raw_size': np.float64(2845.7940263465653), 'size_level': 1, 'size': 1, 'color': 'rgb(75, 192, 192)', 'risk_level': 2}\n",
      "{'id': 'risk_16', 'label': 'Insufficient Cash Flow', 'raw_size': np.float64(2973.35744789173), 'size_level': 1, 'size': 1, 'color': 'rgb(54, 162, 235)', 'risk_level': 3}\n",
      "{'id': 'risk_17', 'label': 'Intense market competition', 'raw_size': np.float64(2996.0991142298853), 'size_level': 1, 'size': 1, 'color': 'rgb(153, 102, 255)', 'risk_level': 3}\n",
      "{'id': 'risk_18', 'label': 'Inventory loss', 'raw_size': np.float64(2852.6619996114446), 'size_level': 1, 'size': 1, 'color': 'rgb(75, 192, 192)', 'risk_level': 2}\n",
      "{'id': 'risk_19', 'label': 'Lack of customer’s credit screening', 'raw_size': np.float64(3073.5779816881864), 'size_level': 2, 'size': 50, 'color': 'rgb(255, 99, 132)', 'risk_level': 2}\n",
      "{'id': 'risk_20', 'label': 'Low bargaining power with suppliers', 'raw_size': np.float64(2973.6881467772546), 'size_level': 1, 'size': 1, 'color': 'rgb(75, 192, 192)', 'risk_level': 2}\n",
      "{'id': 'risk_21', 'label': 'Low in consumer ability and purchasing power', 'raw_size': np.float64(2888.9589899934317), 'size_level': 1, 'size': 1, 'color': 'rgb(153, 102, 255)', 'risk_level': 2}\n",
      "{'id': 'risk_22', 'label': 'New business execution failure', 'raw_size': np.float64(3053.982466502511), 'size_level': 2, 'size': 1, 'color': 'rgb(75, 192, 192)', 'risk_level': 2}\n",
      "{'id': 'risk_23', 'label': \"Non-compliance with company's policies or rules regarding anti-fraud and anti-corruption\", 'raw_size': np.float64(2877.602443275976), 'size_level': 1, 'size': 50, 'color': 'rgb(75, 192, 192)', 'risk_level': 1}\n",
      "{'id': 'risk_24', 'label': 'Non-compliance with consumer protection laws', 'raw_size': np.float64(2956.7370313626643), 'size_level': 1, 'size': 50, 'color': 'rgb(75, 192, 192)', 'risk_level': 1}\n",
      "{'id': 'risk_25', 'label': 'Non-compliance with labor laws, illegal employment practices and human rights violations', 'raw_size': np.float64(2922.1235270201596), 'size_level': 1, 'size': 50, 'color': 'rgb(75, 192, 192)', 'risk_level': 1}\n",
      "{'id': 'risk_26', 'label': 'Non-compliance with laws or standards regarding personal data protection', 'raw_size': np.float64(2927.760097623551), 'size_level': 1, 'size': 50, 'color': 'rgb(75, 192, 192)', 'risk_level': 1}\n",
      "{'id': 'risk_27', 'label': 'Overstocking inventory', 'raw_size': np.float64(3006.178620276094), 'size_level': 1, 'size': 50, 'color': 'rgb(75, 192, 192)', 'risk_level': 2}\n",
      "{'id': 'risk_28', 'label': 'Poor product quality', 'raw_size': np.float64(2985.5650219891413), 'size_level': 1, 'size': 1, 'color': 'rgb(75, 192, 192)', 'risk_level': 1}\n",
      "{'id': 'risk_29', 'label': 'SKU Margin Risk', 'raw_size': np.float64(3098.9482162158797), 'size_level': 2, 'size': 50, 'color': 'rgb(75, 192, 192)', 'risk_level': 2}\n",
      "{'id': 'risk_30', 'label': 'Safety and occupational health issues', 'raw_size': np.float64(2978.72390958612), 'size_level': 1, 'size': 1, 'color': 'rgb(75, 192, 192)', 'risk_level': 1}\n",
      "{'id': 'risk_31', 'label': 'Uncompetitive e-commerce distribution channels', 'raw_size': np.float64(3137.898782842516), 'size_level': 3, 'size': 120, 'color': 'rgb(75, 192, 192)', 'risk_level': 2}\n",
      "{'id': 'risk_32', 'label': 'Uncompetitive product', 'raw_size': np.float64(3119.557430850859), 'size_level': 2, 'size': 50, 'color': 'rgb(75, 192, 192)', 'risk_level': 2}\n",
      "{'id': 'risk_33', 'label': 'Uncompetitive service', 'raw_size': np.float64(3175.1092408136387), 'size_level': 3, 'size': 120, 'color': 'rgb(75, 192, 192)', 'risk_level': 2}\n",
      "{'id': 'risk_34', 'label': 'Understocking inventory', 'raw_size': np.float64(3087.5936344422817), 'size_level': 2, 'size': 50, 'color': 'rgb(75, 192, 192)', 'risk_level': 3}\n",
      "{'source': 'risk_0', 'target': 'risk_1', 'weight': 6, 'raw_weight': np.float64(158.88752272287036), 'color': 'rgb(128, 128, 128)'}\n",
      "{'source': 'risk_0', 'target': 'risk_2', 'weight': 6, 'raw_weight': np.float64(138.25456677560467), 'color': 'rgb(128, 128, 128)'}\n",
      "{'source': 'risk_1', 'target': 'risk_2', 'weight': 6, 'raw_weight': np.float64(141.2985386240871), 'color': 'rgb(128, 128, 128)'}\n",
      "{'source': 'risk_3', 'target': 'risk_4', 'weight': 2, 'raw_weight': np.float64(96.41389899345054), 'color': 'rgb(201, 203, 207)'}\n",
      "{'source': 'risk_3', 'target': 'risk_10', 'weight': 2, 'raw_weight': np.float64(99.89358550381856), 'color': 'rgb(201, 203, 207)'}\n",
      "{'source': 'risk_3', 'target': 'risk_11', 'weight': 2, 'raw_weight': np.float64(98.04845499508382), 'color': 'rgb(201, 203, 207)'}\n",
      "{'source': 'risk_3', 'target': 'risk_13', 'weight': 4, 'raw_weight': np.float64(114.38433408738713), 'color': 'rgb(169, 169, 169)'}\n",
      "{'source': 'risk_4', 'target': 'risk_14', 'weight': 4, 'raw_weight': np.float64(102.10095978223721), 'color': 'rgb(169, 169, 169)'}\n",
      "{'source': 'risk_4', 'target': 'risk_27', 'weight': 4, 'raw_weight': np.float64(102.46932627128214), 'color': 'rgb(169, 169, 169)'}\n",
      "{'source': 'risk_4', 'target': 'risk_29', 'weight': 4, 'raw_weight': np.float64(103.30011667019114), 'color': 'rgb(169, 169, 169)'}\n",
      "{'source': 'risk_5', 'target': 'risk_9', 'weight': 2, 'raw_weight': np.float64(98.15184390762035), 'color': 'rgb(201, 203, 207)'}\n",
      "{'source': 'risk_5', 'target': 'risk_12', 'weight': 4, 'raw_weight': np.float64(106.0990157565871), 'color': 'rgb(169, 169, 169)'}\n",
      "{'source': 'risk_5', 'target': 'risk_19', 'weight': 2, 'raw_weight': np.float64(97.00639303506932), 'color': 'rgb(201, 203, 207)'}\n",
      "{'source': 'risk_5', 'target': 'risk_29', 'weight': 2, 'raw_weight': np.float64(96.30126466479253), 'color': 'rgb(201, 203, 207)'}\n",
      "{'source': 'risk_6', 'target': 'risk_19', 'weight': 4, 'raw_weight': np.float64(112.47871993620373), 'color': 'rgb(169, 169, 169)'}\n",
      "{'source': 'risk_7', 'target': 'risk_9', 'weight': 2, 'raw_weight': np.float64(96.34574314905386), 'color': 'rgb(201, 203, 207)'}\n",
      "{'source': 'risk_7', 'target': 'risk_31', 'weight': 2, 'raw_weight': np.float64(99.81666001374285), 'color': 'rgb(201, 203, 207)'}\n",
      "{'source': 'risk_7', 'target': 'risk_34', 'weight': 4, 'raw_weight': np.float64(103.9838882101347), 'color': 'rgb(169, 169, 169)'}\n",
      "{'source': 'risk_9', 'target': 'risk_22', 'weight': 2, 'raw_weight': np.float64(96.99765080321028), 'color': 'rgb(201, 203, 207)'}\n",
      "{'source': 'risk_9', 'target': 'risk_31', 'weight': 2, 'raw_weight': np.float64(101.32152614412797), 'color': 'rgb(201, 203, 207)'}\n",
      "{'source': 'risk_10', 'target': 'risk_11', 'weight': 6, 'raw_weight': np.float64(119.7897054905063), 'color': 'rgb(128, 128, 128)'}\n",
      "{'source': 'risk_10', 'target': 'risk_13', 'weight': 2, 'raw_weight': np.float64(100.9379745688473), 'color': 'rgb(201, 203, 207)'}\n",
      "{'source': 'risk_11', 'target': 'risk_13', 'weight': 2, 'raw_weight': np.float64(96.94891092441259), 'color': 'rgb(201, 203, 207)'}\n",
      "{'source': 'risk_11', 'target': 'risk_14', 'weight': 2, 'raw_weight': np.float64(100.48683235099138), 'color': 'rgb(201, 203, 207)'}\n",
      "{'source': 'risk_11', 'target': 'risk_20', 'weight': 2, 'raw_weight': np.float64(96.70985786649385), 'color': 'rgb(201, 203, 207)'}\n",
      "{'source': 'risk_14', 'target': 'risk_27', 'weight': 2, 'raw_weight': np.float64(100.5772951844981), 'color': 'rgb(201, 203, 207)'}\n",
      "{'source': 'risk_14', 'target': 'risk_28', 'weight': 2, 'raw_weight': np.float64(96.7074531291088), 'color': 'rgb(201, 203, 207)'}\n",
      "{'source': 'risk_14', 'target': 'risk_29', 'weight': 2, 'raw_weight': np.float64(101.66557335729887), 'color': 'rgb(201, 203, 207)'}\n",
      "{'source': 'risk_14', 'target': 'risk_31', 'weight': 2, 'raw_weight': np.float64(97.90597578603285), 'color': 'rgb(201, 203, 207)'}\n",
      "{'source': 'risk_14', 'target': 'risk_33', 'weight': 2, 'raw_weight': np.float64(99.1021885874942), 'color': 'rgb(201, 203, 207)'}\n",
      "{'source': 'risk_14', 'target': 'risk_34', 'weight': 2, 'raw_weight': np.float64(101.17191324469388), 'color': 'rgb(201, 203, 207)'}\n",
      "{'source': 'risk_16', 'target': 'risk_34', 'weight': 2, 'raw_weight': np.float64(97.398267998388), 'color': 'rgb(201, 203, 207)'}\n",
      "{'source': 'risk_17', 'target': 'risk_31', 'weight': 2, 'raw_weight': np.float64(101.68751564120852), 'color': 'rgb(201, 203, 207)'}\n",
      "{'source': 'risk_17', 'target': 'risk_32', 'weight': 4, 'raw_weight': np.float64(109.58834309337423), 'color': 'rgb(169, 169, 169)'}\n",
      "{'source': 'risk_17', 'target': 'risk_33', 'weight': 4, 'raw_weight': np.float64(107.04885135123246), 'color': 'rgb(169, 169, 169)'}\n",
      "{'source': 'risk_18', 'target': 'risk_27', 'weight': 2, 'raw_weight': np.float64(99.28702954629424), 'color': 'rgb(201, 203, 207)'}\n",
      "{'source': 'risk_18', 'target': 'risk_34', 'weight': 2, 'raw_weight': np.float64(102.07082700973258), 'color': 'rgb(201, 203, 207)'}\n",
      "{'source': 'risk_19', 'target': 'risk_29', 'weight': 4, 'raw_weight': np.float64(103.32014467470168), 'color': 'rgb(169, 169, 169)'}\n",
      "{'source': 'risk_19', 'target': 'risk_31', 'weight': 2, 'raw_weight': np.float64(96.26918021696915), 'color': 'rgb(201, 203, 207)'}\n",
      "{'source': 'risk_20', 'target': 'risk_31', 'weight': 2, 'raw_weight': np.float64(100.65275901877766), 'color': 'rgb(201, 203, 207)'}\n",
      "{'source': 'risk_20', 'target': 'risk_33', 'weight': 2, 'raw_weight': np.float64(96.50830999620139), 'color': 'rgb(201, 203, 207)'}\n",
      "{'source': 'risk_22', 'target': 'risk_29', 'weight': 2, 'raw_weight': np.float64(97.63810610179004), 'color': 'rgb(201, 203, 207)'}\n",
      "{'source': 'risk_22', 'target': 'risk_31', 'weight': 2, 'raw_weight': np.float64(97.96493253396949), 'color': 'rgb(201, 203, 207)'}\n",
      "{'source': 'risk_22', 'target': 'risk_32', 'weight': 2, 'raw_weight': np.float64(97.88327174483611), 'color': 'rgb(201, 203, 207)'}\n",
      "{'source': 'risk_22', 'target': 'risk_33', 'weight': 2, 'raw_weight': np.float64(97.82929821234838), 'color': 'rgb(201, 203, 207)'}\n",
      "{'source': 'risk_23', 'target': 'risk_24', 'weight': 4, 'raw_weight': np.float64(104.18766984668035), 'color': 'rgb(169, 169, 169)'}\n",
      "{'source': 'risk_23', 'target': 'risk_25', 'weight': 4, 'raw_weight': np.float64(103.69481794848643), 'color': 'rgb(169, 169, 169)'}\n",
      "{'source': 'risk_23', 'target': 'risk_26', 'weight': 4, 'raw_weight': np.float64(103.64971706109914), 'color': 'rgb(169, 169, 169)'}\n",
      "{'source': 'risk_24', 'target': 'risk_25', 'weight': 4, 'raw_weight': np.float64(113.4152182280645), 'color': 'rgb(169, 169, 169)'}\n",
      "{'source': 'risk_24', 'target': 'risk_26', 'weight': 4, 'raw_weight': np.float64(119.22271404258622), 'color': 'rgb(169, 169, 169)'}\n",
      "{'source': 'risk_25', 'target': 'risk_26', 'weight': 4, 'raw_weight': np.float64(110.50117209891614), 'color': 'rgb(169, 169, 169)'}\n",
      "{'source': 'risk_27', 'target': 'risk_29', 'weight': 2, 'raw_weight': np.float64(96.4126824401309), 'color': 'rgb(201, 203, 207)'}\n",
      "{'source': 'risk_27', 'target': 'risk_34', 'weight': 6, 'raw_weight': np.float64(143.93824752295475), 'color': 'rgb(128, 128, 128)'}\n",
      "{'source': 'risk_28', 'target': 'risk_32', 'weight': 2, 'raw_weight': np.float64(100.60981456590383), 'color': 'rgb(201, 203, 207)'}\n",
      "{'source': 'risk_28', 'target': 'risk_33', 'weight': 2, 'raw_weight': np.float64(98.90073144880546), 'color': 'rgb(201, 203, 207)'}\n",
      "{'source': 'risk_29', 'target': 'risk_31', 'weight': 2, 'raw_weight': np.float64(98.25482029617808), 'color': 'rgb(201, 203, 207)'}\n",
      "{'source': 'risk_29', 'target': 'risk_34', 'weight': 2, 'raw_weight': np.float64(97.31666367026388), 'color': 'rgb(201, 203, 207)'}\n",
      "{'source': 'risk_31', 'target': 'risk_32', 'weight': 4, 'raw_weight': np.float64(116.90812436106475), 'color': 'rgb(169, 169, 169)'}\n",
      "{'source': 'risk_31', 'target': 'risk_33', 'weight': 4, 'raw_weight': np.float64(118.61333782428716), 'color': 'rgb(169, 169, 169)'}\n",
      "{'source': 'risk_32', 'target': 'risk_33', 'weight': 6, 'raw_weight': np.float64(178.09414219831277), 'color': 'rgb(128, 128, 128)'}\n"
     ]
    }
   ],
   "source": [
    "for i in data:\n",
    "    print(i[\"data\"])"
   ]
  },
  {
   "cell_type": "code",
   "execution_count": 7,
   "metadata": {},
   "outputs": [
    {
     "name": "stdout",
     "output_type": "stream",
     "text": [
      "(95, 11)\n"
     ]
    },
    {
     "data": {
      "text/html": [
       "<div>\n",
       "<style scoped>\n",
       "    .dataframe tbody tr th:only-of-type {\n",
       "        vertical-align: middle;\n",
       "    }\n",
       "\n",
       "    .dataframe tbody tr th {\n",
       "        vertical-align: top;\n",
       "    }\n",
       "\n",
       "    .dataframe thead th {\n",
       "        text-align: right;\n",
       "    }\n",
       "</style>\n",
       "<table border=\"1\" class=\"dataframe\">\n",
       "  <thead>\n",
       "    <tr style=\"text-align: right;\">\n",
       "      <th></th>\n",
       "      <th>id</th>\n",
       "      <th>label</th>\n",
       "      <th>raw_size</th>\n",
       "      <th>size_level</th>\n",
       "      <th>size</th>\n",
       "      <th>color</th>\n",
       "      <th>risk_level</th>\n",
       "      <th>source</th>\n",
       "      <th>target</th>\n",
       "      <th>weight</th>\n",
       "      <th>raw_weight</th>\n",
       "    </tr>\n",
       "  </thead>\n",
       "  <tbody>\n",
       "    <tr>\n",
       "      <th>0</th>\n",
       "      <td>risk_0</td>\n",
       "      <td>Business interruption from fire hazards</td>\n",
       "      <td>2979.294704</td>\n",
       "      <td>1.0</td>\n",
       "      <td>50.0</td>\n",
       "      <td>rgb(75, 192, 192)</td>\n",
       "      <td>2.0</td>\n",
       "      <td>NaN</td>\n",
       "      <td>NaN</td>\n",
       "      <td>NaN</td>\n",
       "      <td>NaN</td>\n",
       "    </tr>\n",
       "    <tr>\n",
       "      <th>1</th>\n",
       "      <td>risk_1</td>\n",
       "      <td>Business interruption from natural disasters</td>\n",
       "      <td>2981.970563</td>\n",
       "      <td>1.0</td>\n",
       "      <td>50.0</td>\n",
       "      <td>rgb(75, 192, 192)</td>\n",
       "      <td>1.0</td>\n",
       "      <td>NaN</td>\n",
       "      <td>NaN</td>\n",
       "      <td>NaN</td>\n",
       "      <td>NaN</td>\n",
       "    </tr>\n",
       "    <tr>\n",
       "      <th>2</th>\n",
       "      <td>risk_2</td>\n",
       "      <td>Business interruption from pandemic or epidemic</td>\n",
       "      <td>2958.403841</td>\n",
       "      <td>1.0</td>\n",
       "      <td>50.0</td>\n",
       "      <td>rgb(75, 192, 192)</td>\n",
       "      <td>2.0</td>\n",
       "      <td>NaN</td>\n",
       "      <td>NaN</td>\n",
       "      <td>NaN</td>\n",
       "      <td>NaN</td>\n",
       "    </tr>\n",
       "    <tr>\n",
       "      <th>3</th>\n",
       "      <td>risk_3</td>\n",
       "      <td>Carbon emission control</td>\n",
       "      <td>2994.065968</td>\n",
       "      <td>1.0</td>\n",
       "      <td>1.0</td>\n",
       "      <td>rgb(153, 102, 255)</td>\n",
       "      <td>1.0</td>\n",
       "      <td>NaN</td>\n",
       "      <td>NaN</td>\n",
       "      <td>NaN</td>\n",
       "      <td>NaN</td>\n",
       "    </tr>\n",
       "    <tr>\n",
       "      <th>4</th>\n",
       "      <td>risk_4</td>\n",
       "      <td>Cost or expense overspending</td>\n",
       "      <td>3065.015309</td>\n",
       "      <td>2.0</td>\n",
       "      <td>50.0</td>\n",
       "      <td>rgb(75, 192, 192)</td>\n",
       "      <td>1.0</td>\n",
       "      <td>NaN</td>\n",
       "      <td>NaN</td>\n",
       "      <td>NaN</td>\n",
       "      <td>NaN</td>\n",
       "    </tr>\n",
       "  </tbody>\n",
       "</table>\n",
       "</div>"
      ],
      "text/plain": [
       "       id                                            label     raw_size  \\\n",
       "0  risk_0          Business interruption from fire hazards  2979.294704   \n",
       "1  risk_1     Business interruption from natural disasters  2981.970563   \n",
       "2  risk_2  Business interruption from pandemic or epidemic  2958.403841   \n",
       "3  risk_3                          Carbon emission control  2994.065968   \n",
       "4  risk_4                     Cost or expense overspending  3065.015309   \n",
       "\n",
       "   size_level  size               color  risk_level source target  weight  \\\n",
       "0         1.0  50.0   rgb(75, 192, 192)         2.0    NaN    NaN     NaN   \n",
       "1         1.0  50.0   rgb(75, 192, 192)         1.0    NaN    NaN     NaN   \n",
       "2         1.0  50.0   rgb(75, 192, 192)         2.0    NaN    NaN     NaN   \n",
       "3         1.0   1.0  rgb(153, 102, 255)         1.0    NaN    NaN     NaN   \n",
       "4         2.0  50.0   rgb(75, 192, 192)         1.0    NaN    NaN     NaN   \n",
       "\n",
       "   raw_weight  \n",
       "0         NaN  \n",
       "1         NaN  \n",
       "2         NaN  \n",
       "3         NaN  \n",
       "4         NaN  "
      ]
     },
     "execution_count": 7,
     "metadata": {},
     "output_type": "execute_result"
    }
   ],
   "source": [
    "node_data_list = []\n",
    "for node_edge in data:\n",
    "    if node_edge.get(\"source\") is not None:\n",
    "        # it a edge\n",
    "        continue\n",
    "    node_data_list.append(node_edge[\"data\"])\n",
    "node_data_df = pd.DataFrame(node_data_list)\n",
    "print(node_data_df.shape)\n",
    "node_data_df.head()"
   ]
  },
  {
   "cell_type": "code",
   "execution_count": 8,
   "metadata": {},
   "outputs": [
    {
     "data": {
      "text/html": [
       "<div>\n",
       "<style scoped>\n",
       "    .dataframe tbody tr th:only-of-type {\n",
       "        vertical-align: middle;\n",
       "    }\n",
       "\n",
       "    .dataframe tbody tr th {\n",
       "        vertical-align: top;\n",
       "    }\n",
       "\n",
       "    .dataframe thead th {\n",
       "        text-align: right;\n",
       "    }\n",
       "</style>\n",
       "<table border=\"1\" class=\"dataframe\">\n",
       "  <thead>\n",
       "    <tr style=\"text-align: right;\">\n",
       "      <th></th>\n",
       "      <th>id</th>\n",
       "      <th>label</th>\n",
       "      <th>raw_size</th>\n",
       "      <th>size_level</th>\n",
       "      <th>size</th>\n",
       "      <th>color</th>\n",
       "      <th>risk_level</th>\n",
       "      <th>source</th>\n",
       "      <th>target</th>\n",
       "      <th>weight</th>\n",
       "      <th>raw_weight</th>\n",
       "    </tr>\n",
       "  </thead>\n",
       "  <tbody>\n",
       "    <tr>\n",
       "      <th>34</th>\n",
       "      <td>risk_34</td>\n",
       "      <td>Understocking inventory</td>\n",
       "      <td>3087.593634</td>\n",
       "      <td>2.0</td>\n",
       "      <td>50.0</td>\n",
       "      <td>rgb(75, 192, 192)</td>\n",
       "      <td>3.0</td>\n",
       "      <td>NaN</td>\n",
       "      <td>NaN</td>\n",
       "      <td>NaN</td>\n",
       "      <td>NaN</td>\n",
       "    </tr>\n",
       "    <tr>\n",
       "      <th>16</th>\n",
       "      <td>risk_16</td>\n",
       "      <td>Insufficient Cash Flow</td>\n",
       "      <td>2973.357448</td>\n",
       "      <td>1.0</td>\n",
       "      <td>1.0</td>\n",
       "      <td>rgb(54, 162, 235)</td>\n",
       "      <td>3.0</td>\n",
       "      <td>NaN</td>\n",
       "      <td>NaN</td>\n",
       "      <td>NaN</td>\n",
       "      <td>NaN</td>\n",
       "    </tr>\n",
       "    <tr>\n",
       "      <th>17</th>\n",
       "      <td>risk_17</td>\n",
       "      <td>Intense market competition</td>\n",
       "      <td>2996.099114</td>\n",
       "      <td>1.0</td>\n",
       "      <td>1.0</td>\n",
       "      <td>rgb(153, 102, 255)</td>\n",
       "      <td>3.0</td>\n",
       "      <td>NaN</td>\n",
       "      <td>NaN</td>\n",
       "      <td>NaN</td>\n",
       "      <td>NaN</td>\n",
       "    </tr>\n",
       "    <tr>\n",
       "      <th>31</th>\n",
       "      <td>risk_31</td>\n",
       "      <td>Uncompetitive e-commerce distribution channels</td>\n",
       "      <td>3137.898783</td>\n",
       "      <td>3.0</td>\n",
       "      <td>120.0</td>\n",
       "      <td>rgb(75, 192, 192)</td>\n",
       "      <td>2.0</td>\n",
       "      <td>NaN</td>\n",
       "      <td>NaN</td>\n",
       "      <td>NaN</td>\n",
       "      <td>NaN</td>\n",
       "    </tr>\n",
       "    <tr>\n",
       "      <th>33</th>\n",
       "      <td>risk_33</td>\n",
       "      <td>Uncompetitive service</td>\n",
       "      <td>3175.109241</td>\n",
       "      <td>3.0</td>\n",
       "      <td>120.0</td>\n",
       "      <td>rgb(75, 192, 192)</td>\n",
       "      <td>2.0</td>\n",
       "      <td>NaN</td>\n",
       "      <td>NaN</td>\n",
       "      <td>NaN</td>\n",
       "      <td>NaN</td>\n",
       "    </tr>\n",
       "  </tbody>\n",
       "</table>\n",
       "</div>"
      ],
      "text/plain": [
       "         id                                           label     raw_size  \\\n",
       "34  risk_34                         Understocking inventory  3087.593634   \n",
       "16  risk_16                          Insufficient Cash Flow  2973.357448   \n",
       "17  risk_17                      Intense market competition  2996.099114   \n",
       "31  risk_31  Uncompetitive e-commerce distribution channels  3137.898783   \n",
       "33  risk_33                           Uncompetitive service  3175.109241   \n",
       "\n",
       "    size_level   size               color  risk_level source target  weight  \\\n",
       "34         2.0   50.0   rgb(75, 192, 192)         3.0    NaN    NaN     NaN   \n",
       "16         1.0    1.0   rgb(54, 162, 235)         3.0    NaN    NaN     NaN   \n",
       "17         1.0    1.0  rgb(153, 102, 255)         3.0    NaN    NaN     NaN   \n",
       "31         3.0  120.0   rgb(75, 192, 192)         2.0    NaN    NaN     NaN   \n",
       "33         3.0  120.0   rgb(75, 192, 192)         2.0    NaN    NaN     NaN   \n",
       "\n",
       "    raw_weight  \n",
       "34         NaN  \n",
       "16         NaN  \n",
       "17         NaN  \n",
       "31         NaN  \n",
       "33         NaN  "
      ]
     },
     "execution_count": 8,
     "metadata": {},
     "output_type": "execute_result"
    }
   ],
   "source": [
    "# node_data_df sort by risk_level then size_level\n",
    "node_data_df = node_data_df.sort_values(\n",
    "    by=[\"risk_level\", \"size_level\"], ascending=False\n",
    ")\n",
    "top_k = 5\n",
    "top_k_node_data = node_data_df.head(top_k)\n",
    "top_k_node_data"
   ]
  },
  {
   "cell_type": "code",
   "execution_count": null,
   "metadata": {},
   "outputs": [],
   "source": []
  },
  {
   "cell_type": "code",
   "execution_count": 9,
   "metadata": {},
   "outputs": [
    {
     "name": "stdout",
     "output_type": "stream",
     "text": [
      "real_data[0].keys()=dict_keys(['company', 'risk_cat', 'risk', 'risk_desc', 'risk_level', 'rootcause', 'process', ('embedding', 'risk'), ('embedding', 'risk', 'risk_desc'), ('embedding', 'risk', 'rootcause'), ('embedding', 'process', 'risk'), ('embedding', 'risk', 'risk_desc', 'rootcause'), ('embedding', 'process', 'risk', 'risk_desc'), ('embedding', 'process', 'risk', 'rootcause'), ('embedding', 'process', 'risk', 'risk_desc', 'rootcause'), 'story'])\n",
      "avg_dist=np.float64(88.15964531903728)\n",
      "node_size_counter=Counter({1: 23, 2: 10, 3: 2})\n"
     ]
    }
   ],
   "source": [
    "# get primary_connected_risk\n",
    "from plot_network import find_neighbors\n",
    "\n",
    "selected_node_id = \"risk_34\"\n",
    "main_graph_elements = data\n",
    "primary_nodes, _, subgraph_elements = find_neighbors(\n",
    "    selected_node_id, main_graph_elements\n",
    ")"
   ]
  },
  {
   "cell_type": "code",
   "execution_count": 10,
   "metadata": {},
   "outputs": [
    {
     "data": {
      "text/plain": [
       "['risk_18', 'risk_29', 'risk_14', 'risk_16', 'risk_27', 'risk_7']"
      ]
     },
     "execution_count": 10,
     "metadata": {},
     "output_type": "execute_result"
    }
   ],
   "source": [
    "primary_nodes"
   ]
  },
  {
   "cell_type": "code",
   "execution_count": 11,
   "metadata": {},
   "outputs": [
    {
     "data": {
      "text/plain": [
       "'risk_34'"
      ]
     },
     "execution_count": 11,
     "metadata": {},
     "output_type": "execute_result"
    }
   ],
   "source": [
    "selected_node_id"
   ]
  },
  {
   "cell_type": "code",
   "execution_count": 12,
   "metadata": {},
   "outputs": [
    {
     "data": {
      "text/plain": [
       "[{'company': 'lotus_south',\n",
       "  'risk_cat': 'Operational Risk',\n",
       "  'risk': 'Business interruption from fire hazards',\n",
       "  'risk_desc': 'The business interruption due to a fire incident that occurs within the workplace premises can result in damage to buildings, property, and various equipment. This damage may necessitate a temporary or permanent cessation of business operations.\\n\\nBusiness interruption: refers to a period during which normal business operations are disrupted or halted, resulting in reduced operational efficiency, loss of revenue, or increased costs. 火灾事故导致的业务中断，可能会对建筑物、财产和各种设备造成损害。这种损害可能需要暂时或永久停止商业运营。',\n",
       "  'risk_level': 2,\n",
       "  'rootcause': 'rootcause :Insufficient Maintenance of Fire Safety Equipment: 消防措施不足；电气系统维护不当。',\n",
       "  'process': 'process :Facilities Management: 安全维保部, Maintenance: 安全维保部',\n",
       "  ('embedding',\n",
       "   'risk'): array([ 0.00782128, -0.01295227, -0.00216153, ..., -0.00683146,\n",
       "          0.00437382, -0.00690337], shape=(3072,)),\n",
       "  ('embedding',\n",
       "   'risk',\n",
       "   'risk_desc'): array([ 0.01170064,  0.00102205, -0.00721529, ..., -0.00311205,\n",
       "         -0.01791473, -0.00620074], shape=(3072,)),\n",
       "  ('embedding',\n",
       "   'risk',\n",
       "   'rootcause'): array([ 0.01885137,  0.00794408,  0.00091111, ..., -0.00504043,\n",
       "          0.00176173, -0.00507021], shape=(3072,)),\n",
       "  ('embedding',\n",
       "   'process',\n",
       "   'risk'): array([ 0.01212062, -0.01234647,  0.00042556, ..., -0.0090591 ,\n",
       "          0.01269779, -0.00463829], shape=(3072,)),\n",
       "  ('embedding',\n",
       "   'risk',\n",
       "   'risk_desc',\n",
       "   'rootcause'): array([ 0.01418556, -0.00051819, -0.0025956 , ..., -0.0022979 ,\n",
       "         -0.01167741, -0.01156577], shape=(3072,)),\n",
       "  ('embedding',\n",
       "   'process',\n",
       "   'risk',\n",
       "   'risk_desc'): array([ 0.01000435,  0.00412917, -0.00348322, ..., -0.00341809,\n",
       "         -0.0136935 , -0.00764583], shape=(3072,)),\n",
       "  ('embedding',\n",
       "   'process',\n",
       "   'risk',\n",
       "   'rootcause'): array([ 0.01512319, -0.00494337, -0.00349748, ..., -0.00185914,\n",
       "          0.00133744, -0.00587733], shape=(3072,)),\n",
       "  ('embedding',\n",
       "   'process',\n",
       "   'risk',\n",
       "   'risk_desc',\n",
       "   'rootcause'): array([ 0.0141836 , -0.00015173, -0.00340144, ..., -0.00256093,\n",
       "         -0.01159453, -0.01130185], shape=(3072,)),\n",
       "  'story': 'Insufficient maintenance of fire safety equipment and a lack of emergency response training can lead to significant operational risks, such as business interruptions from fire hazards and natural disasters. These interruptions not only damage property and equipment but also result in reduced operational efficiency and loss of revenue. Additionally, the absence of a comprehensive disaster recovery plan exacerbates the impact of unforeseen events, including pandemics, which further disrupt business continuity and strain resources. Ultimately, these interconnected risks highlight the critical need for robust safety measures and preparedness strategies to safeguard against potential operational failures.'}]"
      ]
     },
     "execution_count": 12,
     "metadata": {},
     "output_type": "execute_result"
    }
   ],
   "source": [
    "raw_risk_data[:1]"
   ]
  },
  {
   "cell_type": "code",
   "execution_count": 13,
   "metadata": {},
   "outputs": [
    {
     "data": {
      "text/plain": [
       "[{'risk_cat': 'Operational Risk',\n",
       "  'risk': 'Business interruption from fire hazards',\n",
       "  'risk_desc': 'The business interruption due to a fire incident that occurs within the workplace premises can result in damage to buildings, property, and various equipment. This damage may necessitate a temporary or permanent cessation of business operations.\\n\\nBusiness interruption: refers to a period during which normal business operations are disrupted or halted, resulting in reduced operational efficiency, loss of revenue, or increased costs. 火灾事故导致的业务中断，可能会对建筑物、财产和各种设备造成损害。这种损害可能需要暂时或永久停止商业运营。',\n",
       "  'rootcause': 'rootcause :Insufficient Maintenance of Fire Safety Equipment: 消防措施不足；电气系统维护不当。',\n",
       "  'process': 'process :Facilities Management: 安全维保部, Maintenance: 安全维保部'},\n",
       " {'risk_cat': 'Operational Risk',\n",
       "  'risk': 'Business interruption from natural disasters',\n",
       "  'risk_desc': 'Business interruption from natural disasters such as earthquake, hurricanes, or wildfires that can disrupt business operations.\\n\\nBusiness interruption: refers to a period during which normal business operations are disrupted or halted, resulting in reduced operational efficiency, loss of revenue, or increased costs. 台风/暴雨自然灾害风险造成中断营业',\n",
       "  'rootcause': 'rootcause :Lack of Emergency Response Training: 不可抗力因素，缺乏应急预案, Absence of a Comprehensive Disaster Recovery Plan: 灾后恢复能力不足\\n',\n",
       "  'process': 'process :Health, Safety, and Environment (HSE): 安全维保部'},\n",
       " {'risk_cat': 'Operational Risk',\n",
       "  'risk': 'Business interruption from pandemic or epidemic',\n",
       "  'risk_desc': 'Business interruption from pandemic or epidemic involves outbreaks of infectious diseases that can lead to closures, quarantines, or reduced workforce availability, affecting business continuity.\\n\\nBusiness interruption: refers to a period during which normal business operations are disrupted or halted, resulting in reduced operational efficiency, loss of revenue, or increased costs. 疫情或流行病导致的商业中断涉及传染病的爆发，这可能导致关闭、隔离或减少劳动力可用性，从而影响商业连续性。',\n",
       "  'rootcause': 'rootcause :Other: 对健康危机准备不足；依赖实体店运营。',\n",
       "  'process': 'process :Health, Safety, and Environment (HSE): 安全维保部'}]"
      ]
     },
     "execution_count": 13,
     "metadata": {},
     "output_type": "execute_result"
    }
   ],
   "source": [
    "raw_risk_selected_keys = [\n",
    "    \"risk_cat\",\n",
    "    \"risk\",\n",
    "    \"risk_desc\",\n",
    "    \"rootcause\",\n",
    "    \"process\",\n",
    "]\n",
    "raw_risk_selected_data_list = []\n",
    "for i in raw_risk_data:\n",
    "    raw_risk_selected_data_list.append({k: i[k] for k in raw_risk_selected_keys})\n",
    "raw_risk_selected_data_list[:3]"
   ]
  },
  {
   "cell_type": "code",
   "execution_count": 14,
   "metadata": {},
   "outputs": [
    {
     "data": {
      "text/plain": [
       "('risk_34', ['risk_18', 'risk_29', 'risk_14', 'risk_16', 'risk_27', 'risk_7'])"
      ]
     },
     "execution_count": 14,
     "metadata": {},
     "output_type": "execute_result"
    }
   ],
   "source": [
    "selected_node_id, primary_nodes"
   ]
  },
  {
   "cell_type": "code",
   "execution_count": 15,
   "metadata": {},
   "outputs": [
    {
     "data": {
      "text/plain": [
       "('Understocking inventory',\n",
       " ['Insufficient Cash Flow',\n",
       "  'Delayed product delivery',\n",
       "  'Inappropriate price setting',\n",
       "  'SKU Margin Risk',\n",
       "  'Inventory loss',\n",
       "  'Overstocking inventory'])"
      ]
     },
     "execution_count": 15,
     "metadata": {},
     "output_type": "execute_result"
    }
   ],
   "source": [
    "# node_data_df select id column from selected_node_id then get label column value\n",
    "input_risk_name = node_data_df[node_data_df[\"id\"] == selected_node_id][\"label\"].values[\n",
    "    0\n",
    "]\n",
    "related_risk_name_list = node_data_df[node_data_df[\"id\"].isin(primary_nodes)][\n",
    "    \"label\"\n",
    "].values.tolist()\n",
    "input_risk_name, related_risk_name_list"
   ]
  },
  {
   "cell_type": "code",
   "execution_count": 16,
   "metadata": {},
   "outputs": [
    {
     "data": {
      "text/plain": [
       "({'risk_cat': 'Operational Risk',\n",
       "  'risk': 'Understocking inventory',\n",
       "  'risk_desc': 'Organization holds insufficient quantities of goods or materials to meet current or anticipated demand. This inventory shortage can lead to production delays, lost leads, and frustrating customers. 因销量上涨订货不及时、供应商无法及时供货等原因，导致货架上商品短缺，顾客无法购买到所需商品。',\n",
       "  'rootcause': 'rootcause :Inaccurate demand forecasting: 供应链中断、需求预测不准确, Inefficient stock management: 库存管理不善',\n",
       "  'process': 'process :Procurement: 商品部'},\n",
       " {'risk_cat': 'Liquidity Risk',\n",
       "  'risk': 'Insufficient Cash Flow',\n",
       "  'risk_desc': 'An inability to generate enough cash to cover operating expenses, debt repayments, or other short-term obligations may lead to financial distress. 上游现金流不足，没能及时支付下游的货款与场地租金等',\n",
       "  'rootcause': 'rootcause :Other: 现金流不足，没能及时支付货款与场地租金',\n",
       "  'process': 'process :Finance and Accounting: 财务部, Procurement: 商品部, Business Development: 事业发展部'})"
      ]
     },
     "execution_count": 16,
     "metadata": {},
     "output_type": "execute_result"
    }
   ],
   "source": [
    "def get_risk_data_from_risk_name(risk_name, risk_data_list):\n",
    "    for risk in risk_data_list:\n",
    "        if risk[\"risk\"] == risk_name:\n",
    "            return risk\n",
    "    return None\n",
    "\n",
    "\n",
    "input_risk_data = get_risk_data_from_risk_name(\n",
    "    input_risk_name, raw_risk_selected_data_list\n",
    ")\n",
    "related_risk_data_list = [\n",
    "    get_risk_data_from_risk_name(i, raw_risk_selected_data_list)\n",
    "    for i in related_risk_name_list\n",
    "]\n",
    "input_risk_data, related_risk_data_list[0]"
   ]
  },
  {
   "cell_type": "code",
   "execution_count": 17,
   "metadata": {},
   "outputs": [
    {
     "data": {
      "text/plain": [
       "(562,\n",
       " 'The organization faces operational risk due to understocking inventory, primarily caused by inaccurate demand forecasting and inefficient stock management. This shortage leads to production delays and frustrated customers, ultimately resulting in lost sales opportunities. Additionally, insufficient cash flow exacerbates the situation, as the inability to cover operating expenses can lead to financial distress. Consequently, the combination of inventory shortages and liquidity issues negatively impacts customer satisfaction and overall business performance.')"
      ]
     },
     "execution_count": 17,
     "metadata": {},
     "output_type": "execute_result"
    }
   ],
   "source": [
    "from utils import tell_a_story_risk_data, tell_a_story_risk_data_grouped\n",
    "\n",
    "result = tell_a_story_risk_data(input_risk_data, related_risk_data_list)\n",
    "len(result), result"
   ]
  },
  {
   "cell_type": "code",
   "execution_count": 18,
   "metadata": {},
   "outputs": [
    {
     "data": {
      "text/plain": [
       "(691,\n",
       " \"The organization faces significant operational risks due to understocking inventory, which stems from inaccurate demand forecasting and inefficient stock management. This shortage not only leads to production delays and frustrated customers but also exacerbates liquidity issues, as insufficient cash flow can hinder timely payments to suppliers. Additionally, the misalignment in inventory levels can result in inappropriate pricing strategies and SKU margin risks, ultimately affecting profitability and customer satisfaction. Consequently, the interplay of these risks creates a cycle of operational inefficiencies that jeopardizes the organization's financial health and market position.\")"
      ]
     },
     "execution_count": 18,
     "metadata": {},
     "output_type": "execute_result"
    }
   ],
   "source": [
    "group_version_result = tell_a_story_risk_data_grouped(\n",
    "    input_risk_data, related_risk_data_list\n",
    ")\n",
    "len(group_version_result), group_version_result"
   ]
  },
  {
   "cell_type": "code",
   "execution_count": 19,
   "metadata": {},
   "outputs": [
    {
     "name": "stdout",
     "output_type": "stream",
     "text": [
      "('The organization faces operational risk due to understocking inventory, '\n",
      " 'primarily caused by inaccurate demand forecasting and inefficient stock '\n",
      " 'management. This shortage leads to production delays and frustrated '\n",
      " 'customers, ultimately resulting in lost sales opportunities. Additionally, '\n",
      " 'insufficient cash flow exacerbates the situation, as the inability to cover '\n",
      " 'operating expenses can lead to financial distress. Consequently, the '\n",
      " 'combination of inventory shortages and liquidity issues negatively impacts '\n",
      " 'customer satisfaction and overall business performance.')\n"
     ]
    }
   ],
   "source": [
    "from pprint import pprint\n",
    "\n",
    "pprint(result)"
   ]
  },
  {
   "cell_type": "code",
   "execution_count": 20,
   "metadata": {},
   "outputs": [
    {
     "name": "stdout",
     "output_type": "stream",
     "text": [
      "('The organization faces significant operational risks due to understocking '\n",
      " 'inventory, which stems from inaccurate demand forecasting and inefficient '\n",
      " 'stock management. This shortage not only leads to production delays and '\n",
      " 'frustrated customers but also exacerbates liquidity issues, as insufficient '\n",
      " 'cash flow can hinder timely payments to suppliers. Additionally, the '\n",
      " 'misalignment in inventory levels can result in inappropriate pricing '\n",
      " 'strategies and SKU margin risks, ultimately affecting profitability and '\n",
      " 'customer satisfaction. Consequently, the interplay of these risks creates a '\n",
      " \"cycle of operational inefficiencies that jeopardizes the organization's \"\n",
      " 'financial health and market position.')\n"
     ]
    }
   ],
   "source": [
    "pprint(group_version_result)"
   ]
  },
  {
   "cell_type": "code",
   "execution_count": 21,
   "metadata": {},
   "outputs": [
    {
     "name": "stdout",
     "output_type": "stream",
     "text": [
      "Insufficient Cash Flow\n",
      "--------------------------------------------------\n",
      "Insufficient Cash Flow\n",
      "SKU Margin Risk\n"
     ]
    }
   ],
   "source": [
    "for i in related_risk_name_list:\n",
    "    if i.lower() in result.lower():\n",
    "        print(i)\n",
    "print(\"-\" * 50)\n",
    "for i in related_risk_name_list:\n",
    "    if i.lower() in group_version_result.lower():\n",
    "        print(i)"
   ]
  },
  {
   "cell_type": "code",
   "execution_count": 22,
   "metadata": {},
   "outputs": [
    {
     "data": {
      "text/plain": [
       "6"
      ]
     },
     "execution_count": 22,
     "metadata": {},
     "output_type": "execute_result"
    }
   ],
   "source": [
    "len(related_risk_name_list)"
   ]
  },
  {
   "cell_type": "code",
   "execution_count": null,
   "metadata": {},
   "outputs": [],
   "source": []
  },
  {
   "cell_type": "code",
   "execution_count": null,
   "metadata": {},
   "outputs": [],
   "source": []
  }
 ],
 "metadata": {
  "kernelspec": {
   "display_name": ".venv",
   "language": "python",
   "name": "python3"
  },
  "language_info": {
   "codemirror_mode": {
    "name": "ipython",
    "version": 3
   },
   "file_extension": ".py",
   "mimetype": "text/x-python",
   "name": "python",
   "nbconvert_exporter": "python",
   "pygments_lexer": "ipython3",
   "version": "3.12.2"
  }
 },
 "nbformat": 4,
 "nbformat_minor": 2
}
