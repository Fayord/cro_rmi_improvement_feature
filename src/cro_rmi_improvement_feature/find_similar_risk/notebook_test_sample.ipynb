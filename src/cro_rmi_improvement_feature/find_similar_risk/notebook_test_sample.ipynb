{
 "cells": [
  {
   "cell_type": "code",
   "execution_count": null,
   "metadata": {},
   "outputs": [],
   "source": []
  },
  {
   "cell_type": "code",
   "execution_count": 1,
   "metadata": {},
   "outputs": [
    {
     "name": "stderr",
     "output_type": "stream",
     "text": [
      "/Users/ford/Documents/coding_trae/cro_rmi_improvement_feature/.venv/lib/python3.12/site-packages/tqdm/auto.py:21: TqdmWarning: IProgress not found. Please update jupyter and ipywidgets. See https://ipywidgets.readthedocs.io/en/stable/user_install.html\n",
      "  from .autonotebook import tqdm as notebook_tqdm\n"
     ]
    }
   ],
   "source": [
    "from compare_models import (\n",
    "    compare_target_sentence_rankings,\n",
    "    cosine_distance,\n",
    "    euclidean_distance,\n",
    ")\n",
    "import pandas as pd\n",
    "from sentence_transformers import SentenceTransformer\n",
    "from embedding_providers import (\n",
    "    OpenAIEmbeddingProvider,\n",
    "    SentenceTransformerProvider,\n",
    "    GeminiEmbeddingProvider,\n",
    ")\n",
    "import openai\n",
    "from dotenv import load_dotenv\n",
    "import os\n",
    "\n",
    "env_path = \"/Users/ford/Documents/coding/confidential/.env\"\n",
    "load_dotenv(env_path)\n",
    "api_key = os.getenv(\"OPENAI_API_KEY\")\n",
    "assert api_key, \"API key is missing\"\n",
    "# Set your OpenAI API key\n",
    "openai.api_key = api_key\n",
    "\n",
    "# Initialize embedding providers with caching\n",
    "embedding_models = {\n",
    "    \"all-MiniLM-L6-v2\": SentenceTransformerProvider(\"all-MiniLM-L6-v2\"),\n",
    "    \"all-mpnet-base-v2\": SentenceTransformerProvider(\"all-mpnet-base-v2\"),\n",
    "    \"openai-small\": OpenAIEmbeddingProvider(model_name=\"text-embedding-3-small\"),\n",
    "    \"openai-large\": OpenAIEmbeddingProvider(model_name=\"text-embedding-3-large\"),\n",
    "    \"gemini-exp-03-07\": GeminiEmbeddingProvider(\n",
    "        model_name=\"gemini-embedding-exp-03-07\"\n",
    "    ),\n",
    "}"
   ]
  },
  {
   "cell_type": "code",
   "execution_count": 2,
   "metadata": {},
   "outputs": [
    {
     "name": "stderr",
     "output_type": "stream",
     "text": [
      "Processing comparisons: 100%|██████████| 90/90 [00:52<00:00,  1.72it/s]\n"
     ]
    }
   ],
   "source": [
    "input_sentences = [\n",
    "    \"Market risk affects investment returns\",\n",
    "    \"Cybersecurity poses significant threats\",\n",
    "    \"Credit risk in lending operations\",\n",
    "]\n",
    "candidate_sets = {\n",
    "    \"candidate_set_1\": {\n",
    "        \"candidate_sentences\": [\n",
    "            \"Market fluctuations impact returns\",\n",
    "            \"Weather is nice today\",\n",
    "            \"Investment returns affected by market\",\n",
    "            \"Cybersecurity threats are increasing\",\n",
    "        ],\n",
    "        \"target_sentences\": [\n",
    "            \"Market fluctuations impact returns\",\n",
    "            \"Market fluctuations impact returns\",\n",
    "            \"Investment returns affected by market\",\n",
    "        ],\n",
    "    },\n",
    "    \"candidate_set_2\": {\n",
    "        \"candidate_sentences\": [\n",
    "            \"Credit risk assessment in banking\",\n",
    "            \"Market volatility affects investments\",\n",
    "            \"Cyber attacks on organizations\",\n",
    "            \"Risk management in finance\",\n",
    "        ],\n",
    "        \"target_sentences\": [\n",
    "            \"Market volatility affects investments\",\n",
    "            \"Market volatility affects investments\",\n",
    "            \"Cyber attacks on organizations\",\n",
    "        ],\n",
    "    },\n",
    "    \"candidate_set_3\": {\n",
    "        \"candidate_sentences\": [\n",
    "            \"Financial market volatility\",\n",
    "            \"Credit risk evaluation methods\",\n",
    "            \"Information security threats\",\n",
    "            \"Enterprise risk management\",\n",
    "        ],\n",
    "        \"target_sentences\": [\n",
    "            \"Financial market volatility\",\n",
    "            \"Financial market volatility\",\n",
    "            \"Information security threats\",\n",
    "        ],\n",
    "    },\n",
    "}\n",
    "\n",
    "# Initialize distance functions\n",
    "distance_functions = {\"cosine\": cosine_distance, \"euclidean\": euclidean_distance}\n",
    "\n",
    "comparison_results = compare_target_sentence_rankings(\n",
    "    input_sentences, candidate_sets, embedding_models, distance_functions\n",
    ")"
   ]
  },
  {
   "cell_type": "code",
   "execution_count": 3,
   "metadata": {},
   "outputs": [],
   "source": [
    "comparison_result_df = pd.DataFrame(comparison_results)"
   ]
  },
  {
   "cell_type": "code",
   "execution_count": 4,
   "metadata": {},
   "outputs": [
    {
     "data": {
      "text/plain": [
       "(90, 8)"
      ]
     },
     "execution_count": 4,
     "metadata": {},
     "output_type": "execute_result"
    }
   ],
   "source": [
    "comparison_result_df.shape"
   ]
  },
  {
   "cell_type": "code",
   "execution_count": 5,
   "metadata": {},
   "outputs": [
    {
     "data": {
      "text/html": [
       "<div>\n",
       "<style scoped>\n",
       "    .dataframe tbody tr th:only-of-type {\n",
       "        vertical-align: middle;\n",
       "    }\n",
       "\n",
       "    .dataframe tbody tr th {\n",
       "        vertical-align: top;\n",
       "    }\n",
       "\n",
       "    .dataframe thead th {\n",
       "        text-align: right;\n",
       "    }\n",
       "</style>\n",
       "<table border=\"1\" class=\"dataframe\">\n",
       "  <thead>\n",
       "    <tr style=\"text-align: right;\">\n",
       "      <th></th>\n",
       "      <th>input_sentence</th>\n",
       "      <th>target_sentence</th>\n",
       "      <th>candidate_sentences</th>\n",
       "      <th>embedded_model</th>\n",
       "      <th>distance_method</th>\n",
       "      <th>sorted_similar_sentences</th>\n",
       "      <th>sorted_similar_sentences_indices</th>\n",
       "      <th>target_order_in_sorted_similar_sentences</th>\n",
       "    </tr>\n",
       "  </thead>\n",
       "  <tbody>\n",
       "    <tr>\n",
       "      <th>0</th>\n",
       "      <td>Market risk affects investment returns</td>\n",
       "      <td>Market fluctuations impact returns</td>\n",
       "      <td>[Market fluctuations impact returns, Weather i...</td>\n",
       "      <td>all-MiniLM-L6-v2</td>\n",
       "      <td>cosine</td>\n",
       "      <td>[Investment returns affected by market, Market...</td>\n",
       "      <td>[2, 0, 3, 1]</td>\n",
       "      <td>2</td>\n",
       "    </tr>\n",
       "    <tr>\n",
       "      <th>1</th>\n",
       "      <td>Market risk affects investment returns</td>\n",
       "      <td>Market fluctuations impact returns</td>\n",
       "      <td>[Market fluctuations impact returns, Weather i...</td>\n",
       "      <td>all-MiniLM-L6-v2</td>\n",
       "      <td>euclidean</td>\n",
       "      <td>[Investment returns affected by market, Market...</td>\n",
       "      <td>[2, 0, 3, 1]</td>\n",
       "      <td>2</td>\n",
       "    </tr>\n",
       "    <tr>\n",
       "      <th>2</th>\n",
       "      <td>Market risk affects investment returns</td>\n",
       "      <td>Market fluctuations impact returns</td>\n",
       "      <td>[Market fluctuations impact returns, Weather i...</td>\n",
       "      <td>all-mpnet-base-v2</td>\n",
       "      <td>cosine</td>\n",
       "      <td>[Investment returns affected by market, Market...</td>\n",
       "      <td>[2, 0, 3, 1]</td>\n",
       "      <td>2</td>\n",
       "    </tr>\n",
       "    <tr>\n",
       "      <th>3</th>\n",
       "      <td>Market risk affects investment returns</td>\n",
       "      <td>Market fluctuations impact returns</td>\n",
       "      <td>[Market fluctuations impact returns, Weather i...</td>\n",
       "      <td>all-mpnet-base-v2</td>\n",
       "      <td>euclidean</td>\n",
       "      <td>[Investment returns affected by market, Market...</td>\n",
       "      <td>[2, 0, 3, 1]</td>\n",
       "      <td>2</td>\n",
       "    </tr>\n",
       "    <tr>\n",
       "      <th>4</th>\n",
       "      <td>Market risk affects investment returns</td>\n",
       "      <td>Market fluctuations impact returns</td>\n",
       "      <td>[Market fluctuations impact returns, Weather i...</td>\n",
       "      <td>openai-small</td>\n",
       "      <td>cosine</td>\n",
       "      <td>[Investment returns affected by market, Market...</td>\n",
       "      <td>[2, 0, 3, 1]</td>\n",
       "      <td>2</td>\n",
       "    </tr>\n",
       "  </tbody>\n",
       "</table>\n",
       "</div>"
      ],
      "text/plain": [
       "                           input_sentence                     target_sentence  \\\n",
       "0  Market risk affects investment returns  Market fluctuations impact returns   \n",
       "1  Market risk affects investment returns  Market fluctuations impact returns   \n",
       "2  Market risk affects investment returns  Market fluctuations impact returns   \n",
       "3  Market risk affects investment returns  Market fluctuations impact returns   \n",
       "4  Market risk affects investment returns  Market fluctuations impact returns   \n",
       "\n",
       "                                 candidate_sentences     embedded_model  \\\n",
       "0  [Market fluctuations impact returns, Weather i...   all-MiniLM-L6-v2   \n",
       "1  [Market fluctuations impact returns, Weather i...   all-MiniLM-L6-v2   \n",
       "2  [Market fluctuations impact returns, Weather i...  all-mpnet-base-v2   \n",
       "3  [Market fluctuations impact returns, Weather i...  all-mpnet-base-v2   \n",
       "4  [Market fluctuations impact returns, Weather i...       openai-small   \n",
       "\n",
       "  distance_method                           sorted_similar_sentences  \\\n",
       "0          cosine  [Investment returns affected by market, Market...   \n",
       "1       euclidean  [Investment returns affected by market, Market...   \n",
       "2          cosine  [Investment returns affected by market, Market...   \n",
       "3       euclidean  [Investment returns affected by market, Market...   \n",
       "4          cosine  [Investment returns affected by market, Market...   \n",
       "\n",
       "  sorted_similar_sentences_indices  target_order_in_sorted_similar_sentences  \n",
       "0                     [2, 0, 3, 1]                                         2  \n",
       "1                     [2, 0, 3, 1]                                         2  \n",
       "2                     [2, 0, 3, 1]                                         2  \n",
       "3                     [2, 0, 3, 1]                                         2  \n",
       "4                     [2, 0, 3, 1]                                         2  "
      ]
     },
     "execution_count": 5,
     "metadata": {},
     "output_type": "execute_result"
    }
   ],
   "source": [
    "comparison_result_df.head()"
   ]
  },
  {
   "cell_type": "code",
   "execution_count": 6,
   "metadata": {},
   "outputs": [
    {
     "data": {
      "text/plain": [
       "0      all-MiniLM-L6-v2\n",
       "1      all-MiniLM-L6-v2\n",
       "2     all-mpnet-base-v2\n",
       "3     all-mpnet-base-v2\n",
       "4          openai-small\n",
       "            ...        \n",
       "85         openai-small\n",
       "86         openai-large\n",
       "87         openai-large\n",
       "88     gemini-exp-03-07\n",
       "89     gemini-exp-03-07\n",
       "Name: embedded_model, Length: 90, dtype: object"
      ]
     },
     "execution_count": 6,
     "metadata": {},
     "output_type": "execute_result"
    }
   ],
   "source": [
    "comparison_result_df.embedded_model"
   ]
  },
  {
   "cell_type": "code",
   "execution_count": null,
   "metadata": {},
   "outputs": [],
   "source": []
  }
 ],
 "metadata": {
  "kernelspec": {
   "display_name": ".venv",
   "language": "python",
   "name": "python3"
  },
  "language_info": {
   "codemirror_mode": {
    "name": "ipython",
    "version": 3
   },
   "file_extension": ".py",
   "mimetype": "text/x-python",
   "name": "python",
   "nbconvert_exporter": "python",
   "pygments_lexer": "ipython3",
   "version": "3.12.2"
  }
 },
 "nbformat": 4,
 "nbformat_minor": 2
}
