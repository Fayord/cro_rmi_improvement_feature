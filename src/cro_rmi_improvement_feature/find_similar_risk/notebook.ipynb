{
 "cells": [
  {
   "cell_type": "code",
   "execution_count": 1,
   "metadata": {},
   "outputs": [
    {
     "name": "stderr",
     "output_type": "stream",
     "text": [
      "/Users/ford/Documents/coding_trae/cro_rmi_improvement_feature/.venv/lib/python3.12/site-packages/tqdm/auto.py:21: TqdmWarning: IProgress not found. Please update jupyter and ipywidgets. See https://ipywidgets.readthedocs.io/en/stable/user_install.html\n",
      "  from .autonotebook import tqdm as notebook_tqdm\n"
     ]
    }
   ],
   "source": [
    "from compare_models import (\n",
    "    compare_target_sentence_rankings,\n",
    "    cosine_distance,\n",
    "    euclidean_distance,\n",
    ")\n",
    "import pandas as pd\n",
    "from sentence_transformers import SentenceTransformer"
   ]
  },
  {
   "cell_type": "code",
   "execution_count": 2,
   "metadata": {},
   "outputs": [],
   "source": [
    "from embedding_providers import OpenAIEmbeddingProvider, SentenceTransformerProvider\n",
    "import openai\n",
    "from dotenv import load_dotenv\n",
    "import os\n",
    "\n",
    "env_path = \"/Users/ford/Documents/coding/confidential/.env\"\n",
    "load_dotenv(env_path)\n",
    "api_key = os.getenv(\"OPENAI_API_KEY\")\n",
    "assert api_key, \"API key is missing\"\n",
    "# Set your OpenAI API key\n",
    "openai.api_key = api_key\n",
    "\n",
    "# Initialize embedding providers with caching\n",
    "embedding_models = {\n",
    "    \"all-MiniLM-L6-v2\": SentenceTransformerProvider(\"all-MiniLM-L6-v2\"),\n",
    "    \"all-mpnet-base-v2\": SentenceTransformerProvider(\"all-mpnet-base-v2\"),\n",
    "    \"openai-small\": OpenAIEmbeddingProvider(model=\"text-embedding-3-small\"),\n",
    "}"
   ]
  },
  {
   "cell_type": "code",
   "execution_count": 3,
   "metadata": {},
   "outputs": [],
   "source": [
    "input_sentences = [\n",
    "    \"Market risk affects investment returns\",\n",
    "    \"Cybersecurity poses significant threats\",\n",
    "    \"Credit risk in lending operations\",\n",
    "]\n",
    "\n",
    "candidate_sets = {\n",
    "    \"candidate_set_1\": {\n",
    "        \"candidate_sentences\": [\n",
    "            \"Market fluctuations impact returns\",\n",
    "            \"Weather is nice today\",\n",
    "            \"Investment returns affected by market\",\n",
    "            \"Cybersecurity threats are increasing\",\n",
    "        ],\n",
    "        \"target_sentence\": \"Market fluctuations impact returns\",\n",
    "    },\n",
    "    \"candidate_set_1\": {\n",
    "        \"candidate_sentences\": [\n",
    "            \"Credit risk assessment in banking\",\n",
    "            \"Market volatility affects investments\",\n",
    "            \"Cyber attacks on organizations\",\n",
    "            \"Risk management in finance\",\n",
    "        ],\n",
    "        \"target_sentence\": \"Market volatility affects investments\",\n",
    "    },\n",
    "    \"candidate_set_1\": {\n",
    "        \"candidate_sentences\": [\n",
    "            \"Financial market volatility\",\n",
    "            \"Credit risk evaluation methods\",\n",
    "            \"Information security threats\",\n",
    "            \"Enterprise risk management\",\n",
    "        ],\n",
    "        \"target_sentence\": \"Financial market volatility\",\n",
    "    },\n",
    "}\n",
    "\n",
    "\n",
    "# Initialize distance functions\n",
    "distance_functions = {\"cosine\": cosine_distance, \"euclidean\": euclidean_distance}\n",
    "\n",
    "comparison_results = compare_target_sentence_rankings(\n",
    "    input_sentences, candidate_sets, embedding_models, distance_functions\n",
    ")"
   ]
  },
  {
   "cell_type": "code",
   "execution_count": 7,
   "metadata": {},
   "outputs": [],
   "source": [
    "comparison_result_df = pd.DataFrame(comparison_results)"
   ]
  },
  {
   "cell_type": "code",
   "execution_count": 8,
   "metadata": {},
   "outputs": [
    {
     "data": {
      "text/plain": [
       "(18, 8)"
      ]
     },
     "execution_count": 8,
     "metadata": {},
     "output_type": "execute_result"
    }
   ],
   "source": [
    "comparison_result_df.shape"
   ]
  },
  {
   "cell_type": "code",
   "execution_count": 9,
   "metadata": {},
   "outputs": [
    {
     "data": {
      "text/html": [
       "<div>\n",
       "<style scoped>\n",
       "    .dataframe tbody tr th:only-of-type {\n",
       "        vertical-align: middle;\n",
       "    }\n",
       "\n",
       "    .dataframe tbody tr th {\n",
       "        vertical-align: top;\n",
       "    }\n",
       "\n",
       "    .dataframe thead th {\n",
       "        text-align: right;\n",
       "    }\n",
       "</style>\n",
       "<table border=\"1\" class=\"dataframe\">\n",
       "  <thead>\n",
       "    <tr style=\"text-align: right;\">\n",
       "      <th></th>\n",
       "      <th>input_sentence</th>\n",
       "      <th>target_sentence</th>\n",
       "      <th>candidate_sentences</th>\n",
       "      <th>embedded_model</th>\n",
       "      <th>distance_method</th>\n",
       "      <th>sorted_similar_sentences</th>\n",
       "      <th>sorted_similar_sentences_indices</th>\n",
       "      <th>target_order_in_sorted_similar_sentences</th>\n",
       "    </tr>\n",
       "  </thead>\n",
       "  <tbody>\n",
       "    <tr>\n",
       "      <th>0</th>\n",
       "      <td>Market risk affects investment returns</td>\n",
       "      <td>Financial market volatility</td>\n",
       "      <td>[Financial market volatility, Credit risk eval...</td>\n",
       "      <td>all-MiniLM-L6-v2</td>\n",
       "      <td>cosine</td>\n",
       "      <td>[Financial market volatility, Enterprise risk ...</td>\n",
       "      <td>[0, 3, 1, 2]</td>\n",
       "      <td>1</td>\n",
       "    </tr>\n",
       "    <tr>\n",
       "      <th>1</th>\n",
       "      <td>Market risk affects investment returns</td>\n",
       "      <td>Financial market volatility</td>\n",
       "      <td>[Financial market volatility, Credit risk eval...</td>\n",
       "      <td>all-MiniLM-L6-v2</td>\n",
       "      <td>euclidean</td>\n",
       "      <td>[Financial market volatility, Enterprise risk ...</td>\n",
       "      <td>[0, 3, 1, 2]</td>\n",
       "      <td>1</td>\n",
       "    </tr>\n",
       "    <tr>\n",
       "      <th>2</th>\n",
       "      <td>Market risk affects investment returns</td>\n",
       "      <td>Financial market volatility</td>\n",
       "      <td>[Financial market volatility, Credit risk eval...</td>\n",
       "      <td>all-mpnet-base-v2</td>\n",
       "      <td>cosine</td>\n",
       "      <td>[Financial market volatility, Enterprise risk ...</td>\n",
       "      <td>[0, 3, 1, 2]</td>\n",
       "      <td>1</td>\n",
       "    </tr>\n",
       "    <tr>\n",
       "      <th>3</th>\n",
       "      <td>Market risk affects investment returns</td>\n",
       "      <td>Financial market volatility</td>\n",
       "      <td>[Financial market volatility, Credit risk eval...</td>\n",
       "      <td>all-mpnet-base-v2</td>\n",
       "      <td>euclidean</td>\n",
       "      <td>[Financial market volatility, Enterprise risk ...</td>\n",
       "      <td>[0, 3, 1, 2]</td>\n",
       "      <td>1</td>\n",
       "    </tr>\n",
       "    <tr>\n",
       "      <th>4</th>\n",
       "      <td>Market risk affects investment returns</td>\n",
       "      <td>Financial market volatility</td>\n",
       "      <td>[Financial market volatility, Credit risk eval...</td>\n",
       "      <td>openai-small</td>\n",
       "      <td>cosine</td>\n",
       "      <td>[Financial market volatility, Enterprise risk ...</td>\n",
       "      <td>[0, 3, 1, 2]</td>\n",
       "      <td>1</td>\n",
       "    </tr>\n",
       "  </tbody>\n",
       "</table>\n",
       "</div>"
      ],
      "text/plain": [
       "                           input_sentence              target_sentence  \\\n",
       "0  Market risk affects investment returns  Financial market volatility   \n",
       "1  Market risk affects investment returns  Financial market volatility   \n",
       "2  Market risk affects investment returns  Financial market volatility   \n",
       "3  Market risk affects investment returns  Financial market volatility   \n",
       "4  Market risk affects investment returns  Financial market volatility   \n",
       "\n",
       "                                 candidate_sentences     embedded_model  \\\n",
       "0  [Financial market volatility, Credit risk eval...   all-MiniLM-L6-v2   \n",
       "1  [Financial market volatility, Credit risk eval...   all-MiniLM-L6-v2   \n",
       "2  [Financial market volatility, Credit risk eval...  all-mpnet-base-v2   \n",
       "3  [Financial market volatility, Credit risk eval...  all-mpnet-base-v2   \n",
       "4  [Financial market volatility, Credit risk eval...       openai-small   \n",
       "\n",
       "  distance_method                           sorted_similar_sentences  \\\n",
       "0          cosine  [Financial market volatility, Enterprise risk ...   \n",
       "1       euclidean  [Financial market volatility, Enterprise risk ...   \n",
       "2          cosine  [Financial market volatility, Enterprise risk ...   \n",
       "3       euclidean  [Financial market volatility, Enterprise risk ...   \n",
       "4          cosine  [Financial market volatility, Enterprise risk ...   \n",
       "\n",
       "  sorted_similar_sentences_indices  target_order_in_sorted_similar_sentences  \n",
       "0                     [0, 3, 1, 2]                                         1  \n",
       "1                     [0, 3, 1, 2]                                         1  \n",
       "2                     [0, 3, 1, 2]                                         1  \n",
       "3                     [0, 3, 1, 2]                                         1  \n",
       "4                     [0, 3, 1, 2]                                         1  "
      ]
     },
     "execution_count": 9,
     "metadata": {},
     "output_type": "execute_result"
    }
   ],
   "source": [
    "comparison_result_df.head()"
   ]
  },
  {
   "cell_type": "code",
   "execution_count": null,
   "metadata": {},
   "outputs": [],
   "source": []
  },
  {
   "cell_type": "code",
   "execution_count": null,
   "metadata": {},
   "outputs": [],
   "source": []
  }
 ],
 "metadata": {
  "kernelspec": {
   "display_name": ".venv",
   "language": "python",
   "name": "python3"
  },
  "language_info": {
   "codemirror_mode": {
    "name": "ipython",
    "version": 3
   },
   "file_extension": ".py",
   "mimetype": "text/x-python",
   "name": "python",
   "nbconvert_exporter": "python",
   "pygments_lexer": "ipython3",
   "version": "3.12.2"
  }
 },
 "nbformat": 4,
 "nbformat_minor": 2
}
