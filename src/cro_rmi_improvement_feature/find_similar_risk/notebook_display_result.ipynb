{
 "cells": [
  {
   "cell_type": "code",
   "execution_count": 1,
   "metadata": {},
   "outputs": [],
   "source": [
    "import pandas as pd\n",
    "from novel_risk_assistant_only_select_choice import get_risk_3_type_to_risk_cat_dict"
   ]
  },
  {
   "cell_type": "code",
   "execution_count": 2,
   "metadata": {},
   "outputs": [],
   "source": [
    "import os\n",
    "import json\n",
    "\n",
    "dir_path = os.getcwd()\n",
    "risk_data_df_path = os.path.join(dir_path, \"data/20240811_ALL_risks.xlsx\")\n",
    "\n",
    "risk_3_type_to_risk_cat_dict = get_risk_3_type_to_risk_cat_dict(risk_data_df_path)"
   ]
  },
  {
   "cell_type": "code",
   "execution_count": 3,
   "metadata": {},
   "outputs": [
    {
     "name": "stdout",
     "output_type": "stream",
     "text": [
      "<class 'list'>\n"
     ]
    },
    {
     "data": {
      "text/html": [
       "<div>\n",
       "<style scoped>\n",
       "    .dataframe tbody tr th:only-of-type {\n",
       "        vertical-align: middle;\n",
       "    }\n",
       "\n",
       "    .dataframe tbody tr th {\n",
       "        vertical-align: top;\n",
       "    }\n",
       "\n",
       "    .dataframe thead th {\n",
       "        text-align: right;\n",
       "    }\n",
       "</style>\n",
       "<table border=\"1\" class=\"dataframe\">\n",
       "  <thead>\n",
       "    <tr style=\"text-align: right;\">\n",
       "      <th></th>\n",
       "      <th>target_sentence</th>\n",
       "      <th>candidate_sentences</th>\n",
       "      <th>embedded_model</th>\n",
       "      <th>distance_method</th>\n",
       "      <th>sorted_similar_sentences</th>\n",
       "      <th>sorted_similar_sentences_indices</th>\n",
       "      <th>target_order_in_sorted_similar_sentences</th>\n",
       "      <th>customer_risk_cat</th>\n",
       "      <th>target_risk_cat</th>\n",
       "    </tr>\n",
       "  </thead>\n",
       "  <tbody>\n",
       "    <tr>\n",
       "      <th>0</th>\n",
       "      <td>เครื่องจักรหรืออุปกรณ์ขัดข้องหรือเสียหาย</td>\n",
       "      <td>[\"\\u0e01\\u0e32\\u0e23\\u0e02\\u0e32\\u0e14\\u0e41\\u...</td>\n",
       "      <td>all-MiniLM-L6-v2</td>\n",
       "      <td>cosine</td>\n",
       "      <td>[ด้านความปลอดภัยและอาชีวอนามัยของพนักงาน ลูกค้...</td>\n",
       "      <td>[50, 63, 147, 153, 127, 128, 129, 130, 131, 15...</td>\n",
       "      <td>119</td>\n",
       "      <td>Operational risk</td>\n",
       "      <td>Operational risk</td>\n",
       "    </tr>\n",
       "    <tr>\n",
       "      <th>1</th>\n",
       "      <td>เครื่องจักรหรืออุปกรณ์ขัดข้องหรือเสียหาย</td>\n",
       "      <td>[\"\\u0e01\\u0e32\\u0e23\\u0e02\\u0e32\\u0e14\\u0e41\\u...</td>\n",
       "      <td>all-MiniLM-L6-v2</td>\n",
       "      <td>euclidean</td>\n",
       "      <td>[ด้านความปลอดภัยและอาชีวอนามัยของพนักงาน ลูกค้...</td>\n",
       "      <td>[50, 63, 147, 153, 127, 128, 129, 130, 131, 15...</td>\n",
       "      <td>119</td>\n",
       "      <td>Operational risk</td>\n",
       "      <td>Operational risk</td>\n",
       "    </tr>\n",
       "    <tr>\n",
       "      <th>2</th>\n",
       "      <td>เครื่องจักรหรืออุปกรณ์ขัดข้องหรือเสียหาย</td>\n",
       "      <td>[\"\\u0e01\\u0e32\\u0e23\\u0e02\\u0e32\\u0e14\\u0e41\\u...</td>\n",
       "      <td>all-mpnet-base-v2</td>\n",
       "      <td>cosine</td>\n",
       "      <td>[ด้านความปลอดภัยและอาชีวอนามัยของพนักงาน ลูกค้...</td>\n",
       "      <td>[50, 63, 147, 153, 127, 128, 129, 130, 131, 15...</td>\n",
       "      <td>119</td>\n",
       "      <td>Operational risk</td>\n",
       "      <td>Operational risk</td>\n",
       "    </tr>\n",
       "    <tr>\n",
       "      <th>3</th>\n",
       "      <td>เครื่องจักรหรืออุปกรณ์ขัดข้องหรือเสียหาย</td>\n",
       "      <td>[\"\\u0e01\\u0e32\\u0e23\\u0e02\\u0e32\\u0e14\\u0e41\\u...</td>\n",
       "      <td>all-mpnet-base-v2</td>\n",
       "      <td>euclidean</td>\n",
       "      <td>[ด้านความปลอดภัยและอาชีวอนามัยของพนักงาน ลูกค้...</td>\n",
       "      <td>[50, 63, 147, 153, 127, 128, 129, 130, 131, 15...</td>\n",
       "      <td>119</td>\n",
       "      <td>Operational risk</td>\n",
       "      <td>Operational risk</td>\n",
       "    </tr>\n",
       "    <tr>\n",
       "      <th>4</th>\n",
       "      <td>เครื่องจักรหรืออุปกรณ์ขัดข้องหรือเสียหาย</td>\n",
       "      <td>[\"\\u0e01\\u0e32\\u0e23\\u0e02\\u0e32\\u0e14\\u0e41\\u...</td>\n",
       "      <td>openai-small</td>\n",
       "      <td>cosine</td>\n",
       "      <td>[เครื่องจักรหรืออุปกรณ์ขัดข้องหรือเสียหาย, เคร...</td>\n",
       "      <td>[8, 9, 57, 20, 95, 98, 27, 13, 39, 138, 23, 76...</td>\n",
       "      <td>1</td>\n",
       "      <td>Operational risk</td>\n",
       "      <td>Operational risk</td>\n",
       "    </tr>\n",
       "  </tbody>\n",
       "</table>\n",
       "</div>"
      ],
      "text/plain": [
       "                            target_sentence  \\\n",
       "0  เครื่องจักรหรืออุปกรณ์ขัดข้องหรือเสียหาย   \n",
       "1  เครื่องจักรหรืออุปกรณ์ขัดข้องหรือเสียหาย   \n",
       "2  เครื่องจักรหรืออุปกรณ์ขัดข้องหรือเสียหาย   \n",
       "3  เครื่องจักรหรืออุปกรณ์ขัดข้องหรือเสียหาย   \n",
       "4  เครื่องจักรหรืออุปกรณ์ขัดข้องหรือเสียหาย   \n",
       "\n",
       "                                 candidate_sentences     embedded_model  \\\n",
       "0  [\"\\u0e01\\u0e32\\u0e23\\u0e02\\u0e32\\u0e14\\u0e41\\u...   all-MiniLM-L6-v2   \n",
       "1  [\"\\u0e01\\u0e32\\u0e23\\u0e02\\u0e32\\u0e14\\u0e41\\u...   all-MiniLM-L6-v2   \n",
       "2  [\"\\u0e01\\u0e32\\u0e23\\u0e02\\u0e32\\u0e14\\u0e41\\u...  all-mpnet-base-v2   \n",
       "3  [\"\\u0e01\\u0e32\\u0e23\\u0e02\\u0e32\\u0e14\\u0e41\\u...  all-mpnet-base-v2   \n",
       "4  [\"\\u0e01\\u0e32\\u0e23\\u0e02\\u0e32\\u0e14\\u0e41\\u...       openai-small   \n",
       "\n",
       "  distance_method                           sorted_similar_sentences  \\\n",
       "0          cosine  [ด้านความปลอดภัยและอาชีวอนามัยของพนักงาน ลูกค้...   \n",
       "1       euclidean  [ด้านความปลอดภัยและอาชีวอนามัยของพนักงาน ลูกค้...   \n",
       "2          cosine  [ด้านความปลอดภัยและอาชีวอนามัยของพนักงาน ลูกค้...   \n",
       "3       euclidean  [ด้านความปลอดภัยและอาชีวอนามัยของพนักงาน ลูกค้...   \n",
       "4          cosine  [เครื่องจักรหรืออุปกรณ์ขัดข้องหรือเสียหาย, เคร...   \n",
       "\n",
       "                    sorted_similar_sentences_indices  \\\n",
       "0  [50, 63, 147, 153, 127, 128, 129, 130, 131, 15...   \n",
       "1  [50, 63, 147, 153, 127, 128, 129, 130, 131, 15...   \n",
       "2  [50, 63, 147, 153, 127, 128, 129, 130, 131, 15...   \n",
       "3  [50, 63, 147, 153, 127, 128, 129, 130, 131, 15...   \n",
       "4  [8, 9, 57, 20, 95, 98, 27, 13, 39, 138, 23, 76...   \n",
       "\n",
       "   target_order_in_sorted_similar_sentences customer_risk_cat  \\\n",
       "0                                       119  Operational risk   \n",
       "1                                       119  Operational risk   \n",
       "2                                       119  Operational risk   \n",
       "3                                       119  Operational risk   \n",
       "4                                         1  Operational risk   \n",
       "\n",
       "    target_risk_cat  \n",
       "0  Operational risk  \n",
       "1  Operational risk  \n",
       "2  Operational risk  \n",
       "3  Operational risk  \n",
       "4  Operational risk  "
      ]
     },
     "execution_count": 3,
     "metadata": {},
     "output_type": "execute_result"
    }
   ],
   "source": [
    "# df_path = \"/Users/ford/Documents/coding_trae/cro_rmi_improvement_feature/src/cro_rmi_improvement_feature/find_similar_risk/comparison_result_df_input_name_with_risk_cat.pkl\"\n",
    "# df_path = \"/Users/ford/Documents/coding_trae/cro_rmi_improvement_feature/src/cro_rmi_improvement_feature/find_similar_risk/comparison_result_df_input_desc_with_risk_cat.pkl\"\n",
    "df_path = \"/Users/ford/Documents/coding_trae/cro_rmi_improvement_feature/src/cro_rmi_improvement_feature/find_similar_risk/comparison_result_df_input_name_and_desc_with_risk_cat.pkl\"\n",
    "df = pd.read_pickle(df_path)\n",
    "df = df.iloc[:, 1:]\n",
    "# apply json.loads to sorted_similar_sentences\n",
    "# df[\"sorted_similar_sentences\"] = df[\"sorted_similar_sentences\"].str.encode('utf-8').str.decode('unicode_escape')\n",
    "\n",
    "# df[\"sorted_similar_sentences\"] = df[\"sorted_similar_sentences\"].apply(json.loads)\n",
    "# # Method 1: Using raw string handling\n",
    "# df[\"sorted_similar_sentences\"] = df[\"sorted_similar_sentences\"].str.encode().str.decode('unicode-escape', errors='ignore')\n",
    "# df[\"sorted_similar_sentences\"] = df[\"sorted_similar_sentences\"].apply(json.loads)\n",
    "df[\"candidate_sentences\"] = df[\"candidate_sentences\"].apply(json.dumps)\n",
    "\n",
    "print(type(df[\"sorted_similar_sentences\"][0]))\n",
    "df.head()"
   ]
  },
  {
   "cell_type": "code",
   "execution_count": 4,
   "metadata": {},
   "outputs": [],
   "source": [
    "# loop each row in df\n",
    "df[\"filter_sorted_similar_sentences\"] = None\n",
    "df[\"target_order_in_filter_sorted_similar_sentences\"] = None\n",
    "for index, row in df.iterrows():\n",
    "    new_sorted_similar_sentences = []\n",
    "    target_risk_cat = row[\"target_risk_cat\"]\n",
    "    target_sentence = row[\"target_sentence\"]\n",
    "    # print(f\"target_risk_cat: {target_risk_cat},{type(target_risk_cat)}\")\n",
    "    for sentence in row[\"sorted_similar_sentences\"]:\n",
    "        # print(sentence)\n",
    "        current_risk_cat = risk_3_type_to_risk_cat_dict[sentence]\n",
    "        if current_risk_cat == target_risk_cat:\n",
    "            new_sorted_similar_sentences.append(sentence)\n",
    "    # update new_sorted_similar_sentences to column filter_sorted_similar_sentences\n",
    "    try:\n",
    "        df.at[index, \"filter_sorted_similar_sentences\"] = new_sorted_similar_sentences\n",
    "    except ValueError:\n",
    "        print(f\"ValueError: {new_sorted_similar_sentences}\")\n",
    "        print(f\"target_risk_cat: {target_risk_cat}\")\n",
    "        print(f\"index: {index}\")\n",
    "        print(f\"row: {row}\")\n",
    "        raise\n",
    "    # then update target_order_in_filter_sorted_similar_sentences\n",
    "    target_order_in_filter_sorted_similar_sentences = (\n",
    "        new_sorted_similar_sentences.index(target_sentence) + 1\n",
    "    )\n",
    "    df.at[index, \"target_order_in_filter_sorted_similar_sentences\"] = (\n",
    "        target_order_in_filter_sorted_similar_sentences\n",
    "    )"
   ]
  },
  {
   "cell_type": "code",
   "execution_count": null,
   "metadata": {},
   "outputs": [],
   "source": []
  },
  {
   "cell_type": "code",
   "execution_count": 5,
   "metadata": {},
   "outputs": [
    {
     "data": {
      "text/html": [
       "<div>\n",
       "<style scoped>\n",
       "    .dataframe tbody tr th:only-of-type {\n",
       "        vertical-align: middle;\n",
       "    }\n",
       "\n",
       "    .dataframe tbody tr th {\n",
       "        vertical-align: top;\n",
       "    }\n",
       "\n",
       "    .dataframe thead th {\n",
       "        text-align: right;\n",
       "    }\n",
       "</style>\n",
       "<table border=\"1\" class=\"dataframe\">\n",
       "  <thead>\n",
       "    <tr style=\"text-align: right;\">\n",
       "      <th></th>\n",
       "      <th>target_sentence</th>\n",
       "      <th>candidate_sentences</th>\n",
       "      <th>embedded_model</th>\n",
       "      <th>distance_method</th>\n",
       "      <th>sorted_similar_sentences</th>\n",
       "      <th>sorted_similar_sentences_indices</th>\n",
       "      <th>target_order_in_sorted_similar_sentences</th>\n",
       "      <th>customer_risk_cat</th>\n",
       "      <th>target_risk_cat</th>\n",
       "      <th>filter_sorted_similar_sentences</th>\n",
       "      <th>target_order_in_filter_sorted_similar_sentences</th>\n",
       "    </tr>\n",
       "  </thead>\n",
       "  <tbody>\n",
       "    <tr>\n",
       "      <th>0</th>\n",
       "      <td>เครื่องจักรหรืออุปกรณ์ขัดข้องหรือเสียหาย</td>\n",
       "      <td>[\"\\u0e01\\u0e32\\u0e23\\u0e02\\u0e32\\u0e14\\u0e41\\u...</td>\n",
       "      <td>all-MiniLM-L6-v2</td>\n",
       "      <td>cosine</td>\n",
       "      <td>[ด้านความปลอดภัยและอาชีวอนามัยของพนักงาน ลูกค้...</td>\n",
       "      <td>[50, 63, 147, 153, 127, 128, 129, 130, 131, 15...</td>\n",
       "      <td>119</td>\n",
       "      <td>Operational risk</td>\n",
       "      <td>Operational risk</td>\n",
       "      <td>[ด้านความปลอดภัยและอาชีวอนามัยของพนักงาน ลูกค้...</td>\n",
       "      <td>53</td>\n",
       "    </tr>\n",
       "    <tr>\n",
       "      <th>1</th>\n",
       "      <td>เครื่องจักรหรืออุปกรณ์ขัดข้องหรือเสียหาย</td>\n",
       "      <td>[\"\\u0e01\\u0e32\\u0e23\\u0e02\\u0e32\\u0e14\\u0e41\\u...</td>\n",
       "      <td>all-MiniLM-L6-v2</td>\n",
       "      <td>euclidean</td>\n",
       "      <td>[ด้านความปลอดภัยและอาชีวอนามัยของพนักงาน ลูกค้...</td>\n",
       "      <td>[50, 63, 147, 153, 127, 128, 129, 130, 131, 15...</td>\n",
       "      <td>119</td>\n",
       "      <td>Operational risk</td>\n",
       "      <td>Operational risk</td>\n",
       "      <td>[ด้านความปลอดภัยและอาชีวอนามัยของพนักงาน ลูกค้...</td>\n",
       "      <td>53</td>\n",
       "    </tr>\n",
       "    <tr>\n",
       "      <th>2</th>\n",
       "      <td>เครื่องจักรหรืออุปกรณ์ขัดข้องหรือเสียหาย</td>\n",
       "      <td>[\"\\u0e01\\u0e32\\u0e23\\u0e02\\u0e32\\u0e14\\u0e41\\u...</td>\n",
       "      <td>all-mpnet-base-v2</td>\n",
       "      <td>cosine</td>\n",
       "      <td>[ด้านความปลอดภัยและอาชีวอนามัยของพนักงาน ลูกค้...</td>\n",
       "      <td>[50, 63, 147, 153, 127, 128, 129, 130, 131, 15...</td>\n",
       "      <td>119</td>\n",
       "      <td>Operational risk</td>\n",
       "      <td>Operational risk</td>\n",
       "      <td>[ด้านความปลอดภัยและอาชีวอนามัยของพนักงาน ลูกค้...</td>\n",
       "      <td>53</td>\n",
       "    </tr>\n",
       "    <tr>\n",
       "      <th>3</th>\n",
       "      <td>เครื่องจักรหรืออุปกรณ์ขัดข้องหรือเสียหาย</td>\n",
       "      <td>[\"\\u0e01\\u0e32\\u0e23\\u0e02\\u0e32\\u0e14\\u0e41\\u...</td>\n",
       "      <td>all-mpnet-base-v2</td>\n",
       "      <td>euclidean</td>\n",
       "      <td>[ด้านความปลอดภัยและอาชีวอนามัยของพนักงาน ลูกค้...</td>\n",
       "      <td>[50, 63, 147, 153, 127, 128, 129, 130, 131, 15...</td>\n",
       "      <td>119</td>\n",
       "      <td>Operational risk</td>\n",
       "      <td>Operational risk</td>\n",
       "      <td>[ด้านความปลอดภัยและอาชีวอนามัยของพนักงาน ลูกค้...</td>\n",
       "      <td>53</td>\n",
       "    </tr>\n",
       "    <tr>\n",
       "      <th>4</th>\n",
       "      <td>เครื่องจักรหรืออุปกรณ์ขัดข้องหรือเสียหาย</td>\n",
       "      <td>[\"\\u0e01\\u0e32\\u0e23\\u0e02\\u0e32\\u0e14\\u0e41\\u...</td>\n",
       "      <td>openai-small</td>\n",
       "      <td>cosine</td>\n",
       "      <td>[เครื่องจักรหรืออุปกรณ์ขัดข้องหรือเสียหาย, เคร...</td>\n",
       "      <td>[8, 9, 57, 20, 95, 98, 27, 13, 39, 138, 23, 76...</td>\n",
       "      <td>1</td>\n",
       "      <td>Operational risk</td>\n",
       "      <td>Operational risk</td>\n",
       "      <td>[เครื่องจักรหรืออุปกรณ์ขัดข้องหรือเสียหาย, เคร...</td>\n",
       "      <td>1</td>\n",
       "    </tr>\n",
       "  </tbody>\n",
       "</table>\n",
       "</div>"
      ],
      "text/plain": [
       "                            target_sentence  \\\n",
       "0  เครื่องจักรหรืออุปกรณ์ขัดข้องหรือเสียหาย   \n",
       "1  เครื่องจักรหรืออุปกรณ์ขัดข้องหรือเสียหาย   \n",
       "2  เครื่องจักรหรืออุปกรณ์ขัดข้องหรือเสียหาย   \n",
       "3  เครื่องจักรหรืออุปกรณ์ขัดข้องหรือเสียหาย   \n",
       "4  เครื่องจักรหรืออุปกรณ์ขัดข้องหรือเสียหาย   \n",
       "\n",
       "                                 candidate_sentences     embedded_model  \\\n",
       "0  [\"\\u0e01\\u0e32\\u0e23\\u0e02\\u0e32\\u0e14\\u0e41\\u...   all-MiniLM-L6-v2   \n",
       "1  [\"\\u0e01\\u0e32\\u0e23\\u0e02\\u0e32\\u0e14\\u0e41\\u...   all-MiniLM-L6-v2   \n",
       "2  [\"\\u0e01\\u0e32\\u0e23\\u0e02\\u0e32\\u0e14\\u0e41\\u...  all-mpnet-base-v2   \n",
       "3  [\"\\u0e01\\u0e32\\u0e23\\u0e02\\u0e32\\u0e14\\u0e41\\u...  all-mpnet-base-v2   \n",
       "4  [\"\\u0e01\\u0e32\\u0e23\\u0e02\\u0e32\\u0e14\\u0e41\\u...       openai-small   \n",
       "\n",
       "  distance_method                           sorted_similar_sentences  \\\n",
       "0          cosine  [ด้านความปลอดภัยและอาชีวอนามัยของพนักงาน ลูกค้...   \n",
       "1       euclidean  [ด้านความปลอดภัยและอาชีวอนามัยของพนักงาน ลูกค้...   \n",
       "2          cosine  [ด้านความปลอดภัยและอาชีวอนามัยของพนักงาน ลูกค้...   \n",
       "3       euclidean  [ด้านความปลอดภัยและอาชีวอนามัยของพนักงาน ลูกค้...   \n",
       "4          cosine  [เครื่องจักรหรืออุปกรณ์ขัดข้องหรือเสียหาย, เคร...   \n",
       "\n",
       "                    sorted_similar_sentences_indices  \\\n",
       "0  [50, 63, 147, 153, 127, 128, 129, 130, 131, 15...   \n",
       "1  [50, 63, 147, 153, 127, 128, 129, 130, 131, 15...   \n",
       "2  [50, 63, 147, 153, 127, 128, 129, 130, 131, 15...   \n",
       "3  [50, 63, 147, 153, 127, 128, 129, 130, 131, 15...   \n",
       "4  [8, 9, 57, 20, 95, 98, 27, 13, 39, 138, 23, 76...   \n",
       "\n",
       "   target_order_in_sorted_similar_sentences customer_risk_cat  \\\n",
       "0                                       119  Operational risk   \n",
       "1                                       119  Operational risk   \n",
       "2                                       119  Operational risk   \n",
       "3                                       119  Operational risk   \n",
       "4                                         1  Operational risk   \n",
       "\n",
       "    target_risk_cat                    filter_sorted_similar_sentences  \\\n",
       "0  Operational risk  [ด้านความปลอดภัยและอาชีวอนามัยของพนักงาน ลูกค้...   \n",
       "1  Operational risk  [ด้านความปลอดภัยและอาชีวอนามัยของพนักงาน ลูกค้...   \n",
       "2  Operational risk  [ด้านความปลอดภัยและอาชีวอนามัยของพนักงาน ลูกค้...   \n",
       "3  Operational risk  [ด้านความปลอดภัยและอาชีวอนามัยของพนักงาน ลูกค้...   \n",
       "4  Operational risk  [เครื่องจักรหรืออุปกรณ์ขัดข้องหรือเสียหาย, เคร...   \n",
       "\n",
       "  target_order_in_filter_sorted_similar_sentences  \n",
       "0                                              53  \n",
       "1                                              53  \n",
       "2                                              53  \n",
       "3                                              53  \n",
       "4                                               1  "
      ]
     },
     "execution_count": 5,
     "metadata": {},
     "output_type": "execute_result"
    }
   ],
   "source": [
    "df.head()"
   ]
  },
  {
   "cell_type": "code",
   "execution_count": 6,
   "metadata": {},
   "outputs": [
    {
     "data": {
      "text/plain": [
       "Index(['target_sentence', 'candidate_sentences', 'embedded_model',\n",
       "       'distance_method', 'sorted_similar_sentences',\n",
       "       'sorted_similar_sentences_indices',\n",
       "       'target_order_in_sorted_similar_sentences', 'customer_risk_cat',\n",
       "       'target_risk_cat', 'filter_sorted_similar_sentences',\n",
       "       'target_order_in_filter_sorted_similar_sentences'],\n",
       "      dtype='object')"
      ]
     },
     "execution_count": 6,
     "metadata": {},
     "output_type": "execute_result"
    }
   ],
   "source": [
    "df.columns"
   ]
  },
  {
   "cell_type": "code",
   "execution_count": 7,
   "metadata": {},
   "outputs": [
    {
     "data": {
      "text/html": [
       "<div>\n",
       "<style scoped>\n",
       "    .dataframe tbody tr th:only-of-type {\n",
       "        vertical-align: middle;\n",
       "    }\n",
       "\n",
       "    .dataframe tbody tr th {\n",
       "        vertical-align: top;\n",
       "    }\n",
       "\n",
       "    .dataframe thead th {\n",
       "        text-align: right;\n",
       "    }\n",
       "</style>\n",
       "<table border=\"1\" class=\"dataframe\">\n",
       "  <thead>\n",
       "    <tr style=\"text-align: right;\">\n",
       "      <th></th>\n",
       "      <th>target_sentence</th>\n",
       "      <th>candidate_sentences</th>\n",
       "      <th>embedded_model</th>\n",
       "      <th>distance_method</th>\n",
       "      <th>sorted_similar_sentences</th>\n",
       "      <th>sorted_similar_sentences_indices</th>\n",
       "      <th>target_order_in_sorted_similar_sentences</th>\n",
       "      <th>customer_risk_cat</th>\n",
       "      <th>target_risk_cat</th>\n",
       "      <th>filter_sorted_similar_sentences</th>\n",
       "      <th>target_order_in_filter_sorted_similar_sentences</th>\n",
       "      <th>is_same_risk_cat</th>\n",
       "    </tr>\n",
       "  </thead>\n",
       "  <tbody>\n",
       "    <tr>\n",
       "      <th>126</th>\n",
       "      <td>กระบวนการทำงานไม่มีประสิทธิภาพ</td>\n",
       "      <td>[\"\\u0e01\\u0e32\\u0e23\\u0e02\\u0e32\\u0e14\\u0e41\\u...</td>\n",
       "      <td>all-MiniLM-L6-v2</td>\n",
       "      <td>cosine</td>\n",
       "      <td>[อุปกรณ์ที่เกี่ยวข้องกับไอที ขัดข้องหรือไม่สาม...</td>\n",
       "      <td>[63, 147, 50, 109, 110, 111, 112, 108, 113, 11...</td>\n",
       "      <td>104</td>\n",
       "      <td>Liquidity Risk</td>\n",
       "      <td>Operational risk</td>\n",
       "      <td>[อุปกรณ์ที่เกี่ยวข้องกับไอที ขัดข้องหรือไม่สาม...</td>\n",
       "      <td>45</td>\n",
       "      <td>0</td>\n",
       "    </tr>\n",
       "    <tr>\n",
       "      <th>127</th>\n",
       "      <td>กระบวนการทำงานไม่มีประสิทธิภาพ</td>\n",
       "      <td>[\"\\u0e01\\u0e32\\u0e23\\u0e02\\u0e32\\u0e14\\u0e41\\u...</td>\n",
       "      <td>all-MiniLM-L6-v2</td>\n",
       "      <td>euclidean</td>\n",
       "      <td>[อุปกรณ์ที่เกี่ยวข้องกับไอที ขัดข้องหรือไม่สาม...</td>\n",
       "      <td>[63, 147, 50, 109, 110, 111, 112, 108, 113, 11...</td>\n",
       "      <td>104</td>\n",
       "      <td>Liquidity Risk</td>\n",
       "      <td>Operational risk</td>\n",
       "      <td>[อุปกรณ์ที่เกี่ยวข้องกับไอที ขัดข้องหรือไม่สาม...</td>\n",
       "      <td>45</td>\n",
       "      <td>0</td>\n",
       "    </tr>\n",
       "    <tr>\n",
       "      <th>128</th>\n",
       "      <td>กระบวนการทำงานไม่มีประสิทธิภาพ</td>\n",
       "      <td>[\"\\u0e01\\u0e32\\u0e23\\u0e02\\u0e32\\u0e14\\u0e41\\u...</td>\n",
       "      <td>all-mpnet-base-v2</td>\n",
       "      <td>cosine</td>\n",
       "      <td>[อุปกรณ์ที่เกี่ยวข้องกับไอที ขัดข้องหรือไม่สาม...</td>\n",
       "      <td>[63, 147, 50, 109, 110, 111, 112, 108, 113, 11...</td>\n",
       "      <td>104</td>\n",
       "      <td>Liquidity Risk</td>\n",
       "      <td>Operational risk</td>\n",
       "      <td>[อุปกรณ์ที่เกี่ยวข้องกับไอที ขัดข้องหรือไม่สาม...</td>\n",
       "      <td>45</td>\n",
       "      <td>0</td>\n",
       "    </tr>\n",
       "    <tr>\n",
       "      <th>129</th>\n",
       "      <td>กระบวนการทำงานไม่มีประสิทธิภาพ</td>\n",
       "      <td>[\"\\u0e01\\u0e32\\u0e23\\u0e02\\u0e32\\u0e14\\u0e41\\u...</td>\n",
       "      <td>all-mpnet-base-v2</td>\n",
       "      <td>euclidean</td>\n",
       "      <td>[อุปกรณ์ที่เกี่ยวข้องกับไอที ขัดข้องหรือไม่สาม...</td>\n",
       "      <td>[63, 147, 50, 109, 110, 111, 112, 108, 113, 11...</td>\n",
       "      <td>104</td>\n",
       "      <td>Liquidity Risk</td>\n",
       "      <td>Operational risk</td>\n",
       "      <td>[อุปกรณ์ที่เกี่ยวข้องกับไอที ขัดข้องหรือไม่สาม...</td>\n",
       "      <td>45</td>\n",
       "      <td>0</td>\n",
       "    </tr>\n",
       "    <tr>\n",
       "      <th>130</th>\n",
       "      <td>กระบวนการทำงานไม่มีประสิทธิภาพ</td>\n",
       "      <td>[\"\\u0e01\\u0e32\\u0e23\\u0e02\\u0e32\\u0e14\\u0e41\\u...</td>\n",
       "      <td>openai-small</td>\n",
       "      <td>cosine</td>\n",
       "      <td>[การจัดการโครงการไอทีที่ไม่มีประสิทธิภาพ, การบ...</td>\n",
       "      <td>[68, 65, 28, 60, 77, 159, 15, 31, 27, 29, 88, ...</td>\n",
       "      <td>19</td>\n",
       "      <td>Liquidity Risk</td>\n",
       "      <td>Operational risk</td>\n",
       "      <td>[การจัดการโครงการไอทีที่ไม่มีประสิทธิภาพ, การบ...</td>\n",
       "      <td>16</td>\n",
       "      <td>0</td>\n",
       "    </tr>\n",
       "    <tr>\n",
       "      <th>...</th>\n",
       "      <td>...</td>\n",
       "      <td>...</td>\n",
       "      <td>...</td>\n",
       "      <td>...</td>\n",
       "      <td>...</td>\n",
       "      <td>...</td>\n",
       "      <td>...</td>\n",
       "      <td>...</td>\n",
       "      <td>...</td>\n",
       "      <td>...</td>\n",
       "      <td>...</td>\n",
       "      <td>...</td>\n",
       "    </tr>\n",
       "    <tr>\n",
       "      <th>1921</th>\n",
       "      <td>การก่อความไม่สงบทางสังคม\\nความวุ่นวายหรือความร...</td>\n",
       "      <td>[\"\\u0e01\\u0e32\\u0e23\\u0e02\\u0e32\\u0e14\\u0e41\\u...</td>\n",
       "      <td>all-MiniLM-L6-v2</td>\n",
       "      <td>euclidean</td>\n",
       "      <td>[ธุรกิจหยุดชะงักจากโรคระบาด\\nการหยุดชะงักของธุ...</td>\n",
       "      <td>[54, 162, 13, 159, 49, 46, 163, 104, 124, 132,...</td>\n",
       "      <td>61</td>\n",
       "      <td>Operational risk</td>\n",
       "      <td>Strategic Risk</td>\n",
       "      <td>[ภาวะโลกร้อน\\nการเพิ่มขึ้นของอุณหภูมิเฉลี่ยของ...</td>\n",
       "      <td>30</td>\n",
       "      <td>0</td>\n",
       "    </tr>\n",
       "    <tr>\n",
       "      <th>1922</th>\n",
       "      <td>การก่อความไม่สงบทางสังคม\\nความวุ่นวายหรือความร...</td>\n",
       "      <td>[\"\\u0e01\\u0e32\\u0e23\\u0e02\\u0e32\\u0e14\\u0e41\\u...</td>\n",
       "      <td>all-mpnet-base-v2</td>\n",
       "      <td>cosine</td>\n",
       "      <td>[ธุรกิจหยุดชะงักจากโรคระบาด\\nการหยุดชะงักของธุ...</td>\n",
       "      <td>[54, 162, 13, 159, 49, 46, 163, 104, 124, 132,...</td>\n",
       "      <td>61</td>\n",
       "      <td>Operational risk</td>\n",
       "      <td>Strategic Risk</td>\n",
       "      <td>[ภาวะโลกร้อน\\nการเพิ่มขึ้นของอุณหภูมิเฉลี่ยของ...</td>\n",
       "      <td>30</td>\n",
       "      <td>0</td>\n",
       "    </tr>\n",
       "    <tr>\n",
       "      <th>1923</th>\n",
       "      <td>การก่อความไม่สงบทางสังคม\\nความวุ่นวายหรือความร...</td>\n",
       "      <td>[\"\\u0e01\\u0e32\\u0e23\\u0e02\\u0e32\\u0e14\\u0e41\\u...</td>\n",
       "      <td>all-mpnet-base-v2</td>\n",
       "      <td>euclidean</td>\n",
       "      <td>[ธุรกิจหยุดชะงักจากโรคระบาด\\nการหยุดชะงักของธุ...</td>\n",
       "      <td>[54, 162, 13, 159, 49, 46, 163, 104, 124, 132,...</td>\n",
       "      <td>61</td>\n",
       "      <td>Operational risk</td>\n",
       "      <td>Strategic Risk</td>\n",
       "      <td>[ภาวะโลกร้อน\\nการเพิ่มขึ้นของอุณหภูมิเฉลี่ยของ...</td>\n",
       "      <td>30</td>\n",
       "      <td>0</td>\n",
       "    </tr>\n",
       "    <tr>\n",
       "      <th>1924</th>\n",
       "      <td>การก่อความไม่สงบทางสังคม\\nความวุ่นวายหรือความร...</td>\n",
       "      <td>[\"\\u0e01\\u0e32\\u0e23\\u0e02\\u0e32\\u0e14\\u0e41\\u...</td>\n",
       "      <td>openai-small</td>\n",
       "      <td>cosine</td>\n",
       "      <td>[ด้านความปลอดภัยและอาชีวอนามัยของพนักงาน ลูกค้...</td>\n",
       "      <td>[50, 55, 56, 81, 163, 28, 68, 38, 162, 155, 65...</td>\n",
       "      <td>54</td>\n",
       "      <td>Operational risk</td>\n",
       "      <td>Strategic Risk</td>\n",
       "      <td>[การสูญเสียความหลากหลายทางชีวภาพ\\nผลกระทบร้ายแ...</td>\n",
       "      <td>3</td>\n",
       "      <td>0</td>\n",
       "    </tr>\n",
       "    <tr>\n",
       "      <th>1925</th>\n",
       "      <td>การก่อความไม่สงบทางสังคม\\nความวุ่นวายหรือความร...</td>\n",
       "      <td>[\"\\u0e01\\u0e32\\u0e23\\u0e02\\u0e32\\u0e14\\u0e41\\u...</td>\n",
       "      <td>openai-small</td>\n",
       "      <td>euclidean</td>\n",
       "      <td>[ด้านความปลอดภัยและอาชีวอนามัยของพนักงาน ลูกค้...</td>\n",
       "      <td>[50, 55, 56, 81, 163, 28, 68, 38, 162, 155, 65...</td>\n",
       "      <td>54</td>\n",
       "      <td>Operational risk</td>\n",
       "      <td>Strategic Risk</td>\n",
       "      <td>[การสูญเสียความหลากหลายทางชีวภาพ\\nผลกระทบร้ายแ...</td>\n",
       "      <td>3</td>\n",
       "      <td>0</td>\n",
       "    </tr>\n",
       "  </tbody>\n",
       "</table>\n",
       "<p>414 rows × 12 columns</p>\n",
       "</div>"
      ],
      "text/plain": [
       "                                        target_sentence  \\\n",
       "126                      กระบวนการทำงานไม่มีประสิทธิภาพ   \n",
       "127                      กระบวนการทำงานไม่มีประสิทธิภาพ   \n",
       "128                      กระบวนการทำงานไม่มีประสิทธิภาพ   \n",
       "129                      กระบวนการทำงานไม่มีประสิทธิภาพ   \n",
       "130                      กระบวนการทำงานไม่มีประสิทธิภาพ   \n",
       "...                                                 ...   \n",
       "1921  การก่อความไม่สงบทางสังคม\\nความวุ่นวายหรือความร...   \n",
       "1922  การก่อความไม่สงบทางสังคม\\nความวุ่นวายหรือความร...   \n",
       "1923  การก่อความไม่สงบทางสังคม\\nความวุ่นวายหรือความร...   \n",
       "1924  การก่อความไม่สงบทางสังคม\\nความวุ่นวายหรือความร...   \n",
       "1925  การก่อความไม่สงบทางสังคม\\nความวุ่นวายหรือความร...   \n",
       "\n",
       "                                    candidate_sentences     embedded_model  \\\n",
       "126   [\"\\u0e01\\u0e32\\u0e23\\u0e02\\u0e32\\u0e14\\u0e41\\u...   all-MiniLM-L6-v2   \n",
       "127   [\"\\u0e01\\u0e32\\u0e23\\u0e02\\u0e32\\u0e14\\u0e41\\u...   all-MiniLM-L6-v2   \n",
       "128   [\"\\u0e01\\u0e32\\u0e23\\u0e02\\u0e32\\u0e14\\u0e41\\u...  all-mpnet-base-v2   \n",
       "129   [\"\\u0e01\\u0e32\\u0e23\\u0e02\\u0e32\\u0e14\\u0e41\\u...  all-mpnet-base-v2   \n",
       "130   [\"\\u0e01\\u0e32\\u0e23\\u0e02\\u0e32\\u0e14\\u0e41\\u...       openai-small   \n",
       "...                                                 ...                ...   \n",
       "1921  [\"\\u0e01\\u0e32\\u0e23\\u0e02\\u0e32\\u0e14\\u0e41\\u...   all-MiniLM-L6-v2   \n",
       "1922  [\"\\u0e01\\u0e32\\u0e23\\u0e02\\u0e32\\u0e14\\u0e41\\u...  all-mpnet-base-v2   \n",
       "1923  [\"\\u0e01\\u0e32\\u0e23\\u0e02\\u0e32\\u0e14\\u0e41\\u...  all-mpnet-base-v2   \n",
       "1924  [\"\\u0e01\\u0e32\\u0e23\\u0e02\\u0e32\\u0e14\\u0e41\\u...       openai-small   \n",
       "1925  [\"\\u0e01\\u0e32\\u0e23\\u0e02\\u0e32\\u0e14\\u0e41\\u...       openai-small   \n",
       "\n",
       "     distance_method                           sorted_similar_sentences  \\\n",
       "126           cosine  [อุปกรณ์ที่เกี่ยวข้องกับไอที ขัดข้องหรือไม่สาม...   \n",
       "127        euclidean  [อุปกรณ์ที่เกี่ยวข้องกับไอที ขัดข้องหรือไม่สาม...   \n",
       "128           cosine  [อุปกรณ์ที่เกี่ยวข้องกับไอที ขัดข้องหรือไม่สาม...   \n",
       "129        euclidean  [อุปกรณ์ที่เกี่ยวข้องกับไอที ขัดข้องหรือไม่สาม...   \n",
       "130           cosine  [การจัดการโครงการไอทีที่ไม่มีประสิทธิภาพ, การบ...   \n",
       "...              ...                                                ...   \n",
       "1921       euclidean  [ธุรกิจหยุดชะงักจากโรคระบาด\\nการหยุดชะงักของธุ...   \n",
       "1922          cosine  [ธุรกิจหยุดชะงักจากโรคระบาด\\nการหยุดชะงักของธุ...   \n",
       "1923       euclidean  [ธุรกิจหยุดชะงักจากโรคระบาด\\nการหยุดชะงักของธุ...   \n",
       "1924          cosine  [ด้านความปลอดภัยและอาชีวอนามัยของพนักงาน ลูกค้...   \n",
       "1925       euclidean  [ด้านความปลอดภัยและอาชีวอนามัยของพนักงาน ลูกค้...   \n",
       "\n",
       "                       sorted_similar_sentences_indices  \\\n",
       "126   [63, 147, 50, 109, 110, 111, 112, 108, 113, 11...   \n",
       "127   [63, 147, 50, 109, 110, 111, 112, 108, 113, 11...   \n",
       "128   [63, 147, 50, 109, 110, 111, 112, 108, 113, 11...   \n",
       "129   [63, 147, 50, 109, 110, 111, 112, 108, 113, 11...   \n",
       "130   [68, 65, 28, 60, 77, 159, 15, 31, 27, 29, 88, ...   \n",
       "...                                                 ...   \n",
       "1921  [54, 162, 13, 159, 49, 46, 163, 104, 124, 132,...   \n",
       "1922  [54, 162, 13, 159, 49, 46, 163, 104, 124, 132,...   \n",
       "1923  [54, 162, 13, 159, 49, 46, 163, 104, 124, 132,...   \n",
       "1924  [50, 55, 56, 81, 163, 28, 68, 38, 162, 155, 65...   \n",
       "1925  [50, 55, 56, 81, 163, 28, 68, 38, 162, 155, 65...   \n",
       "\n",
       "      target_order_in_sorted_similar_sentences customer_risk_cat  \\\n",
       "126                                        104    Liquidity Risk   \n",
       "127                                        104    Liquidity Risk   \n",
       "128                                        104    Liquidity Risk   \n",
       "129                                        104    Liquidity Risk   \n",
       "130                                         19    Liquidity Risk   \n",
       "...                                        ...               ...   \n",
       "1921                                        61  Operational risk   \n",
       "1922                                        61  Operational risk   \n",
       "1923                                        61  Operational risk   \n",
       "1924                                        54  Operational risk   \n",
       "1925                                        54  Operational risk   \n",
       "\n",
       "       target_risk_cat                    filter_sorted_similar_sentences  \\\n",
       "126   Operational risk  [อุปกรณ์ที่เกี่ยวข้องกับไอที ขัดข้องหรือไม่สาม...   \n",
       "127   Operational risk  [อุปกรณ์ที่เกี่ยวข้องกับไอที ขัดข้องหรือไม่สาม...   \n",
       "128   Operational risk  [อุปกรณ์ที่เกี่ยวข้องกับไอที ขัดข้องหรือไม่สาม...   \n",
       "129   Operational risk  [อุปกรณ์ที่เกี่ยวข้องกับไอที ขัดข้องหรือไม่สาม...   \n",
       "130   Operational risk  [การจัดการโครงการไอทีที่ไม่มีประสิทธิภาพ, การบ...   \n",
       "...                ...                                                ...   \n",
       "1921    Strategic Risk  [ภาวะโลกร้อน\\nการเพิ่มขึ้นของอุณหภูมิเฉลี่ยของ...   \n",
       "1922    Strategic Risk  [ภาวะโลกร้อน\\nการเพิ่มขึ้นของอุณหภูมิเฉลี่ยของ...   \n",
       "1923    Strategic Risk  [ภาวะโลกร้อน\\nการเพิ่มขึ้นของอุณหภูมิเฉลี่ยของ...   \n",
       "1924    Strategic Risk  [การสูญเสียความหลากหลายทางชีวภาพ\\nผลกระทบร้ายแ...   \n",
       "1925    Strategic Risk  [การสูญเสียความหลากหลายทางชีวภาพ\\nผลกระทบร้ายแ...   \n",
       "\n",
       "     target_order_in_filter_sorted_similar_sentences  is_same_risk_cat  \n",
       "126                                               45                 0  \n",
       "127                                               45                 0  \n",
       "128                                               45                 0  \n",
       "129                                               45                 0  \n",
       "130                                               16                 0  \n",
       "...                                              ...               ...  \n",
       "1921                                              30                 0  \n",
       "1922                                              30                 0  \n",
       "1923                                              30                 0  \n",
       "1924                                               3                 0  \n",
       "1925                                               3                 0  \n",
       "\n",
       "[414 rows x 12 columns]"
      ]
     },
     "execution_count": 7,
     "metadata": {},
     "output_type": "execute_result"
    }
   ],
   "source": [
    "# is_same_risk_cat column check target_risk_cat == customer_risk_cat\n",
    "df[\"is_same_risk_cat\"] = df.apply(\n",
    "    lambda x: 1 if x[\"target_risk_cat\"] == x[\"customer_risk_cat\"] else 0, axis=1\n",
    ")\n",
    "# show df that has is_same_risk_cat == 0\n",
    "df[df[\"is_same_risk_cat\"] == 0]"
   ]
  },
  {
   "cell_type": "code",
   "execution_count": null,
   "metadata": {},
   "outputs": [],
   "source": []
  },
  {
   "cell_type": "code",
   "execution_count": null,
   "metadata": {},
   "outputs": [],
   "source": []
  },
  {
   "cell_type": "code",
   "execution_count": null,
   "metadata": {},
   "outputs": [],
   "source": []
  },
  {
   "cell_type": "code",
   "execution_count": 8,
   "metadata": {},
   "outputs": [
    {
     "data": {
      "text/plain": [
       "'[\"\\\\u0e01\\\\u0e32\\\\u0e23\\\\u0e02\\\\u0e32\\\\u0e14\\\\u0e41\\\\u0e04\\\\u0e25\\\\u0e19\\\\u0e27\\\\u0e31\\\\u0e15\\\\u0e16\\\\u0e38\\\\u0e14\\\\u0e34\\\\u0e1a \", \"\\\\u0e27\\\\u0e31\\\\u0e15\\\\u0e16\\\\u0e38\\\\u0e14\\\\u0e34\\\\u0e1a\\\\u0e44\\\\u0e21\\\\u0e48\\\\u0e44\\\\u0e14\\\\u0e49\\\\u0e04\\\\u0e38\\\\u0e13\\\\u0e20\\\\u0e32\\\\u0e1e\", \"\\\\u0e2d\\\\u0e33\\\\u0e19\\\\u0e32\\\\u0e08\\\\u0e15\\\\u0e48\\\\u0e2d\\\\u0e23\\\\u0e2d\\\\u0e07\\\\u0e01\\\\u0e31\\\\u0e1a\\\\u0e0b\\\\u0e31\\\\u0e1e\\\\u0e1e\\\\u0e25\\\\u0e32\\\\u0e22\\\\u0e40\\\\u0e2d\\\\u0e2d\\\\u0e23\\\\u0e4c\\\\u0e15\\\\u0e48\\\\u0e33\", \"\\\\u0e01\\\\u0e32\\\\u0e23\\\\u0e02\\\\u0e32\\\\u0e14\\\\u0e04\\\\u0e27\\\\u0e32\\\\u0e21\\\\u0e23\\\\u0e48\\\\u0e27\\\\u0e21\\\\u0e21\\\\u0e37\\\\u0e2d\\\\u0e20\\\\u0e32\\\\u0e22\\\\u0e43\\\\u0e19\\\\u0e2d\\\\u0e07\\\\u0e04\\\\u0e4c\\\\u0e01\\\\u0e23\", \"\\\\u0e01\\\\u0e23\\\\u0e30\\\\u0e1a\\\\u0e27\\\\u0e19\\\\u0e01\\\\u0e32\\\\u0e23\\\\u0e17\\\\u0e33\\\\u0e07\\\\u0e32\\\\u0e19\\\\u0e44\\\\u0e21\\\\u0e48\\\\u0e21\\\\u0e35\\\\u0e1b\\\\u0e23\\\\u0e30\\\\u0e2a\\\\u0e34\\\\u0e17\\\\u0e18\\\\u0e34\\\\u0e20\\\\u0e32\\\\u0e1e\", \"\\\\u0e01\\\\u0e32\\\\u0e23\\\\u0e02\\\\u0e32\\\\u0e14\\\\u0e1b\\\\u0e23\\\\u0e30\\\\u0e2a\\\\u0e34\\\\u0e17\\\\u0e18\\\\u0e34\\\\u0e20\\\\u0e32\\\\u0e1e\\\\u0e43\\\\u0e19\\\\u0e01\\\\u0e32\\\\u0e23\\\\u0e08\\\\u0e31\\\\u0e14\\\\u0e08\\\\u0e49\\\\u0e32\\\\u0e07\\\\u0e07\\\\u0e32\\\\u0e19\\\\u0e20\\\\u0e32\\\\u0e22\\\\u0e19\\\\u0e2d\\\\u0e01 (outsourcing)\", \"\\\\u0e02\\\\u0e49\\\\u0e2d\\\\u0e1c\\\\u0e34\\\\u0e14\\\\u0e1e\\\\u0e25\\\\u0e32\\\\u0e14\\\\u0e17\\\\u0e32\\\\u0e07\\\\u0e1a\\\\u0e31\\\\u0e0d\\\\u0e0a\\\\u0e35\", \"\\\\u0e04\\\\u0e27\\\\u0e32\\\\u0e21\\\\u0e25\\\\u0e49\\\\u0e21\\\\u0e40\\\\u0e2b\\\\u0e25\\\\u0e27\\\\u0e43\\\\u0e19\\\\u0e01\\\\u0e32\\\\u0e23\\\\u0e14\\\\u0e4d\\\\u0e32\\\\u0e40\\\\u0e19\\\\u0e34\\\\u0e19\\\\u0e18\\\\u0e38\\\\u0e23\\\\u0e01\\\\u0e34\\\\u0e08\\\\u0e43\\\\u0e2b\\\\u0e21\\\\u0e48\", \"\\\\u0e40\\\\u0e04\\\\u0e23\\\\u0e37\\\\u0e48\\\\u0e2d\\\\u0e07\\\\u0e08\\\\u0e31\\\\u0e01\\\\u0e23\\\\u0e2b\\\\u0e23\\\\u0e37\\\\u0e2d\\\\u0e2d\\\\u0e38\\\\u0e1b\\\\u0e01\\\\u0e23\\\\u0e13\\\\u0e4c\\\\u0e02\\\\u0e31\\\\u0e14\\\\u0e02\\\\u0e49\\\\u0e2d\\\\u0e07\\\\u0e2b\\\\u0e23\\\\u0e37\\\\u0e2d\\\\u0e40\\\\u0e2a\\\\u0e35\\\\u0e22\\\\u0e2b\\\\u0e32\\\\u0e22\", \"\\\\u0e40\\\\u0e04\\\\u0e23\\\\u0e37\\\\u0e48\\\\u0e2d\\\\u0e07\\\\u0e08\\\\u0e31\\\\u0e01\\\\u0e23\\\\u0e2b\\\\u0e23\\\\u0e37\\\\u0e2d\\\\u0e2d\\\\u0e38\\\\u0e1b\\\\u0e01\\\\u0e23\\\\u0e13\\\\u0e4c\\\\u0e2a\\\\u0e39\\\\u0e0d\\\\u0e2b\\\\u0e32\\\\u0e22\", \"\\\\u0e22\\\\u0e32\\\\u0e19\\\\u0e1e\\\\u0e32\\\\u0e2b\\\\u0e19\\\\u0e30\\\\u0e02\\\\u0e31\\\\u0e14\\\\u0e02\\\\u0e49\\\\u0e2d\\\\u0e07\\\\u0e2b\\\\u0e23\\\\u0e37\\\\u0e2d\\\\u0e40\\\\u0e2a\\\\u0e35\\\\u0e22\\\\u0e2b\\\\u0e32\\\\u0e22\", \"\\\\u0e22\\\\u0e32\\\\u0e19\\\\u0e1e\\\\u0e32\\\\u0e2b\\\\u0e19\\\\u0e30\\\\u0e2a\\\\u0e39\\\\u0e0d\\\\u0e2b\\\\u0e32\\\\u0e22\", \"\\\\u0e42\\\\u0e04\\\\u0e23\\\\u0e07\\\\u0e2a\\\\u0e23\\\\u0e49\\\\u0e32\\\\u0e07\\\\u0e1e\\\\u0e37\\\\u0e49\\\\u0e19\\\\u0e10\\\\u0e32\\\\u0e19\\\\u0e02\\\\u0e31\\\\u0e14\\\\u0e02\\\\u0e49\\\\u0e2d\\\\u0e07\\\\u0e2b\\\\u0e23\\\\u0e37\\\\u0e2d\\\\u0e40\\\\u0e2a\\\\u0e35\\\\u0e22\\\\u0e2b\\\\u0e32\\\\u0e22\", \"\\\\u0e1c\\\\u0e25\\\\u0e34\\\\u0e15\\\\u0e20\\\\u0e31\\\\u0e13\\\\u0e11\\\\u0e4c\\\\u0e44\\\\u0e21\\\\u0e48\\\\u0e44\\\\u0e14\\\\u0e49\\\\u0e04\\\\u0e38\\\\u0e13\\\\u0e20\\\\u0e32\\\\u0e1e\", \"\\\\u0e04\\\\u0e27\\\\u0e32\\\\u0e21\\\\u0e44\\\\u0e21\\\\u0e48\\\\u0e1b\\\\u0e25\\\\u0e2d\\\\u0e14\\\\u0e20\\\\u0e31\\\\u0e22\\\\u0e02\\\\u0e2d\\\\u0e07\\\\u0e1c\\\\u0e25\\\\u0e34\\\\u0e15\\\\u0e20\\\\u0e31\\\\u0e13\\\\u0e11\\\\u0e4c\", \"\\\\u0e01\\\\u0e32\\\\u0e23\\\\u0e43\\\\u0e2b\\\\u0e49\\\\u0e1a\\\\u0e23\\\\u0e34\\\\u0e01\\\\u0e32\\\\u0e23\\\\u0e44\\\\u0e21\\\\u0e48\\\\u0e44\\\\u0e14\\\\u0e49\\\\u0e04\\\\u0e38\\\\u0e13\\\\u0e20\\\\u0e32\\\\u0e1e\", \"\\\\u0e2a\\\\u0e34\\\\u0e19\\\\u0e04\\\\u0e49\\\\u0e32\\\\u0e04\\\\u0e07\\\\u0e04\\\\u0e25\\\\u0e31\\\\u0e07\\\\u0e19\\\\u0e49\\\\u0e2d\\\\u0e22\\\\u0e40\\\\u0e01\\\\u0e34\\\\u0e19\\\\u0e44\\\\u0e1b\", \"\\\\u0e2a\\\\u0e34\\\\u0e19\\\\u0e04\\\\u0e49\\\\u0e32\\\\u0e04\\\\u0e07\\\\u0e04\\\\u0e25\\\\u0e31\\\\u0e07\\\\u0e21\\\\u0e32\\\\u0e01\\\\u0e40\\\\u0e01\\\\u0e34\\\\u0e19\\\\u0e44\\\\u0e1b\", \"\\\\u0e2a\\\\u0e34\\\\u0e19\\\\u0e04\\\\u0e49\\\\u0e32\\\\u0e04\\\\u0e07\\\\u0e04\\\\u0e25\\\\u0e31\\\\u0e07\\\\u0e25\\\\u0e49\\\\u0e32\\\\u0e2a\\\\u0e21\\\\u0e31\\\\u0e22\", \"\\\\u0e2a\\\\u0e34\\\\u0e19\\\\u0e04\\\\u0e49\\\\u0e32\\\\u0e04\\\\u0e07\\\\u0e04\\\\u0e25\\\\u0e31\\\\u0e07\\\\u0e2b\\\\u0e21\\\\u0e14\\\\u0e2d\\\\u0e32\\\\u0e22\\\\u0e38\", \"\\\\u0e2a\\\\u0e34\\\\u0e19\\\\u0e04\\\\u0e49\\\\u0e32\\\\u0e04\\\\u0e07\\\\u0e04\\\\u0e25\\\\u0e31\\\\u0e07\\\\u0e40\\\\u0e2a\\\\u0e35\\\\u0e22\\\\u0e2b\\\\u0e32\\\\u0e22\", \"\\\\u0e2a\\\\u0e34\\\\u0e19\\\\u0e04\\\\u0e49\\\\u0e32\\\\u0e04\\\\u0e07\\\\u0e04\\\\u0e25\\\\u0e31\\\\u0e07\\\\u0e2a\\\\u0e39\\\\u0e0d\\\\u0e2b\\\\u0e32\\\\u0e22\", \"\\\\u0e01\\\\u0e32\\\\u0e23\\\\u0e08\\\\u0e31\\\\u0e14\\\\u0e2a\\\\u0e48\\\\u0e07\\\\u0e2a\\\\u0e34\\\\u0e19\\\\u0e04\\\\u0e49\\\\u0e32\\\\u0e1c\\\\u0e34\\\\u0e14\", \"\\\\u0e2a\\\\u0e34\\\\u0e19\\\\u0e04\\\\u0e49\\\\u0e32\\\\u0e40\\\\u0e2a\\\\u0e35\\\\u0e22\\\\u0e2b\\\\u0e32\\\\u0e22\\\\u0e23\\\\u0e30\\\\u0e2b\\\\u0e27\\\\u0e48\\\\u0e32\\\\u0e07\\\\u0e01\\\\u0e32\\\\u0e23\\\\u0e08\\\\u0e31\\\\u0e14\\\\u0e2a\\\\u0e48\\\\u0e07\", \"\\\\u0e2a\\\\u0e34\\\\u0e19\\\\u0e04\\\\u0e49\\\\u0e32\\\\u0e2a\\\\u0e39\\\\u0e0d\\\\u0e2b\\\\u0e32\\\\u0e22\\\\u0e23\\\\u0e30\\\\u0e2b\\\\u0e27\\\\u0e48\\\\u0e32\\\\u0e07\\\\u0e01\\\\u0e32\\\\u0e23\\\\u0e08\\\\u0e31\\\\u0e14\\\\u0e2a\\\\u0e48\\\\u0e07\", \"\\\\u0e44\\\\u0e21\\\\u0e48\\\\u0e2a\\\\u0e32\\\\u0e21\\\\u0e32\\\\u0e23\\\\u0e16\\\\u0e08\\\\u0e31\\\\u0e14\\\\u0e2a\\\\u0e48\\\\u0e07\\\\u0e2a\\\\u0e34\\\\u0e19\\\\u0e04\\\\u0e49\\\\u0e32\\\\u0e44\\\\u0e14\\\\u0e49\", \"\\\\u0e01\\\\u0e32\\\\u0e23\\\\u0e08\\\\u0e31\\\\u0e14\\\\u0e2a\\\\u0e48\\\\u0e07\\\\u0e2a\\\\u0e34\\\\u0e19\\\\u0e04\\\\u0e49\\\\u0e32\\\\u0e25\\\\u0e48\\\\u0e32\\\\u0e0a\\\\u0e49\\\\u0e32\", \"\\\\u0e1c\\\\u0e25\\\\u0e34\\\\u0e15\\\\u0e20\\\\u0e31\\\\u0e13\\\\u0e11\\\\u0e4c\\\\u0e44\\\\u0e21\\\\u0e48\\\\u0e2a\\\\u0e32\\\\u0e21\\\\u0e32\\\\u0e23\\\\u0e16\\\\u0e41\\\\u0e02\\\\u0e48\\\\u0e07\\\\u0e02\\\\u0e31\\\\u0e19\\\\u0e44\\\\u0e14\\\\u0e49\", \"\\\\u0e01\\\\u0e32\\\\u0e23\\\\u0e43\\\\u0e2b\\\\u0e49\\\\u0e1a\\\\u0e23\\\\u0e34\\\\u0e01\\\\u0e32\\\\u0e23\\\\u0e17\\\\u0e35\\\\u0e48\\\\u0e44\\\\u0e21\\\\u0e48\\\\u0e2a\\\\u0e32\\\\u0e21\\\\u0e32\\\\u0e23\\\\u0e16\\\\u0e41\\\\u0e02\\\\u0e48\\\\u0e07\\\\u0e02\\\\u0e31\\\\u0e19\\\\u0e44\\\\u0e14\\\\u0e49\", \"\\\\u0e01\\\\u0e32\\\\u0e23\\\\u0e15\\\\u0e31\\\\u0e49\\\\u0e07\\\\u0e23\\\\u0e32\\\\u0e04\\\\u0e32\\\\u0e17\\\\u0e35\\\\u0e48\\\\u0e44\\\\u0e21\\\\u0e48\\\\u0e40\\\\u0e2b\\\\u0e21\\\\u0e32\\\\u0e30\\\\u0e2a\\\\u0e21\", \"\\\\u0e01\\\\u0e32\\\\u0e23\\\\u0e15\\\\u0e25\\\\u0e32\\\\u0e14\\\\u0e17\\\\u0e35\\\\u0e48\\\\u0e44\\\\u0e21\\\\u0e48\\\\u0e21\\\\u0e35\\\\u0e1b\\\\u0e23\\\\u0e30\\\\u0e2a\\\\u0e34\\\\u0e17\\\\u0e18\\\\u0e34\\\\u0e20\\\\u0e32\\\\u0e1e\", \"\\\\u0e0a\\\\u0e48\\\\u0e2d\\\\u0e07\\\\u0e17\\\\u0e32\\\\u0e07\\\\u0e01\\\\u0e32\\\\u0e23\\\\u0e08\\\\u0e31\\\\u0e14\\\\u0e08\\\\u0e4d\\\\u0e32\\\\u0e2b\\\\u0e19\\\\u0e48\\\\u0e32\\\\u0e22\\\\u0e41\\\\u0e1a\\\\u0e1a\\\\u0e14\\\\u0e31\\\\u0e49\\\\u0e07\\\\u0e40\\\\u0e14\\\\u0e34\\\\u0e21\\\\u0e17\\\\u0e35\\\\u0e48\\\\u0e44\\\\u0e21\\\\u0e48\\\\u0e2a\\\\u0e32\\\\u0e21\\\\u0e32\\\\u0e23\\\\u0e16\\\\u0e41\\\\u0e02\\\\u0e48\\\\u0e07\\\\u0e02\\\\u0e31\\\\u0e19\\\\u0e44\\\\u0e14\\\\u0e49\", \"\\\\u0e0a\\\\u0e48\\\\u0e2d\\\\u0e07\\\\u0e17\\\\u0e32\\\\u0e07\\\\u0e01\\\\u0e32\\\\u0e23\\\\u0e08\\\\u0e31\\\\u0e14\\\\u0e08\\\\u0e4d\\\\u0e32\\\\u0e2b\\\\u0e19\\\\u0e48\\\\u0e32\\\\u0e22\\\\u0e2d\\\\u0e35\\\\u0e04\\\\u0e2d\\\\u0e21\\\\u0e40\\\\u0e21\\\\u0e34\\\\u0e23\\\\u0e4c\\\\u0e0b\\\\u0e17\\\\u0e35\\\\u0e48\\\\u0e44\\\\u0e21\\\\u0e48\\\\u0e2a\\\\u0e32\\\\u0e21\\\\u0e32\\\\u0e23\\\\u0e16\\\\u0e41\\\\u0e02\\\\u0e48\\\\u0e07\\\\u0e02\\\\u0e31\\\\u0e19\\\\u0e44\\\\u0e14\\\\u0e49\", \"\\\\u0e01\\\\u0e32\\\\u0e23\\\\u0e44\\\\u0e21\\\\u0e48\\\\u0e2a\\\\u0e32\\\\u0e21\\\\u0e32\\\\u0e23\\\\u0e16\\\\u0e19\\\\u0e33\\\\u0e01\\\\u0e32\\\\u0e23\\\\u0e08\\\\u0e31\\\\u0e14\\\\u0e08\\\\u0e33\\\\u0e2b\\\\u0e19\\\\u0e48\\\\u0e32\\\\u0e22\\\\u0e41\\\\u0e1a\\\\u0e1a\\\\u0e2b\\\\u0e25\\\\u0e32\\\\u0e22\\\\u0e0a\\\\u0e48\\\\u0e2d\\\\u0e07\\\\u0e17\\\\u0e32\\\\u0e07 (omni-channel) \\\\u0e21\\\\u0e32\\\\u0e43\\\\u0e0a\\\\u0e49\\\\u0e2d\\\\u0e22\\\\u0e48\\\\u0e32\\\\u0e07\\\\u0e21\\\\u0e35\\\\u0e1b\\\\u0e23\\\\u0e30\\\\u0e2a\\\\u0e34\\\\u0e17\\\\u0e18\\\\u0e34\\\\u0e20\\\\u0e32\\\\u0e1e\", \"\\\\u0e04\\\\u0e27\\\\u0e32\\\\u0e21\\\\u0e25\\\\u0e49\\\\u0e21\\\\u0e40\\\\u0e2b\\\\u0e25\\\\u0e27\\\\u0e43\\\\u0e19\\\\u0e01\\\\u0e32\\\\u0e23\\\\u0e1e\\\\u0e31\\\\u0e12\\\\u0e19\\\\u0e32\\\\u0e1c\\\\u0e25\\\\u0e34\\\\u0e15\\\\u0e20\\\\u0e31\\\\u0e13\\\\u0e11\\\\u0e4c\", \"\\\\u0e04\\\\u0e27\\\\u0e32\\\\u0e21\\\\u0e25\\\\u0e48\\\\u0e32\\\\u0e0a\\\\u0e49\\\\u0e32\\\\u0e43\\\\u0e19\\\\u0e01\\\\u0e32\\\\u0e23\\\\u0e1e\\\\u0e31\\\\u0e12\\\\u0e19\\\\u0e32\\\\u0e1c\\\\u0e25\\\\u0e34\\\\u0e15\\\\u0e20\\\\u0e31\\\\u0e13\\\\u0e11\\\\u0e4c\", \"\\\\u0e01\\\\u0e32\\\\u0e23\\\\u0e1e\\\\u0e36\\\\u0e48\\\\u0e07\\\\u0e1e\\\\u0e32\\\\u0e25\\\\u0e39\\\\u0e01\\\\u0e04\\\\u0e49\\\\u0e32\\\\u0e08\\\\u0e33\\\\u0e19\\\\u0e27\\\\u0e19\\\\u0e19\\\\u0e49\\\\u0e2d\\\\u0e22\\\\u0e23\\\\u0e32\\\\u0e22\", \"\\\\u0e01\\\\u0e32\\\\u0e23\\\\u0e1e\\\\u0e36\\\\u0e48\\\\u0e07\\\\u0e1e\\\\u0e32\\\\u0e0a\\\\u0e48\\\\u0e2d\\\\u0e07\\\\u0e17\\\\u0e32\\\\u0e07\\\\u0e01\\\\u0e32\\\\u0e23\\\\u0e08\\\\u0e31\\\\u0e14\\\\u0e08\\\\u0e33\\\\u0e2b\\\\u0e19\\\\u0e48\\\\u0e32\\\\u0e22\\\\u0e08\\\\u0e33\\\\u0e19\\\\u0e27\\\\u0e19\\\\u0e19\\\\u0e49\\\\u0e2d\\\\u0e22\\\\u0e23\\\\u0e32\\\\u0e22\", \"\\\\u0e01\\\\u0e32\\\\u0e23\\\\u0e2a\\\\u0e39\\\\u0e0d\\\\u0e40\\\\u0e2a\\\\u0e35\\\\u0e22\\\\u0e15\\\\u0e31\\\\u0e27\\\\u0e41\\\\u0e17\\\\u0e19\\\\u0e08\\\\u0e4d\\\\u0e32\\\\u0e2b\\\\u0e19\\\\u0e48\\\\u0e32\\\\u0e22\\\\u0e17\\\\u0e35\\\\u0e48\\\\u0e2a\\\\u0e4d\\\\u0e32\\\\u0e04\\\\u0e31\\\\u0e0d\", \"\\\\u0e25\\\\u0e39\\\\u0e01\\\\u0e04\\\\u0e49\\\\u0e32\\\\u0e44\\\\u0e21\\\\u0e48\\\\u0e1e\\\\u0e2d\\\\u0e43\\\\u0e08\\\\u0e43\\\\u0e19\\\\u0e1c\\\\u0e25\\\\u0e34\\\\u0e15\\\\u0e20\\\\u0e31\\\\u0e13\\\\u0e11\\\\u0e4c\", \"\\\\u0e25\\\\u0e39\\\\u0e01\\\\u0e04\\\\u0e49\\\\u0e32\\\\u0e44\\\\u0e21\\\\u0e48\\\\u0e1e\\\\u0e2d\\\\u0e43\\\\u0e08\\\\u0e43\\\\u0e19\\\\u0e01\\\\u0e32\\\\u0e23\\\\u0e43\\\\u0e2b\\\\u0e49\\\\u0e1a\\\\u0e23\\\\u0e34\\\\u0e01\\\\u0e32\\\\u0e23\", \"\\\\u0e25\\\\u0e39\\\\u0e01\\\\u0e04\\\\u0e49\\\\u0e32\\\\u0e44\\\\u0e21\\\\u0e48\\\\u0e1e\\\\u0e2d\\\\u0e43\\\\u0e08\\\\u0e43\\\\u0e19\\\\u0e01\\\\u0e32\\\\u0e23\\\\u0e43\\\\u0e2b\\\\u0e49\\\\u0e1a\\\\u0e23\\\\u0e34\\\\u0e01\\\\u0e32\\\\u0e23\\\\u0e2b\\\\u0e25\\\\u0e31\\\\u0e07\\\\u0e01\\\\u0e32\\\\u0e23\\\\u0e02\\\\u0e32\\\\u0e22\", \"\\\\u0e01\\\\u0e32\\\\u0e23\\\\u0e2a\\\\u0e39\\\\u0e0d\\\\u0e40\\\\u0e2a\\\\u0e35\\\\u0e22\\\\u0e25\\\\u0e39\\\\u0e01\\\\u0e04\\\\u0e49\\\\u0e32 (customer churn)\", \"\\\\u0e1e\\\\u0e19\\\\u0e31\\\\u0e01\\\\u0e07\\\\u0e32\\\\u0e19\\\\u0e17\\\\u0e33\\\\u0e07\\\\u0e32\\\\u0e19\\\\u0e1c\\\\u0e34\\\\u0e14\\\\u0e1e\\\\u0e25\\\\u0e32\\\\u0e14\", \"\\\\u0e1e\\\\u0e19\\\\u0e31\\\\u0e01\\\\u0e07\\\\u0e32\\\\u0e19\\\\u0e15\\\\u0e31\\\\u0e14\\\\u0e2a\\\\u0e34\\\\u0e19\\\\u0e43\\\\u0e08\\\\u0e1c\\\\u0e34\\\\u0e14\\\\u0e1e\\\\u0e25\\\\u0e32\\\\u0e14\", \"\\\\u0e1e\\\\u0e19\\\\u0e31\\\\u0e01\\\\u0e07\\\\u0e32\\\\u0e19\\\\u0e21\\\\u0e35\\\\u0e1b\\\\u0e23\\\\u0e30\\\\u0e2a\\\\u0e34\\\\u0e17\\\\u0e18\\\\u0e34\\\\u0e20\\\\u0e32\\\\u0e1e\\\\u0e01\\\\u0e32\\\\u0e23\\\\u0e17\\\\u0e33\\\\u0e07\\\\u0e32\\\\u0e19\\\\u0e15\\\\u0e48\\\\u0e33\", \"\\\\u0e01\\\\u0e32\\\\u0e23\\\\u0e02\\\\u0e32\\\\u0e14\\\\u0e41\\\\u0e04\\\\u0e25\\\\u0e19\\\\u0e1e\\\\u0e19\\\\u0e31\\\\u0e01\\\\u0e07\\\\u0e32\\\\u0e19\\\\u0e2b\\\\u0e23\\\\u0e37\\\\u0e2d\\\\u0e41\\\\u0e23\\\\u0e07\\\\u0e07\\\\u0e32\\\\u0e19\", \"\\\\u0e2d\\\\u0e07\\\\u0e04\\\\u0e4c\\\\u0e01\\\\u0e23\\\\u0e44\\\\u0e21\\\\u0e48\\\\u0e2a\\\\u0e32\\\\u0e21\\\\u0e32\\\\u0e23\\\\u0e16\\\\u0e23\\\\u0e31\\\\u0e01\\\\u0e29\\\\u0e32\\\\u0e1e\\\\u0e19\\\\u0e31\\\\u0e01\\\\u0e07\\\\u0e32\\\\u0e19\\\\u0e17\\\\u0e35\\\\u0e48\\\\u0e21\\\\u0e35\\\\u0e04\\\\u0e27\\\\u0e32\\\\u0e21\\\\u0e2a\\\\u0e32\\\\u0e21\\\\u0e32\\\\u0e23\\\\u0e16\\\\u0e41\\\\u0e25\\\\u0e30\\\\u0e04\\\\u0e27\\\\u0e32\\\\u0e21\\\\u0e40\\\\u0e0a\\\\u0e35\\\\u0e48\\\\u0e22\\\\u0e27\\\\u0e0a\\\\u0e32\\\\u0e0d\\\\u0e40\\\\u0e2d\\\\u0e32\\\\u0e44\\\\u0e27\\\\u0e49\\\\u0e44\\\\u0e14\\\\u0e49\", \"\\\\u0e01\\\\u0e32\\\\u0e23\\\\u0e02\\\\u0e32\\\\u0e14\\\\u0e04\\\\u0e19\\\\u0e17\\\\u0e33\\\\u0e07\\\\u0e32\\\\u0e19\\\\u0e43\\\\u0e19\\\\u0e15\\\\u0e33\\\\u0e41\\\\u0e2b\\\\u0e19\\\\u0e48\\\\u0e07\\\\u0e07\\\\u0e32\\\\u0e19\\\\u0e17\\\\u0e35\\\\u0e48\\\\u0e2a\\\\u0e33\\\\u0e04\\\\u0e31\\\\u0e0d\", \"\\\\u0e2d\\\\u0e31\\\\u0e15\\\\u0e23\\\\u0e32\\\\u0e01\\\\u0e32\\\\u0e23\\\\u0e25\\\\u0e32\\\\u0e2d\\\\u0e2d\\\\u0e01\\\\u0e2a\\\\u0e39\\\\u0e07\", \"\\\\u0e14\\\\u0e49\\\\u0e32\\\\u0e19\\\\u0e04\\\\u0e27\\\\u0e32\\\\u0e21\\\\u0e1b\\\\u0e25\\\\u0e2d\\\\u0e14\\\\u0e20\\\\u0e31\\\\u0e22\\\\u0e41\\\\u0e25\\\\u0e30\\\\u0e2d\\\\u0e32\\\\u0e0a\\\\u0e35\\\\u0e27\\\\u0e2d\\\\u0e19\\\\u0e32\\\\u0e21\\\\u0e31\\\\u0e22\\\\u0e02\\\\u0e2d\\\\u0e07\\\\u0e1e\\\\u0e19\\\\u0e31\\\\u0e01\\\\u0e07\\\\u0e32\\\\u0e19 \\\\u0e25\\\\u0e39\\\\u0e01\\\\u0e04\\\\u0e49\\\\u0e32 \\\\u0e2b\\\\u0e23\\\\u0e37\\\\u0e2d\\\\u0e1c\\\\u0e39\\\\u0e49\\\\u0e40\\\\u0e01\\\\u0e35\\\\u0e48\\\\u0e22\\\\u0e27\\\\u0e02\\\\u0e49\\\\u0e2d\\\\u0e07\", \"\\\\u0e01\\\\u0e32\\\\u0e23\\\\u0e08\\\\u0e31\\\\u0e14\\\\u0e01\\\\u0e32\\\\u0e23\\\\u0e27\\\\u0e31\\\\u0e15\\\\u0e16\\\\u0e38\\\\u0e2d\\\\u0e31\\\\u0e19\\\\u0e15\\\\u0e23\\\\u0e32\\\\u0e22\", \"\\\\u0e18\\\\u0e38\\\\u0e23\\\\u0e01\\\\u0e34\\\\u0e08\\\\u0e2b\\\\u0e22\\\\u0e38\\\\u0e14\\\\u0e0a\\\\u0e30\\\\u0e07\\\\u0e31\\\\u0e01\\\\u0e08\\\\u0e32\\\\u0e01\\\\u0e20\\\\u0e31\\\\u0e22\\\\u0e1e\\\\u0e34\\\\u0e1a\\\\u0e31\\\\u0e15\\\\u0e34\\\\u0e17\\\\u0e32\\\\u0e07\\\\u0e18\\\\u0e23\\\\u0e23\\\\u0e21\\\\u0e0a\\\\u0e32\\\\u0e15\\\\u0e34\", \"\\\\u0e18\\\\u0e38\\\\u0e23\\\\u0e01\\\\u0e34\\\\u0e08\\\\u0e2b\\\\u0e22\\\\u0e38\\\\u0e14\\\\u0e0a\\\\u0e30\\\\u0e07\\\\u0e31\\\\u0e01\\\\u0e08\\\\u0e32\\\\u0e01\\\\u0e02\\\\u0e49\\\\u0e2d\\\\u0e1e\\\\u0e34\\\\u0e1e\\\\u0e32\\\\u0e17\\\\u0e41\\\\u0e23\\\\u0e07\\\\u0e07\\\\u0e32\\\\u0e19\", \"\\\\u0e18\\\\u0e38\\\\u0e23\\\\u0e01\\\\u0e34\\\\u0e08\\\\u0e2b\\\\u0e22\\\\u0e38\\\\u0e14\\\\u0e0a\\\\u0e30\\\\u0e07\\\\u0e31\\\\u0e01\\\\u0e08\\\\u0e32\\\\u0e01\\\\u0e42\\\\u0e23\\\\u0e04\\\\u0e23\\\\u0e30\\\\u0e1a\\\\u0e32\\\\u0e14\", \"\\\\u0e18\\\\u0e38\\\\u0e23\\\\u0e01\\\\u0e34\\\\u0e08\\\\u0e2b\\\\u0e22\\\\u0e38\\\\u0e14\\\\u0e0a\\\\u0e30\\\\u0e07\\\\u0e31\\\\u0e01\\\\u0e08\\\\u0e32\\\\u0e01\\\\u0e40\\\\u0e2b\\\\u0e15\\\\u0e38\\\\u0e01\\\\u0e32\\\\u0e23\\\\u0e13\\\\u0e4c\\\\u0e44\\\\u0e1f\\\\u0e44\\\\u0e2b\\\\u0e21\\\\u0e49\", \"\\\\u0e18\\\\u0e38\\\\u0e23\\\\u0e01\\\\u0e34\\\\u0e08\\\\u0e2b\\\\u0e22\\\\u0e38\\\\u0e14\\\\u0e0a\\\\u0e30\\\\u0e07\\\\u0e31\\\\u0e01\\\\u0e08\\\\u0e32\\\\u0e01\\\\u0e40\\\\u0e2b\\\\u0e15\\\\u0e38\\\\u0e01\\\\u0e32\\\\u0e23\\\\u0e13\\\\u0e4c\\\\u0e19\\\\u0e49\\\\u0e33\\\\u0e17\\\\u0e48\\\\u0e27\\\\u0e21\", \"\\\\u0e01\\\\u0e32\\\\u0e23\\\\u0e16\\\\u0e39\\\\u0e01\\\\u0e22\\\\u0e01\\\\u0e40\\\\u0e25\\\\u0e34\\\\u0e01\\\\u0e40\\\\u0e04\\\\u0e23\\\\u0e37\\\\u0e48\\\\u0e2d\\\\u0e07\\\\u0e2b\\\\u0e21\\\\u0e32\\\\u0e22\\\\u0e01\\\\u0e32\\\\u0e23\\\\u0e04\\\\u0e49\\\\u0e32\", \"\\\\u0e01\\\\u0e32\\\\u0e23\\\\u0e42\\\\u0e08\\\\u0e23\\\\u0e01\\\\u0e23\\\\u0e23\\\\u0e21\\\\u0e17\\\\u0e23\\\\u0e31\\\\u0e1e\\\\u0e22\\\\u0e4c\\\\u0e2a\\\\u0e34\\\\u0e19\\\\u0e17\\\\u0e32\\\\u0e07\\\\u0e1b\\\\u0e31\\\\u0e0d\\\\u0e0d\\\\u0e32\", \"\\\\u0e01\\\\u0e32\\\\u0e23\\\\u0e25\\\\u0e30\\\\u0e40\\\\u0e21\\\\u0e34\\\\u0e14\\\\u0e17\\\\u0e23\\\\u0e31\\\\u0e1e\\\\u0e22\\\\u0e4c\\\\u0e2a\\\\u0e34\\\\u0e19\\\\u0e17\\\\u0e32\\\\u0e07\\\\u0e1b\\\\u0e31\\\\u0e0d\\\\u0e0d\\\\u0e32\", \"\\\\u0e01\\\\u0e32\\\\u0e23\\\\u0e08\\\\u0e31\\\\u0e14\\\\u0e01\\\\u0e32\\\\u0e23\\\\u0e01\\\\u0e32\\\\u0e23\\\\u0e1b\\\\u0e0f\\\\u0e34\\\\u0e1a\\\\u0e31\\\\u0e15\\\\u0e34\\\\u0e07\\\\u0e32\\\\u0e19\\\\u0e14\\\\u0e49\\\\u0e32\\\\u0e19\\\\u0e44\\\\u0e2d\\\\u0e17\\\\u0e35\\\\u0e17\\\\u0e35\\\\u0e48\\\\u0e44\\\\u0e21\\\\u0e48\\\\u0e21\\\\u0e35\\\\u0e1b\\\\u0e23\\\\u0e30\\\\u0e2a\\\\u0e34\\\\u0e17\\\\u0e18\\\\u0e34\\\\u0e20\\\\u0e32\\\\u0e1e\", \"\\\\u0e01\\\\u0e32\\\\u0e23\\\\u0e01\\\\u0e33\\\\u0e01\\\\u0e31\\\\u0e1a\\\\u0e14\\\\u0e39\\\\u0e41\\\\u0e25\\\\u0e14\\\\u0e49\\\\u0e32\\\\u0e19\\\\u0e44\\\\u0e2d\\\\u0e17\\\\u0e35\\\\u0e44\\\\u0e21\\\\u0e48\\\\u0e40\\\\u0e1e\\\\u0e35\\\\u0e22\\\\u0e07\\\\u0e1e\\\\u0e2d\", \"\\\\u0e20\\\\u0e31\\\\u0e22\\\\u0e04\\\\u0e38\\\\u0e01\\\\u0e04\\\\u0e32\\\\u0e21\\\\u0e08\\\\u0e32\\\\u0e01\\\\u0e2a\\\\u0e20\\\\u0e32\\\\u0e1e\\\\u0e41\\\\u0e27\\\\u0e14\\\\u0e25\\\\u0e49\\\\u0e2d\\\\u0e21\\\\u0e15\\\\u0e48\\\\u0e2d\\\\u0e28\\\\u0e39\\\\u0e19\\\\u0e22\\\\u0e4c\\\\u0e44\\\\u0e2d\\\\u0e17\\\\u0e35\", \"\\\\u0e2d\\\\u0e38\\\\u0e1b\\\\u0e01\\\\u0e23\\\\u0e13\\\\u0e4c\\\\u0e17\\\\u0e35\\\\u0e48\\\\u0e40\\\\u0e01\\\\u0e35\\\\u0e48\\\\u0e22\\\\u0e27\\\\u0e02\\\\u0e49\\\\u0e2d\\\\u0e07\\\\u0e01\\\\u0e31\\\\u0e1a\\\\u0e44\\\\u0e2d\\\\u0e17\\\\u0e35 \\\\u0e02\\\\u0e31\\\\u0e14\\\\u0e02\\\\u0e49\\\\u0e2d\\\\u0e07\\\\u0e2b\\\\u0e23\\\\u0e37\\\\u0e2d\\\\u0e44\\\\u0e21\\\\u0e48\\\\u0e2a\\\\u0e32\\\\u0e21\\\\u0e32\\\\u0e23\\\\u0e16\\\\u0e43\\\\u0e0a\\\\u0e49\\\\u0e07\\\\u0e32\\\\u0e19\\\\u0e44\\\\u0e14\\\\u0e49\", \"\\\\u0e0b\\\\u0e2d\\\\u0e1f\\\\u0e15\\\\u0e4c\\\\u0e41\\\\u0e27\\\\u0e23\\\\u0e4c\\\\u0e02\\\\u0e31\\\\u0e14\\\\u0e02\\\\u0e49\\\\u0e2d\\\\u0e07\\\\u0e2b\\\\u0e23\\\\u0e37\\\\u0e2d\\\\u0e44\\\\u0e21\\\\u0e48\\\\u0e2a\\\\u0e32\\\\u0e21\\\\u0e32\\\\u0e23\\\\u0e16\\\\u0e43\\\\u0e0a\\\\u0e49\\\\u0e07\\\\u0e32\\\\u0e19\\\\u0e44\\\\u0e14\\\\u0e49\", \"\\\\u0e01\\\\u0e32\\\\u0e23\\\\u0e1a\\\\u0e23\\\\u0e34\\\\u0e2b\\\\u0e32\\\\u0e23\\\\u0e08\\\\u0e31\\\\u0e14\\\\u0e01\\\\u0e32\\\\u0e23\\\\u0e1c\\\\u0e39\\\\u0e49\\\\u0e43\\\\u0e2b\\\\u0e49\\\\u0e1a\\\\u0e23\\\\u0e34\\\\u0e01\\\\u0e32\\\\u0e23\\\\u0e20\\\\u0e32\\\\u0e22\\\\u0e19\\\\u0e2d\\\\u0e01\\\\u0e17\\\\u0e35\\\\u0e48\\\\u0e44\\\\u0e21\\\\u0e48\\\\u0e40\\\\u0e1e\\\\u0e35\\\\u0e22\\\\u0e07\\\\u0e1e\\\\u0e2d\", \"\\\\u0e01\\\\u0e32\\\\u0e23\\\\u0e44\\\\u0e21\\\\u0e48\\\\u0e1b\\\\u0e0f\\\\u0e34\\\\u0e1a\\\\u0e31\\\\u0e15\\\\u0e34\\\\u0e15\\\\u0e32\\\\u0e21\\\\u0e01\\\\u0e0e\\\\u0e2b\\\\u0e21\\\\u0e32\\\\u0e22/\\\\u0e23\\\\u0e30\\\\u0e40\\\\u0e1a\\\\u0e35\\\\u0e22\\\\u0e1a\\\\u0e17\\\\u0e35\\\\u0e48\\\\u0e40\\\\u0e01\\\\u0e35\\\\u0e48\\\\u0e22\\\\u0e27\\\\u0e02\\\\u0e49\\\\u0e2d\\\\u0e07\\\\u0e01\\\\u0e31\\\\u0e1a\\\\u0e44\\\\u0e2d\\\\u0e17\\\\u0e35\", \"\\\\u0e01\\\\u0e32\\\\u0e23\\\\u0e15\\\\u0e23\\\\u0e27\\\\u0e08\\\\u0e2a\\\\u0e2d\\\\u0e1a\\\\u0e14\\\\u0e49\\\\u0e32\\\\u0e19\\\\u0e44\\\\u0e2d\\\\u0e17\\\\u0e35\\\\u0e44\\\\u0e21\\\\u0e48\\\\u0e21\\\\u0e35\\\\u0e1b\\\\u0e23\\\\u0e30\\\\u0e2a\\\\u0e34\\\\u0e17\\\\u0e18\\\\u0e34\\\\u0e20\\\\u0e32\\\\u0e1e\\\\u0e40\\\\u0e1e\\\\u0e35\\\\u0e22\\\\u0e07\\\\u0e1e\\\\u0e2d\", \"\\\\u0e01\\\\u0e32\\\\u0e23\\\\u0e08\\\\u0e31\\\\u0e14\\\\u0e01\\\\u0e32\\\\u0e23\\\\u0e42\\\\u0e04\\\\u0e23\\\\u0e07\\\\u0e01\\\\u0e32\\\\u0e23\\\\u0e44\\\\u0e2d\\\\u0e17\\\\u0e35\\\\u0e17\\\\u0e35\\\\u0e48\\\\u0e44\\\\u0e21\\\\u0e48\\\\u0e21\\\\u0e35\\\\u0e1b\\\\u0e23\\\\u0e30\\\\u0e2a\\\\u0e34\\\\u0e17\\\\u0e18\\\\u0e34\\\\u0e20\\\\u0e32\\\\u0e1e\", \"\\\\u0e01\\\\u0e32\\\\u0e23\\\\u0e23\\\\u0e31\\\\u0e48\\\\u0e27\\\\u0e44\\\\u0e2b\\\\u0e25\\\\u0e02\\\\u0e2d\\\\u0e07\\\\u0e02\\\\u0e49\\\\u0e2d\\\\u0e21\\\\u0e39\\\\u0e25\\\\u0e08\\\\u0e32\\\\u0e01\\\\u0e01\\\\u0e32\\\\u0e23\\\\u0e2a\\\\u0e48\\\\u0e07\\\\u0e2d\\\\u0e35\\\\u0e40\\\\u0e21\\\\u0e25\\\\u0e4c\\\\u0e1c\\\\u0e34\\\\u0e14\\\\u0e1e\\\\u0e25\\\\u0e32\\\\u0e14\\\\n(Data Leak caused by Accidental Email)\", \"\\\\u0e01\\\\u0e32\\\\u0e23\\\\u0e16\\\\u0e39\\\\u0e01\\\\u0e42\\\\u0e08\\\\u0e21\\\\u0e15\\\\u0e35\\\\u0e08\\\\u0e32\\\\u0e01\\\\u0e21\\\\u0e31\\\\u0e25\\\\u0e41\\\\u0e27\\\\u0e23\\\\u0e4c\\\\u0e40\\\\u0e23\\\\u0e35\\\\u0e22\\\\u0e01\\\\u0e04\\\\u0e48\\\\u0e32\\\\u0e44\\\\u0e16\\\\u0e48 (Ransomware)\", \"\\\\u0e01\\\\u0e32\\\\u0e23\\\\u0e16\\\\u0e39\\\\u0e01\\\\u0e42\\\\u0e08\\\\u0e21\\\\u0e15\\\\u0e35\\\\u0e41\\\\u0e1a\\\\u0e1a\\\\u0e1f\\\\u0e34\\\\u0e0a\\\\u0e0a\\\\u0e34\\\\u0e48\\\\u0e07 (Phishing) \\\\u0e2b\\\\u0e23\\\\u0e37\\\\u0e2d \\\\u0e01\\\\u0e32\\\\u0e23\\\\u0e42\\\\u0e08\\\\u0e21\\\\u0e15\\\\u0e35\\\\u0e41\\\\u0e1a\\\\u0e1a\\\\u0e1f\\\\u0e34\\\\u0e0a\\\\u0e0a\\\\u0e34\\\\u0e48\\\\u0e07\\\\u0e17\\\\u0e35\\\\u0e48\\\\u0e40\\\\u0e08\\\\u0e32\\\\u0e30\\\\u0e08\\\\u0e07\\\\u0e01\\\\u0e25\\\\u0e38\\\\u0e48\\\\u0e21\\\\u0e40\\\\u0e1b\\\\u0e49\\\\u0e32\\\\u0e2b\\\\u0e21\\\\u0e32\\\\u0e22 (Spear Phishing)\", \"\\\\u0e01\\\\u0e32\\\\u0e23\\\\u0e40\\\\u0e01\\\\u0e34\\\\u0e14\\\\u0e20\\\\u0e31\\\\u0e22\\\\u0e04\\\\u0e38\\\\u0e01\\\\u0e04\\\\u0e32\\\\u0e21\\\\u0e08\\\\u0e32\\\\u0e01\\\\u0e1a\\\\u0e38\\\\u0e04\\\\u0e04\\\\u0e25\\\\u0e20\\\\u0e32\\\\u0e22\\\\u0e43\\\\u0e19 (Insider Threat)\", \"\\\\u0e01\\\\u0e32\\\\u0e23\\\\u0e42\\\\u0e08\\\\u0e21\\\\u0e15\\\\u0e35\\\\u0e08\\\\u0e32\\\\u0e01\\\\u0e21\\\\u0e31\\\\u0e25\\\\u0e41\\\\u0e27\\\\u0e23\\\\u0e4c\", \"\\\\u0e01\\\\u0e32\\\\u0e23\\\\u0e16\\\\u0e39\\\\u0e01\\\\u0e42\\\\u0e08\\\\u0e21\\\\u0e15\\\\u0e35\\\\u0e14\\\\u0e49\\\\u0e27\\\\u0e22\\\\u0e27\\\\u0e34\\\\u0e18\\\\u0e35 Social Engineering\", \"\\\\u0e01\\\\u0e32\\\\u0e23\\\\u0e16\\\\u0e39\\\\u0e01\\\\u0e42\\\\u0e08\\\\u0e21\\\\u0e15\\\\u0e35\\\\u0e14\\\\u0e49\\\\u0e27\\\\u0e22\\\\u0e27\\\\u0e34\\\\u0e18\\\\u0e35 Distributed Denial of Service (DDoS)\", \"\\\\u0e01\\\\u0e32\\\\u0e23\\\\u0e16\\\\u0e39\\\\u0e01\\\\u0e42\\\\u0e08\\\\u0e21\\\\u0e15\\\\u0e35\\\\u0e14\\\\u0e49\\\\u0e27\\\\u0e22\\\\u0e27\\\\u0e34\\\\u0e18\\\\u0e35 Brute Force\", \"\\\\u0e01\\\\u0e32\\\\u0e23\\\\u0e15\\\\u0e31\\\\u0e49\\\\u0e07\\\\u0e04\\\\u0e48\\\\u0e32\\\\u0e17\\\\u0e35\\\\u0e48\\\\u0e44\\\\u0e21\\\\u0e48\\\\u0e16\\\\u0e39\\\\u0e01\\\\u0e15\\\\u0e49\\\\u0e2d\\\\u0e07 (Misconfiguration)\", \"\\\\u0e01\\\\u0e32\\\\u0e23\\\\u0e16\\\\u0e39\\\\u0e01\\\\u0e42\\\\u0e08\\\\u0e21\\\\u0e15\\\\u0e35\\\\u0e43\\\\u0e19\\\\u0e2b\\\\u0e48\\\\u0e27\\\\u0e07\\\\u0e42\\\\u0e0b\\\\u0e48\\\\u0e2d\\\\u0e38\\\\u0e1b\\\\u0e17\\\\u0e32\\\\u0e19 (Cyber Supply Chain Attack)\", \"\\\\u0e01\\\\u0e32\\\\u0e23\\\\u0e16\\\\u0e39\\\\u0e01\\\\u0e42\\\\u0e08\\\\u0e21\\\\u0e15\\\\u0e35\\\\u0e08\\\\u0e32\\\\u0e01\\\\u0e0a\\\\u0e48\\\\u0e2d\\\\u0e07\\\\u0e42\\\\u0e2b\\\\u0e27\\\\u0e48\\\\u0e17\\\\u0e35\\\\u0e48\\\\u0e40\\\\u0e01\\\\u0e34\\\\u0e14\\\\u0e02\\\\u0e36\\\\u0e49\\\\u0e19\\\\u0e43\\\\u0e2b\\\\u0e21\\\\u0e48 (Zero Day)\", \"\\\\u0e01\\\\u0e32\\\\u0e23\\\\u0e16\\\\u0e39\\\\u0e01\\\\u0e42\\\\u0e08\\\\u0e21\\\\u0e15\\\\u0e35\\\\u0e14\\\\u0e49\\\\u0e27\\\\u0e22\\\\u0e27\\\\u0e34\\\\u0e18\\\\u0e35\\\\u0e01\\\\u0e32\\\\u0e23\\\\u0e17\\\\u0e35\\\\u0e48\\\\u0e0b\\\\u0e31\\\\u0e1a\\\\u0e0b\\\\u0e49\\\\u0e2d\\\\u0e19 (APT)\", \"\\\\u0e01\\\\u0e32\\\\u0e23\\\\u0e40\\\\u0e02\\\\u0e49\\\\u0e32\\\\u0e16\\\\u0e36\\\\u0e07\\\\u0e42\\\\u0e14\\\\u0e22\\\\u0e44\\\\u0e21\\\\u0e48\\\\u0e44\\\\u0e14\\\\u0e49\\\\u0e23\\\\u0e31\\\\u0e1a\\\\u0e2d\\\\u0e19\\\\u0e38\\\\u0e0d\\\\u0e32\\\\u0e15\\\\u0e08\\\\u0e32\\\\u0e01\\\\u0e01\\\\u0e32\\\\u0e23\\\\u0e43\\\\u0e0a\\\\u0e49\\\\u0e2a\\\\u0e34\\\\u0e17\\\\u0e18\\\\u0e34\\\\u0e4c\\\\u0e2a\\\\u0e39\\\\u0e07\\\\u0e43\\\\u0e19\\\\u0e17\\\\u0e32\\\\u0e07\\\\u0e17\\\\u0e35\\\\u0e48\\\\u0e1c\\\\u0e34\\\\u0e14 (Privilege Misuse)\", \"\\\\u0e01\\\\u0e32\\\\u0e23\\\\u0e16\\\\u0e39\\\\u0e01\\\\u0e42\\\\u0e08\\\\u0e21\\\\u0e15\\\\u0e35\\\\u0e08\\\\u0e32\\\\u0e01\\\\u0e01\\\\u0e32\\\\u0e23\\\\u0e43\\\\u0e0a\\\\u0e49\\\\u0e2d\\\\u0e35\\\\u0e40\\\\u0e21\\\\u0e25\\\\u0e02\\\\u0e2d\\\\u0e07\\\\u0e2d\\\\u0e07\\\\u0e04\\\\u0e4c\\\\u0e01\\\\u0e23\\\\u0e2b\\\\u0e23\\\\u0e37\\\\u0e2d\\\\u0e2d\\\\u0e35\\\\u0e40\\\\u0e21\\\\u0e25\\\\u0e17\\\\u0e35\\\\u0e48\\\\u0e21\\\\u0e35\\\\u0e04\\\\u0e27\\\\u0e32\\\\u0e21\\\\u0e19\\\\u0e48\\\\u0e32\\\\u0e40\\\\u0e0a\\\\u0e37\\\\u0e48\\\\u0e2d\\\\u0e16\\\\u0e37\\\\u0e2d\\\\u0e2b\\\\u0e25\\\\u0e2d\\\\u0e01\\\\u0e25\\\\u0e27\\\\u0e07\\\\u0e1a\\\\u0e23\\\\u0e34\\\\u0e29\\\\u0e31\\\\u0e17\\\\u0e17\\\\u0e35\\\\u0e48\\\\u0e40\\\\u0e1b\\\\u0e47\\\\u0e19\\\\u0e04\\\\u0e39\\\\u0e48\\\\u0e04\\\\u0e49\\\\u0e32 (Business Email Compromise)\", \"\\\\u0e01\\\\u0e32\\\\u0e23\\\\u0e16\\\\u0e39\\\\u0e01\\\\u0e42\\\\u0e08\\\\u0e21\\\\u0e15\\\\u0e35\\\\u0e42\\\\u0e14\\\\u0e22\\\\u0e43\\\\u0e0a\\\\u0e49\\\\u0e40\\\\u0e17\\\\u0e04\\\\u0e42\\\\u0e19\\\\u0e42\\\\u0e25\\\\u0e22\\\\u0e35\\\\u0e17\\\\u0e35\\\\u0e48\\\\u0e0b\\\\u0e31\\\\u0e1a\\\\u0e0b\\\\u0e49\\\\u0e2d\\\\u0e19 (Sophisticate)\", \"\\\\u0e01\\\\u0e32\\\\u0e23\\\\u0e16\\\\u0e39\\\\u0e01\\\\u0e42\\\\u0e08\\\\u0e21\\\\u0e15\\\\u0e35\\\\u0e14\\\\u0e49\\\\u0e27\\\\u0e22\\\\u0e27\\\\u0e34\\\\u0e18\\\\u0e35\\\\u0e01\\\\u0e32\\\\u0e23 Man in the Middle\", \"\\\\u0e01\\\\u0e32\\\\u0e23\\\\u0e16\\\\u0e39\\\\u0e01\\\\u0e42\\\\u0e08\\\\u0e21\\\\u0e15\\\\u0e35\\\\u0e08\\\\u0e32\\\\u0e01 DNS Spoofing\", \"\\\\u0e01\\\\u0e32\\\\u0e23\\\\u0e16\\\\u0e39\\\\u0e01\\\\u0e14\\\\u0e31\\\\u0e01\\\\u0e1f\\\\u0e31\\\\u0e07 (Eavesdropping)\", \"\\\\u0e01\\\\u0e32\\\\u0e23\\\\u0e25\\\\u0e31\\\\u0e01\\\\u0e25\\\\u0e2d\\\\u0e1a\\\\u0e19\\\\u0e33\\\\u0e02\\\\u0e49\\\\u0e2d\\\\u0e21\\\\u0e39\\\\u0e25\\\\u0e2d\\\\u0e2d\\\\u0e01\\\\u0e44\\\\u0e1b\\\\u0e19\\\\u0e2d\\\\u0e01\\\\u0e2d\\\\u0e07\\\\u0e04\\\\u0e4c\\\\u0e01\\\\u0e23\\\\u0e14\\\\u0e49\\\\u0e27\\\\u0e22\\\\u0e27\\\\u0e34\\\\u0e18\\\\u0e35\\\\u0e01\\\\u0e32\\\\u0e23\\\\u0e40\\\\u0e02\\\\u0e49\\\\u0e32\\\\u0e23\\\\u0e2b\\\\u0e31\\\\u0e2a\\\\u0e40\\\\u0e1e\\\\u0e37\\\\u0e48\\\\u0e2d\\\\u0e2b\\\\u0e25\\\\u0e35\\\\u0e01\\\\u0e40\\\\u0e25\\\\u0e35\\\\u0e48\\\\u0e22\\\\u0e07\\\\u0e01\\\\u0e32\\\\u0e23\\\\u0e15\\\\u0e23\\\\u0e27\\\\u0e08\\\\u0e08\\\\u0e31\\\\u0e1a (Exfiltration of Encrypted Data)\", \"\\\\u0e01\\\\u0e32\\\\u0e23\\\\u0e23\\\\u0e31\\\\u0e48\\\\u0e27\\\\u0e44\\\\u0e2b\\\\u0e25\\\\u0e02\\\\u0e2d\\\\u0e07\\\\u0e02\\\\u0e49\\\\u0e2d\\\\u0e21\\\\u0e39\\\\u0e25\\\\u0e08\\\\u0e32\\\\u0e01\\\\u0e01\\\\u0e32\\\\u0e23\\\\u0e43\\\\u0e0a\\\\u0e49\\\\u0e23\\\\u0e30\\\\u0e1a\\\\u0e1a\\\\u0e17\\\\u0e35\\\\u0e48\\\\u0e2d\\\\u0e07\\\\u0e04\\\\u0e4c\\\\u0e01\\\\u0e23\\\\u0e44\\\\u0e21\\\\u0e48\\\\u0e44\\\\u0e14\\\\u0e49\\\\u0e2d\\\\u0e19\\\\u0e38\\\\u0e0d\\\\u0e32\\\\u0e15 (Shadow IT)\", \"\\\\u0e04\\\\u0e27\\\\u0e32\\\\u0e21\\\\u0e40\\\\u0e2a\\\\u0e35\\\\u0e48\\\\u0e22\\\\u0e07\\\\u0e08\\\\u0e32\\\\u0e01\\\\u0e01\\\\u0e32\\\\u0e23\\\\u0e43\\\\u0e0a\\\\u0e49\\\\u0e07\\\\u0e32\\\\u0e19\\\\u0e40\\\\u0e17\\\\u0e04\\\\u0e42\\\\u0e19\\\\u0e42\\\\u0e25\\\\u0e22\\\\u0e35\\\\u0e1b\\\\u0e31\\\\u0e0d\\\\u0e0d\\\\u0e32\\\\u0e1b\\\\u0e23\\\\u0e30\\\\u0e14\\\\u0e34\\\\u0e29\\\\u0e10\\\\u0e4c\", \"\\\\u0e01\\\\u0e32\\\\u0e23\\\\u0e16\\\\u0e39\\\\u0e01\\\\u0e42\\\\u0e08\\\\u0e21\\\\u0e15\\\\u0e35\\\\u0e17\\\\u0e32\\\\u0e07\\\\u0e44\\\\u0e0b\\\\u0e40\\\\u0e1a\\\\u0e2d\\\\u0e23\\\\u0e4c\\\\u0e08\\\\u0e32\\\\u0e01\\\\u0e01\\\\u0e32\\\\u0e23\\\\u0e19\\\\u0e33\\\\u0e40\\\\u0e17\\\\u0e04\\\\u0e42\\\\u0e19\\\\u0e42\\\\u0e25\\\\u0e22\\\\u0e35 Blockchain \\\\u0e21\\\\u0e32\\\\u0e43\\\\u0e0a\\\\u0e49\", \"\\\\u0e01\\\\u0e32\\\\u0e23\\\\u0e16\\\\u0e39\\\\u0e01\\\\u0e42\\\\u0e08\\\\u0e21\\\\u0e15\\\\u0e35\\\\u0e08\\\\u0e32\\\\u0e01 Cryptojacking\", \"\\\\u0e01\\\\u0e32\\\\u0e23\\\\u0e16\\\\u0e39\\\\u0e01\\\\u0e42\\\\u0e08\\\\u0e21\\\\u0e15\\\\u0e35\\\\u0e40\\\\u0e27\\\\u0e47\\\\u0e1a\\\\u0e41\\\\u0e2d\\\\u0e1e\\\\u0e1e\\\\u0e25\\\\u0e34\\\\u0e40\\\\u0e04\\\\u0e0a\\\\u0e31\\\\u0e48\\\\u0e19\\\\u0e14\\\\u0e49\\\\u0e27\\\\u0e22\\\\u0e40\\\\u0e17\\\\u0e04\\\\u0e19\\\\u0e34\\\\u0e04 SQL Injection\", \"\\\\u0e01\\\\u0e32\\\\u0e23\\\\u0e16\\\\u0e39\\\\u0e01\\\\u0e42\\\\u0e08\\\\u0e21\\\\u0e15\\\\u0e35\\\\u0e40\\\\u0e27\\\\u0e47\\\\u0e1a\\\\u0e41\\\\u0e2d\\\\u0e1e\\\\u0e1e\\\\u0e25\\\\u0e34\\\\u0e40\\\\u0e04\\\\u0e0a\\\\u0e31\\\\u0e48\\\\u0e19\\\\u0e14\\\\u0e49\\\\u0e27\\\\u0e22\\\\u0e40\\\\u0e17\\\\u0e04\\\\u0e19\\\\u0e34\\\\u0e04 Cross-site scripting (XSS)\", \"\\\\u0e01\\\\u0e32\\\\u0e23\\\\u0e16\\\\u0e39\\\\u0e01\\\\u0e42\\\\u0e08\\\\u0e21\\\\u0e15\\\\u0e35\\\\u0e40\\\\u0e27\\\\u0e47\\\\u0e1a\\\\u0e41\\\\u0e2d\\\\u0e1e\\\\u0e1e\\\\u0e25\\\\u0e34\\\\u0e40\\\\u0e04\\\\u0e0a\\\\u0e31\\\\u0e48\\\\u0e19\\\\u0e14\\\\u0e49\\\\u0e27\\\\u0e22\\\\u0e40\\\\u0e17\\\\u0e04\\\\u0e19\\\\u0e34\\\\u0e04 XML external entities (XXE)\", \"\\\\u0e01\\\\u0e32\\\\u0e23\\\\u0e16\\\\u0e39\\\\u0e01\\\\u0e42\\\\u0e08\\\\u0e21\\\\u0e15\\\\u0e35\\\\u0e40\\\\u0e27\\\\u0e47\\\\u0e1a\\\\u0e41\\\\u0e2d\\\\u0e1e\\\\u0e1e\\\\u0e25\\\\u0e34\\\\u0e40\\\\u0e04\\\\u0e0a\\\\u0e31\\\\u0e48\\\\u0e19\\\\u0e14\\\\u0e49\\\\u0e27\\\\u0e22\\\\u0e40\\\\u0e17\\\\u0e04\\\\u0e19\\\\u0e34\\\\u0e04 Broken Access Control\", \"\\\\u0e01\\\\u0e32\\\\u0e23\\\\u0e2a\\\\u0e39\\\\u0e0d\\\\u0e2b\\\\u0e32\\\\u0e22/ \\\\u0e16\\\\u0e39\\\\u0e01\\\\u0e02\\\\u0e42\\\\u0e21\\\\u0e22\\\\u0e2a\\\\u0e37\\\\u0e48\\\\u0e2d\\\\u0e17\\\\u0e35\\\\u0e48\\\\u0e08\\\\u0e31\\\\u0e14\\\\u0e40\\\\u0e01\\\\u0e47\\\\u0e1a\\\\u0e02\\\\u0e49\\\\u0e2d\\\\u0e21\\\\u0e39\\\\u0e25\\\\u0e2a\\\\u0e33\\\\u0e04\\\\u0e31\\\\u0e0d\", \"\\\\u0e01\\\\u0e32\\\\u0e23\\\\u0e41\\\\u0e02\\\\u0e48\\\\u0e07\\\\u0e02\\\\u0e31\\\\u0e19\\\\u0e43\\\\u0e19\\\\u0e15\\\\u0e25\\\\u0e32\\\\u0e14\\\\u0e17\\\\u0e35\\\\u0e48\\\\u0e23\\\\u0e38\\\\u0e19\\\\u0e41\\\\u0e23\\\\u0e07\", \"\\\\u0e1c\\\\u0e25\\\\u0e34\\\\u0e15\\\\u0e20\\\\u0e31\\\\u0e13\\\\u0e11\\\\u0e4c\\\\u0e2d\\\\u0e37\\\\u0e48\\\\u0e19\\\\u0e40\\\\u0e02\\\\u0e49\\\\u0e32\\\\u0e21\\\\u0e32\\\\u0e17\\\\u0e14\\\\u0e41\\\\u0e17\\\\u0e19\", \"\\\\u0e04\\\\u0e39\\\\u0e48\\\\u0e41\\\\u0e02\\\\u0e48\\\\u0e07\\\\u0e43\\\\u0e2b\\\\u0e21\\\\u0e48\\\\u0e40\\\\u0e02\\\\u0e49\\\\u0e32\\\\u0e2a\\\\u0e39\\\\u0e48\\\\u0e15\\\\u0e25\\\\u0e32\\\\u0e14\", \"\\\\u0e01\\\\u0e32\\\\u0e23\\\\u0e0a\\\\u0e30\\\\u0e25\\\\u0e2d\\\\u0e15\\\\u0e31\\\\u0e27\\\\u0e17\\\\u0e32\\\\u0e07\\\\u0e40\\\\u0e28\\\\u0e23\\\\u0e29\\\\u0e10\\\\u0e01\\\\u0e34\\\\u0e08\", \"\\\\u0e40\\\\u0e07\\\\u0e34\\\\u0e19\\\\u0e40\\\\u0e1f\\\\u0e49\\\\u0e2d\", \"\\\\u0e27\\\\u0e34\\\\u0e01\\\\u0e24\\\\u0e15\\\\u0e2b\\\\u0e19\\\\u0e35\\\\u0e49\", \"\\\\u0e27\\\\u0e34\\\\u0e01\\\\u0e24\\\\u0e15\\\\u0e40\\\\u0e28\\\\u0e23\\\\u0e29\\\\u0e10\\\\u0e01\\\\u0e34\\\\u0e08\\\\u0e42\\\\u0e25\\\\u0e01\", \"\\\\u0e20\\\\u0e32\\\\u0e27\\\\u0e30\\\\u0e42\\\\u0e25\\\\u0e01\\\\u0e23\\\\u0e49\\\\u0e2d\\\\u0e19\", \"\\\\u0e40\\\\u0e2b\\\\u0e15\\\\u0e38\\\\u0e01\\\\u0e32\\\\u0e23\\\\u0e13\\\\u0e4c\\\\u0e2a\\\\u0e20\\\\u0e32\\\\u0e1e\\\\u0e20\\\\u0e39\\\\u0e21\\\\u0e34\\\\u0e2d\\\\u0e32\\\\u0e01\\\\u0e32\\\\u0e28\\\\u0e2a\\\\u0e38\\\\u0e14\\\\u0e02\\\\u0e31\\\\u0e49\\\\u0e27\", \"\\\\u0e01\\\\u0e32\\\\u0e23\\\\u0e02\\\\u0e32\\\\u0e14\\\\u0e41\\\\u0e04\\\\u0e25\\\\u0e19\\\\u0e19\\\\u0e49\\\\u0e33\", \"\\\\u0e21\\\\u0e25\\\\u0e1e\\\\u0e34\\\\u0e29\\\\u0e17\\\\u0e32\\\\u0e07\\\\u0e19\\\\u0e49\\\\u0e33\", \"\\\\u0e21\\\\u0e25\\\\u0e1e\\\\u0e34\\\\u0e29\\\\u0e17\\\\u0e32\\\\u0e07\\\\u0e2d\\\\u0e32\\\\u0e01\\\\u0e32\\\\u0e28\", \"\\\\u0e21\\\\u0e25\\\\u0e1e\\\\u0e34\\\\u0e29\\\\u0e08\\\\u0e32\\\\u0e01\\\\u0e2d\\\\u0e38\\\\u0e15\\\\u0e2a\\\\u0e32\\\\u0e2b\\\\u0e01\\\\u0e23\\\\u0e23\\\\u0e21\", \"\\\\u0e21\\\\u0e25\\\\u0e1e\\\\u0e34\\\\u0e29\\\\u0e17\\\\u0e32\\\\u0e07\\\\u0e40\\\\u0e2a\\\\u0e35\\\\u0e22\\\\u0e07\", \"\\\\u0e21\\\\u0e25\\\\u0e1e\\\\u0e34\\\\u0e29\\\\u0e17\\\\u0e32\\\\u0e07\\\\u0e14\\\\u0e34\\\\u0e19\", \"\\\\u0e04\\\\u0e27\\\\u0e32\\\\u0e21\\\\u0e40\\\\u0e2a\\\\u0e37\\\\u0e48\\\\u0e2d\\\\u0e21\\\\u0e42\\\\u0e17\\\\u0e23\\\\u0e21\\\\u0e02\\\\u0e2d\\\\u0e07\\\\u0e17\\\\u0e35\\\\u0e48\\\\u0e14\\\\u0e34\\\\u0e19\", \"\\\\u0e21\\\\u0e25\\\\u0e1e\\\\u0e34\\\\u0e29\\\\u0e08\\\\u0e32\\\\u0e01\\\\u0e04\\\\u0e27\\\\u0e32\\\\u0e21\\\\u0e23\\\\u0e49\\\\u0e2d\\\\u0e19\", \"\\\\u0e21\\\\u0e25\\\\u0e1e\\\\u0e34\\\\u0e29\\\\u0e17\\\\u0e32\\\\u0e07\\\\u0e01\\\\u0e31\\\\u0e21\\\\u0e21\\\\u0e31\\\\u0e19\\\\u0e15\\\\u0e20\\\\u0e32\\\\u0e1e\\\\u0e23\\\\u0e31\\\\u0e07\\\\u0e2a\\\\u0e35\", \"\\\\u0e2a\\\\u0e32\\\\u0e23\\\\u0e40\\\\u0e04\\\\u0e21\\\\u0e35\\\\u0e2d\\\\u0e31\\\\u0e19\\\\u0e15\\\\u0e23\\\\u0e32\\\\u0e22\\\\u0e41\\\\u0e25\\\\u0e30\\\\u0e2d\\\\u0e19\\\\u0e38\\\\u0e20\\\\u0e32\\\\u0e04\\\\u0e40\\\\u0e25\\\\u0e47\\\\u0e01\", \"\\\\u0e01\\\\u0e32\\\\u0e23\\\\u0e01\\\\u0e31\\\\u0e14\\\\u0e40\\\\u0e0b\\\\u0e32\\\\u0e30\\\\u0e0a\\\\u0e32\\\\u0e22\\\\u0e1d\\\\u0e31\\\\u0e48\\\\u0e07\", \"\\\\u0e01\\\\u0e32\\\\u0e23\\\\u0e23\\\\u0e1a\\\\u0e01\\\\u0e27\\\\u0e19\\\\u0e02\\\\u0e2d\\\\u0e07\\\\u0e2a\\\\u0e31\\\\u0e15\\\\u0e27\\\\u0e4c\\\\u0e2b\\\\u0e23\\\\u0e37\\\\u0e2d\\\\u0e41\\\\u0e21\\\\u0e25\\\\u0e07\", \"\\\\u0e01\\\\u0e32\\\\u0e23\\\\u0e2a\\\\u0e39\\\\u0e0d\\\\u0e40\\\\u0e2a\\\\u0e35\\\\u0e22\\\\u0e04\\\\u0e27\\\\u0e32\\\\u0e21\\\\u0e2b\\\\u0e25\\\\u0e32\\\\u0e01\\\\u0e2b\\\\u0e25\\\\u0e32\\\\u0e22\\\\u0e17\\\\u0e32\\\\u0e07\\\\u0e0a\\\\u0e35\\\\u0e27\\\\u0e20\\\\u0e32\\\\u0e1e\", \"\\\\u0e01\\\\u0e32\\\\u0e23\\\\u0e41\\\\u0e1e\\\\u0e23\\\\u0e48\\\\u0e23\\\\u0e30\\\\u0e1a\\\\u0e32\\\\u0e14\\\\u0e02\\\\u0e2d\\\\u0e07\\\\u0e40\\\\u0e0a\\\\u0e37\\\\u0e49\\\\u0e2d\\\\u0e42\\\\u0e23\\\\u0e04\\\\u0e43\\\\u0e19\\\\u0e21\\\\u0e19\\\\u0e38\\\\u0e29\\\\u0e22\\\\u0e4c\", \"\\\\u0e01\\\\u0e32\\\\u0e23\\\\u0e41\\\\u0e1e\\\\u0e23\\\\u0e48\\\\u0e23\\\\u0e30\\\\u0e1a\\\\u0e32\\\\u0e14\\\\u0e02\\\\u0e2d\\\\u0e07\\\\u0e40\\\\u0e0a\\\\u0e37\\\\u0e49\\\\u0e2d\\\\u0e42\\\\u0e23\\\\u0e04\\\\u0e43\\\\u0e19\\\\u0e2a\\\\u0e31\\\\u0e15\\\\u0e27\\\\u0e4c\", \"\\\\u0e01\\\\u0e32\\\\u0e23\\\\u0e04\\\\u0e27\\\\u0e1a\\\\u0e04\\\\u0e38\\\\u0e21\\\\u0e01\\\\u0e32\\\\u0e23\\\\u0e1b\\\\u0e25\\\\u0e48\\\\u0e2d\\\\u0e22\\\\u0e04\\\\u0e32\\\\u0e23\\\\u0e4c\\\\u0e1a\\\\u0e2d\\\\u0e19\\\\n\\\\n\", \"\\\\u0e01\\\\u0e32\\\\u0e23\\\\u0e40\\\\u0e1b\\\\u0e25\\\\u0e35\\\\u0e48\\\\u0e22\\\\u0e19\\\\u0e41\\\\u0e1b\\\\u0e25\\\\u0e07\\\\u0e19\\\\u0e42\\\\u0e22\\\\u0e1a\\\\u0e32\\\\u0e22\\\\u0e01\\\\u0e32\\\\u0e23\\\\u0e40\\\\u0e1b\\\\u0e25\\\\u0e35\\\\u0e48\\\\u0e22\\\\u0e19\\\\u0e41\\\\u0e1b\\\\u0e25\\\\u0e07\\\\u0e14\\\\u0e49\\\\u0e32\\\\u0e19\\\\u0e2a\\\\u0e20\\\\u0e32\\\\u0e1e\\\\u0e20\\\\u0e39\\\\u0e21\\\\u0e34\\\\u0e2d\\\\u0e32\\\\u0e01\\\\u0e32\\\\u0e28\", \"\\\\u0e01\\\\u0e32\\\\u0e23\\\\u0e04\\\\u0e27\\\\u0e48\\\\u0e33\\\\u0e1a\\\\u0e32\\\\u0e15\\\\u0e23\", \"\\\\u0e01\\\\u0e32\\\\u0e23\\\\u0e01\\\\u0e35\\\\u0e14\\\\u0e01\\\\u0e31\\\\u0e19\\\\u0e17\\\\u0e32\\\\u0e07\\\\u0e01\\\\u0e32\\\\u0e23\\\\u0e04\\\\u0e49\\\\u0e32\\\\u0e23\\\\u0e30\\\\u0e2b\\\\u0e27\\\\u0e48\\\\u0e32\\\\u0e07\\\\u0e1b\\\\u0e23\\\\u0e30\\\\u0e40\\\\u0e17\\\\u0e28\", \"\\\\u0e01\\\\u0e32\\\\u0e23\\\\u0e40\\\\u0e1b\\\\u0e25\\\\u0e35\\\\u0e48\\\\u0e22\\\\u0e19\\\\u0e41\\\\u0e1b\\\\u0e25\\\\u0e07\\\\u0e19\\\\u0e42\\\\u0e22\\\\u0e1a\\\\u0e32\\\\u0e22\\\\u0e23\\\\u0e31\\\\u0e10\\\\u0e1a\\\\u0e32\\\\u0e25\", \"\\\\u0e01\\\\u0e32\\\\u0e23\\\\u0e40\\\\u0e1b\\\\u0e25\\\\u0e35\\\\u0e48\\\\u0e22\\\\u0e19\\\\u0e41\\\\u0e1b\\\\u0e25\\\\u0e07\\\\u0e19\\\\u0e42\\\\u0e22\\\\u0e1a\\\\u0e32\\\\u0e22\\\\u0e01\\\\u0e32\\\\u0e23\\\\u0e40\\\\u0e07\\\\u0e34\\\\u0e19\", \"\\\\u0e04\\\\u0e27\\\\u0e32\\\\u0e21\\\\u0e02\\\\u0e31\\\\u0e14\\\\u0e41\\\\u0e22\\\\u0e49\\\\u0e07\\\\u0e17\\\\u0e32\\\\u0e07\\\\u0e01\\\\u0e32\\\\u0e23\\\\u0e40\\\\u0e21\\\\u0e37\\\\u0e2d\\\\u0e07 (\\\\u0e2a\\\\u0e2b\\\\u0e23\\\\u0e31\\\\u0e10\\\\u0e2d\\\\u0e40\\\\u0e21\\\\u0e23\\\\u0e34\\\\u0e01\\\\u0e32\\\\u0e41\\\\u0e25\\\\u0e30\\\\u0e08\\\\u0e35\\\\u0e19)\", \"\\\\u0e04\\\\u0e27\\\\u0e32\\\\u0e21\\\\u0e02\\\\u0e31\\\\u0e14\\\\u0e41\\\\u0e22\\\\u0e49\\\\u0e07\\\\u0e17\\\\u0e32\\\\u0e07\\\\u0e01\\\\u0e32\\\\u0e23\\\\u0e40\\\\u0e21\\\\u0e37\\\\u0e2d\\\\u0e07 (\\\\u0e23\\\\u0e31\\\\u0e2a\\\\u0e40\\\\u0e0b\\\\u0e35\\\\u0e22\\\\u0e41\\\\u0e25\\\\u0e30\\\\u0e22\\\\u0e39\\\\u0e40\\\\u0e04\\\\u0e23\\\\u0e19)\", \"\\\\u0e04\\\\u0e27\\\\u0e32\\\\u0e21\\\\u0e02\\\\u0e31\\\\u0e14\\\\u0e41\\\\u0e22\\\\u0e49\\\\u0e07\\\\u0e17\\\\u0e32\\\\u0e07\\\\u0e01\\\\u0e32\\\\u0e23\\\\u0e40\\\\u0e21\\\\u0e37\\\\u0e2d\\\\u0e07 (\\\\u0e15\\\\u0e30\\\\u0e27\\\\u0e31\\\\u0e19\\\\u0e2d\\\\u0e2d\\\\u0e01\\\\u0e01\\\\u0e25\\\\u0e32\\\\u0e07)\", \"\\\\u0e04\\\\u0e27\\\\u0e32\\\\u0e21\\\\u0e02\\\\u0e31\\\\u0e14\\\\u0e41\\\\u0e22\\\\u0e49\\\\u0e07\\\\u0e17\\\\u0e32\\\\u0e07\\\\u0e01\\\\u0e32\\\\u0e23\\\\u0e40\\\\u0e21\\\\u0e37\\\\u0e2d\\\\u0e07 (\\\\u0e08\\\\u0e35\\\\u0e19\\\\u0e41\\\\u0e25\\\\u0e30\\\\u0e44\\\\u0e15\\\\u0e49\\\\u0e2b\\\\u0e27\\\\u0e31\\\\u0e19)\", \"\\\\u0e04\\\\u0e27\\\\u0e32\\\\u0e21\\\\u0e02\\\\u0e31\\\\u0e14\\\\u0e41\\\\u0e22\\\\u0e49\\\\u0e07\\\\u0e17\\\\u0e32\\\\u0e07\\\\u0e01\\\\u0e32\\\\u0e23\\\\u0e40\\\\u0e21\\\\u0e37\\\\u0e2d\\\\u0e07 (\\\\u0e2d\\\\u0e37\\\\u0e48\\\\u0e19\\\\u0e46)\", \"\\\\u0e04\\\\u0e27\\\\u0e32\\\\u0e21\\\\u0e44\\\\u0e21\\\\u0e48\\\\u0e21\\\\u0e31\\\\u0e48\\\\u0e19\\\\u0e04\\\\u0e07\\\\u0e02\\\\u0e2d\\\\u0e07\\\\u0e23\\\\u0e31\\\\u0e10\\\\u0e1a\\\\u0e32\\\\u0e25\", \"\\\\u0e01\\\\u0e32\\\\u0e23\\\\u0e1b\\\\u0e23\\\\u0e30\\\\u0e17\\\\u0e49\\\\u0e27\\\\u0e07\", \"\\\\u0e01\\\\u0e32\\\\u0e23\\\\u0e01\\\\u0e48\\\\u0e2d\\\\u0e04\\\\u0e27\\\\u0e32\\\\u0e21\\\\u0e44\\\\u0e21\\\\u0e48\\\\u0e2a\\\\u0e07\\\\u0e1a\\\\u0e17\\\\u0e32\\\\u0e07\\\\u0e2a\\\\u0e31\\\\u0e07\\\\u0e04\\\\u0e21\", \"\\\\u0e01\\\\u0e32\\\\u0e23\\\\u0e40\\\\u0e1b\\\\u0e25\\\\u0e35\\\\u0e48\\\\u0e22\\\\u0e19\\\\u0e02\\\\u0e31\\\\u0e49\\\\u0e27\\\\u0e2d\\\\u0e33\\\\u0e19\\\\u0e32\\\\u0e08\\\\u0e17\\\\u0e32\\\\u0e07\\\\u0e01\\\\u0e32\\\\u0e23\\\\u0e40\\\\u0e21\\\\u0e37\\\\u0e2d\\\\u0e07\", \"\\\\u0e04\\\\u0e27\\\\u0e32\\\\u0e21\\\\u0e40\\\\u0e2a\\\\u0e35\\\\u0e48\\\\u0e22\\\\u0e07\\\\u0e08\\\\u0e32\\\\u0e01\\\\u0e19\\\\u0e42\\\\u0e22\\\\u0e1a\\\\u0e32\\\\u0e22\\\\u0e01\\\\u0e23\\\\u0e30\\\\u0e15\\\\u0e38\\\\u0e49\\\\u0e19\\\\u0e40\\\\u0e28\\\\u0e23\\\\u0e29\\\\u0e10\\\\u0e01\\\\u0e34\\\\u0e08\", \"\\\\u0e01\\\\u0e32\\\\u0e23\\\\u0e1b\\\\u0e23\\\\u0e31\\\\u0e1a\\\\u0e02\\\\u0e36\\\\u0e49\\\\u0e19\\\\u0e04\\\\u0e48\\\\u0e32\\\\u0e41\\\\u0e23\\\\u0e07\\\\u0e02\\\\u0e31\\\\u0e49\\\\u0e19\\\\u0e15\\\\u0e48\\\\u0e33\", \"\\\\u0e01\\\\u0e32\\\\u0e23\\\\u0e41\\\\u0e1a\\\\u0e19\\\\u0e2b\\\\u0e23\\\\u0e37\\\\u0e2d\\\\u0e01\\\\u0e32\\\\u0e23\\\\u0e04\\\\u0e27\\\\u0e48\\\\u0e33\\\\u0e1a\\\\u0e32\\\\u0e15\\\\u0e23\\\\u0e1a\\\\u0e23\\\\u0e34\\\\u0e29\\\\u0e31\\\\u0e17\", \"\\\\u0e04\\\\u0e27\\\\u0e32\\\\u0e21\\\\u0e2a\\\\u0e32\\\\u0e21\\\\u0e32\\\\u0e23\\\\u0e16\\\\u0e41\\\\u0e25\\\\u0e30\\\\u0e2d\\\\u0e33\\\\u0e19\\\\u0e32\\\\u0e08\\\\u0e01\\\\u0e32\\\\u0e23\\\\u0e0b\\\\u0e37\\\\u0e49\\\\u0e2d\\\\u0e02\\\\u0e2d\\\\u0e07\\\\u0e1c\\\\u0e39\\\\u0e49\\\\u0e1a\\\\u0e23\\\\u0e34\\\\u0e42\\\\u0e20\\\\u0e04\\\\u0e15\\\\u0e48\\\\u0e33\", \"\\\\u0e01\\\\u0e32\\\\u0e23\\\\u0e40\\\\u0e1b\\\\u0e25\\\\u0e35\\\\u0e48\\\\u0e22\\\\u0e19\\\\u0e41\\\\u0e1b\\\\u0e25\\\\u0e07\\\\u0e04\\\\u0e27\\\\u0e32\\\\u0e21\\\\u0e0a\\\\u0e2d\\\\u0e1a\\\\u0e02\\\\u0e2d\\\\u0e07\\\\u0e1c\\\\u0e39\\\\u0e49\\\\u0e1a\\\\u0e23\\\\u0e34\\\\u0e42\\\\u0e20\\\\u0e04\", \"\\\\u0e01\\\\u0e32\\\\u0e23\\\\u0e40\\\\u0e1b\\\\u0e25\\\\u0e35\\\\u0e48\\\\u0e22\\\\u0e19\\\\u0e41\\\\u0e1b\\\\u0e25\\\\u0e07\\\\u0e17\\\\u0e32\\\\u0e07\\\\u0e1b\\\\u0e23\\\\u0e30\\\\u0e0a\\\\u0e32\\\\u0e01\\\\u0e23\\\\u0e28\\\\u0e32\\\\u0e2a\\\\u0e15\\\\u0e23\\\\u0e4c\", \"\\\\u0e01\\\\u0e32\\\\u0e23\\\\u0e41\\\\u0e1a\\\\u0e48\\\\u0e07\\\\u0e41\\\\u0e22\\\\u0e01\\\\u0e17\\\\u0e32\\\\u0e07\\\\u0e2a\\\\u0e31\\\\u0e07\\\\u0e04\\\\u0e21\", \"\\\\u0e01\\\\u0e32\\\\u0e23\\\\u0e23\\\\u0e32\\\\u0e22\\\\u0e07\\\\u0e32\\\\u0e19\\\\u0e02\\\\u0e48\\\\u0e32\\\\u0e27\\\\u0e17\\\\u0e35\\\\u0e48\\\\u0e40\\\\u0e1b\\\\u0e47\\\\u0e19\\\\u0e40\\\\u0e0a\\\\u0e34\\\\u0e07\\\\u0e25\\\\u0e1a\", \"\\\\u0e01\\\\u0e32\\\\u0e23\\\\u0e15\\\\u0e48\\\\u0e2d\\\\u0e15\\\\u0e49\\\\u0e32\\\\u0e19\\\\u0e01\\\\u0e32\\\\u0e23\\\\u0e43\\\\u0e0a\\\\u0e49\\\\u0e1e\\\\u0e25\\\\u0e32\\\\u0e2a\\\\u0e15\\\\u0e34\\\\u0e01\", \"\\\\u0e40\\\\u0e17\\\\u0e04\\\\u0e42\\\\u0e19\\\\u0e42\\\\u0e25\\\\u0e22\\\\u0e35/\\\\u0e19\\\\u0e27\\\\u0e31\\\\u0e15\\\\u0e01\\\\u0e23\\\\u0e23\\\\u0e21\\\\u0e17\\\\u0e35\\\\u0e48\\\\u0e40\\\\u0e01\\\\u0e34\\\\u0e14\\\\u0e02\\\\u0e36\\\\u0e49\\\\u0e19\\\\u0e43\\\\u0e2b\\\\u0e21\\\\u0e48\\\\u0e17\\\\u0e14\\\\u0e41\\\\u0e17\\\\u0e19\\\\u0e02\\\\u0e2d\\\\u0e07\\\\u0e40\\\\u0e01\\\\u0e48\\\\u0e32\", \"\\\\u0e04\\\\u0e27\\\\u0e32\\\\u0e21\\\\u0e40\\\\u0e2a\\\\u0e35\\\\u0e48\\\\u0e22\\\\u0e07\\\\u0e08\\\\u0e32\\\\u0e01\\\\u0e01\\\\u0e32\\\\u0e23\\\\u0e43\\\\u0e0a\\\\u0e49 AI\", \"\\\\u0e04\\\\u0e27\\\\u0e32\\\\u0e21\\\\u0e1c\\\\u0e31\\\\u0e19\\\\u0e1c\\\\u0e27\\\\u0e19\\\\u0e02\\\\u0e2d\\\\u0e07\\\\u0e23\\\\u0e32\\\\u0e04\\\\u0e32\\\\u0e19\\\\u0e49\\\\u0e33\\\\u0e21\\\\u0e31\\\\u0e19 \\\\u0e41\\\\u0e25\\\\u0e30\\\\u0e23\\\\u0e32\\\\u0e04\\\\u0e32\\\\u0e1e\\\\u0e25\\\\u0e31\\\\u0e07\\\\u0e07\\\\u0e32\\\\u0e19\", \"\\\\u0e04\\\\u0e27\\\\u0e32\\\\u0e21\\\\u0e1c\\\\u0e31\\\\u0e19\\\\u0e1c\\\\u0e27\\\\u0e19\\\\u0e02\\\\u0e2d\\\\u0e07\\\\u0e23\\\\u0e32\\\\u0e04\\\\u0e32\\\\u0e27\\\\u0e31\\\\u0e15\\\\u0e16\\\\u0e38\\\\u0e14\\\\u0e34\\\\u0e1a\", \"\\\\u0e04\\\\u0e27\\\\u0e32\\\\u0e21\\\\u0e1c\\\\u0e31\\\\u0e19\\\\u0e1c\\\\u0e27\\\\u0e19\\\\u0e02\\\\u0e2d\\\\u0e07\\\\u0e23\\\\u0e32\\\\u0e04\\\\u0e32\\\\u0e2b\\\\u0e38\\\\u0e49\\\\u0e19\", \"\\\\u0e04\\\\u0e27\\\\u0e32\\\\u0e21\\\\u0e1c\\\\u0e31\\\\u0e19\\\\u0e1c\\\\u0e27\\\\u0e19\\\\u0e02\\\\u0e2d\\\\u0e07\\\\u0e04\\\\u0e48\\\\u0e32\\\\u0e23\\\\u0e30\\\\u0e27\\\\u0e32\\\\u0e07\\\\u0e2a\\\\u0e34\\\\u0e19\\\\u0e04\\\\u0e49\\\\u0e32\", \"\\\\u0e04\\\\u0e27\\\\u0e32\\\\u0e21\\\\u0e1c\\\\u0e31\\\\u0e19\\\\u0e1c\\\\u0e27\\\\u0e19\\\\u0e02\\\\u0e2d\\\\u0e07\\\\u0e2d\\\\u0e31\\\\u0e15\\\\u0e23\\\\u0e32\\\\u0e41\\\\u0e25\\\\u0e01\\\\u0e40\\\\u0e1b\\\\u0e25\\\\u0e35\\\\u0e48\\\\u0e22\\\\u0e19\", \"\\\\u0e04\\\\u0e27\\\\u0e32\\\\u0e21\\\\u0e1c\\\\u0e31\\\\u0e19\\\\u0e1c\\\\u0e27\\\\u0e19\\\\u0e02\\\\u0e2d\\\\u0e07\\\\u0e2d\\\\u0e31\\\\u0e15\\\\u0e23\\\\u0e32\\\\u0e14\\\\u0e2d\\\\u0e01\\\\u0e40\\\\u0e1a\\\\u0e35\\\\u0e49\\\\u0e22\", \"\\\\u0e04\\\\u0e27\\\\u0e32\\\\u0e21\\\\u0e40\\\\u0e2a\\\\u0e35\\\\u0e48\\\\u0e22\\\\u0e07\\\\u0e14\\\\u0e49\\\\u0e32\\\\u0e19\\\\u0e40\\\\u0e04\\\\u0e23\\\\u0e14\\\\u0e34\\\\u0e15\\\\u0e02\\\\u0e2d\\\\u0e07\\\\u0e25\\\\u0e39\\\\u0e01\\\\u0e2b\\\\u0e19\\\\u0e35\\\\u0e49 (\\\\u0e20\\\\u0e32\\\\u0e22\\\\u0e43\\\\u0e19\\\\u0e40\\\\u0e04\\\\u0e23\\\\u0e37\\\\u0e2d\\\\u0e2f)\", \"\\\\u0e04\\\\u0e27\\\\u0e32\\\\u0e21\\\\u0e40\\\\u0e2a\\\\u0e35\\\\u0e48\\\\u0e22\\\\u0e07\\\\u0e14\\\\u0e49\\\\u0e32\\\\u0e19\\\\u0e40\\\\u0e04\\\\u0e23\\\\u0e14\\\\u0e34\\\\u0e15\\\\u0e02\\\\u0e2d\\\\u0e07\\\\u0e25\\\\u0e39\\\\u0e01\\\\u0e2b\\\\u0e19\\\\u0e35\\\\u0e49 (\\\\u0e20\\\\u0e32\\\\u0e22\\\\u0e19\\\\u0e2d\\\\u0e01\\\\u0e40\\\\u0e04\\\\u0e23\\\\u0e37\\\\u0e2d\\\\u0e2f)\", \"\\\\u0e04\\\\u0e27\\\\u0e32\\\\u0e21\\\\u0e40\\\\u0e2a\\\\u0e35\\\\u0e48\\\\u0e22\\\\u0e07\\\\u0e08\\\\u0e32\\\\u0e01\\\\u0e01\\\\u0e32\\\\u0e23\\\\u0e01\\\\u0e23\\\\u0e30\\\\u0e08\\\\u0e38\\\\u0e01\\\\u0e15\\\\u0e31\\\\u0e27\\\\u0e43\\\\u0e19\\\\u0e25\\\\u0e39\\\\u0e01\\\\u0e2b\\\\u0e19\\\\u0e35\\\\u0e49\", \"\\\\u0e02\\\\u0e32\\\\u0e14\\\\u0e01\\\\u0e32\\\\u0e23\\\\u0e04\\\\u0e31\\\\u0e14\\\\u0e01\\\\u0e23\\\\u0e2d\\\\u0e07\\\\u0e40\\\\u0e04\\\\u0e23\\\\u0e14\\\\u0e34\\\\u0e15\\\\u0e02\\\\u0e2d\\\\u0e07\\\\u0e25\\\\u0e39\\\\u0e01\\\\u0e04\\\\u0e49\\\\u0e32\", \"\\\\u0e44\\\\u0e21\\\\u0e48\\\\u0e2a\\\\u0e32\\\\u0e21\\\\u0e32\\\\u0e23\\\\u0e16\\\\u0e02\\\\u0e32\\\\u0e22\\\\u0e2a\\\\u0e34\\\\u0e19\\\\u0e17\\\\u0e23\\\\u0e31\\\\u0e1e\\\\u0e22\\\\u0e4c\\\\u0e44\\\\u0e14\\\\u0e49\\\\u0e2d\\\\u0e22\\\\u0e48\\\\u0e32\\\\u0e07\\\\u0e23\\\\u0e27\\\\u0e14\\\\u0e40\\\\u0e23\\\\u0e47\\\\u0e27\", \"\\\\u0e01\\\\u0e32\\\\u0e23\\\\u0e16\\\\u0e2d\\\\u0e19\\\\u0e40\\\\u0e07\\\\u0e34\\\\u0e19\\\\u0e2d\\\\u0e22\\\\u0e48\\\\u0e32\\\\u0e07\\\\u0e01\\\\u0e30\\\\u0e17\\\\u0e31\\\\u0e19\\\\u0e2b\\\\u0e31\\\\u0e19\", \"\\\\u0e01\\\\u0e32\\\\u0e23\\\\u0e44\\\\u0e21\\\\u0e48\\\\u0e2a\\\\u0e32\\\\u0e21\\\\u0e32\\\\u0e23\\\\u0e16\\\\u0e40\\\\u0e02\\\\u0e49\\\\u0e32\\\\u0e16\\\\u0e36\\\\u0e07\\\\u0e41\\\\u0e2b\\\\u0e25\\\\u0e48\\\\u0e07\\\\u0e40\\\\u0e07\\\\u0e34\\\\u0e19\\\\u0e17\\\\u0e38\\\\u0e19\", \"\\\\u0e04\\\\u0e27\\\\u0e32\\\\u0e21\\\\u0e40\\\\u0e2a\\\\u0e35\\\\u0e48\\\\u0e22\\\\u0e07\\\\u0e08\\\\u0e32\\\\u0e01\\\\u0e01\\\\u0e32\\\\u0e23\\\\u0e40\\\\u0e23\\\\u0e35\\\\u0e22\\\\u0e01\\\\u0e40\\\\u0e01\\\\u0e47\\\\u0e1a\\\\u0e40\\\\u0e07\\\\u0e34\\\\u0e19\\\\u0e1b\\\\u0e23\\\\u0e30\\\\u0e01\\\\u0e31\\\\u0e19\\\\u0e41\\\\u0e25\\\\u0e30\\\\u0e02\\\\u0e49\\\\u0e2d\\\\u0e01\\\\u0e33\\\\u0e2b\\\\u0e19\\\\u0e14\\\\u0e14\\\\u0e49\\\\u0e32\\\\u0e19\\\\u0e2b\\\\u0e25\\\\u0e31\\\\u0e01\\\\u0e1b\\\\u0e23\\\\u0e30\\\\u0e01\\\\u0e31\\\\u0e19\", \"\\\\u0e04\\\\u0e27\\\\u0e32\\\\u0e21\\\\u0e40\\\\u0e2a\\\\u0e35\\\\u0e48\\\\u0e22\\\\u0e07\\\\u0e08\\\\u0e32\\\\u0e01\\\\u0e01\\\\u0e32\\\\u0e23\\\\u0e04\\\\u0e23\\\\u0e1a\\\\u0e01\\\\u0e4d\\\\u0e32\\\\u0e2b\\\\u0e19\\\\u0e14\\\\u0e0a\\\\u0e4d\\\\u0e32\\\\u0e23\\\\u0e30\\\\u0e2b\\\\u0e19\\\\u0e35\\\\u0e49\\\\u0e44\\\\u0e21\\\\u0e48\\\\u0e15\\\\u0e23\\\\u0e07\\\\u0e01\\\\u0e31\\\\u0e19\", \"\\\\u0e04\\\\u0e27\\\\u0e32\\\\u0e21\\\\u0e40\\\\u0e2a\\\\u0e35\\\\u0e48\\\\u0e22\\\\u0e07\\\\u0e17\\\\u0e35\\\\u0e48\\\\u0e40\\\\u0e01\\\\u0e35\\\\u0e48\\\\u0e22\\\\u0e27\\\\u0e02\\\\u0e49\\\\u0e2d\\\\u0e07\\\\u0e01\\\\u0e31\\\\u0e1a\\\\u0e1c\\\\u0e25\\\\u0e01\\\\u0e23\\\\u0e30\\\\u0e17\\\\u0e1a\\\\u0e14\\\\u0e49\\\\u0e32\\\\u0e19\\\\u0e2a\\\\u0e20\\\\u0e32\\\\u0e1e\\\\u0e04\\\\u0e25\\\\u0e48\\\\u0e2d\\\\u0e07\\\\u0e08\\\\u0e32\\\\u0e01\\\\u0e01\\\\u0e34\\\\u0e08\\\\u0e01\\\\u0e23\\\\u0e23\\\\u0e21\\\\u0e17\\\\u0e35\\\\u0e48\\\\u0e44\\\\u0e21\\\\u0e48\\\\u0e1b\\\\u0e23\\\\u0e32\\\\u0e01\\\\u0e0f\\\\u0e43\\\\u0e19\\\\u0e07\\\\u0e1a\\\\u0e14\\\\u0e38\\\\u0e25\", \"\\\\u0e04\\\\u0e27\\\\u0e32\\\\u0e21\\\\u0e40\\\\u0e2a\\\\u0e35\\\\u0e48\\\\u0e22\\\\u0e07\\\\u0e08\\\\u0e32\\\\u0e01\\\\u0e01\\\\u0e32\\\\u0e23\\\\u0e40\\\\u0e02\\\\u0e49\\\\u0e32\\\\u0e16\\\\u0e36\\\\u0e07\\\\u0e27\\\\u0e07\\\\u0e40\\\\u0e07\\\\u0e34\\\\u0e19\\\\u0e40\\\\u0e04\\\\u0e23\\\\u0e14\\\\u0e34\\\\u0e15\\\\u0e2a\\\\u0e33\\\\u0e23\\\\u0e2d\\\\u0e07\", \"\\\\u0e04\\\\u0e27\\\\u0e32\\\\u0e21\\\\u0e40\\\\u0e2a\\\\u0e35\\\\u0e48\\\\u0e22\\\\u0e07\\\\u0e08\\\\u0e32\\\\u0e01\\\\u0e01\\\\u0e32\\\\u0e23\\\\u0e40\\\\u0e1b\\\\u0e25\\\\u0e35\\\\u0e48\\\\u0e22\\\\u0e19\\\\u0e41\\\\u0e1b\\\\u0e25\\\\u0e07\\\\u0e2a\\\\u0e01\\\\u0e38\\\\u0e25\\\\u0e40\\\\u0e07\\\\u0e34\\\\u0e19\\\\u0e15\\\\u0e48\\\\u0e32\\\\u0e07\\\\u0e1b\\\\u0e23\\\\u0e30\\\\u0e40\\\\u0e17\\\\u0e28\"]'"
      ]
     },
     "execution_count": 8,
     "metadata": {},
     "output_type": "execute_result"
    }
   ],
   "source": [
    "df.candidate_sentences.unique()[0]"
   ]
  },
  {
   "cell_type": "code",
   "execution_count": 31,
   "metadata": {},
   "outputs": [
    {
     "name": "stdout",
     "output_type": "stream",
     "text": [
      "(84, 12)\n",
      "(0, 12)\n"
     ]
    }
   ],
   "source": [
    "selected_df = df.copy()\n",
    "embedded_model = \"openai-small\"\n",
    "distance_method = \"cosine\"\n",
    "selected_df = selected_df[selected_df[\"embedded_model\"] == embedded_model]\n",
    "selected_df = selected_df[selected_df[\"distance_method\"] == distance_method]\n",
    "selected_df = selected_df[selected_df[\"is_same_risk_cat\"] == 1]\n",
    "selected_df = selected_df[\n",
    "    selected_df[\"candidate_sentences\"] == df.candidate_sentences.unique()[2]\n",
    "]\n",
    "target_order_list = selected_df[\n",
    "    \"target_order_in_filter_sorted_similar_sentences\"\n",
    "].to_list()\n",
    "print(selected_df.shape)\n",
    "print(selected_df[selected_df[\"is_same_risk_cat\"] == 0].shape)"
   ]
  },
  {
   "cell_type": "code",
   "execution_count": 32,
   "metadata": {},
   "outputs": [],
   "source": [
    "# selected_df[selected_df[\"is_same_risk_cat\"] == 0]"
   ]
  },
  {
   "cell_type": "code",
   "execution_count": 33,
   "metadata": {},
   "outputs": [
    {
     "data": {
      "image/png": "[encoded data removed]",
      "text/plain": [
       "<Figure size 640x480 with 1 Axes>"
      ]
     },
     "metadata": {},
     "output_type": "display_data"
    }
   ],
   "source": [
    "score_list = []\n",
    "top_n_list = []\n",
    "target_order_list\n",
    "for top_n in range(1, 166):\n",
    "    # score is count every element in target_order_list if it <= top_n  then + 1\n",
    "    score = 0\n",
    "    for target_order in target_order_list:\n",
    "        if target_order <= top_n:\n",
    "            score += 1\n",
    "    score_list.append(score)\n",
    "    top_n_list.append(top_n)\n",
    "# plot xy x is top_n_list y is score_list\n",
    "import matplotlib.pyplot as plt\n",
    "\n",
    "plt.plot(top_n_list, score_list)\n",
    "plt.show()"
   ]
  },
  {
   "cell_type": "code",
   "execution_count": 34,
   "metadata": {},
   "outputs": [
    {
     "data": {
      "text/plain": [
       "53.57142857142857"
      ]
     },
     "execution_count": 34,
     "metadata": {},
     "output_type": "execute_result"
    }
   ],
   "source": [
    "score_list[5] / 84 * 100"
   ]
  },
  {
   "cell_type": "code",
   "execution_count": 35,
   "metadata": {},
   "outputs": [
    {
     "data": {
      "text/plain": [
       "78.57142857142857"
      ]
     },
     "execution_count": 35,
     "metadata": {},
     "output_type": "execute_result"
    }
   ],
   "source": [
    "score_list[25] / 84 * 100"
   ]
  },
  {
   "cell_type": "code",
   "execution_count": 30,
   "metadata": {},
   "outputs": [
    {
     "data": {
      "text/plain": [
       "(40.2, 50, 54.8)"
      ]
     },
     "execution_count": 30,
     "metadata": {},
     "output_type": "execute_result"
    }
   ],
   "source": [
    "# filter missed matches\n",
    "# input name\n",
    "# output name, desc, name and desc\n",
    "# top25\n",
    "76.2, 75, 81.0\n",
    "\n",
    "# top5\n",
    "40.2, 50, 54.8"
   ]
  },
  {
   "cell_type": "code",
   "execution_count": 15,
   "metadata": {},
   "outputs": [
    {
     "data": {
      "text/plain": [
       "(52.4, 46.4, 53.6)"
      ]
     },
     "execution_count": 15,
     "metadata": {},
     "output_type": "execute_result"
    }
   ],
   "source": [
    "# filter missed matches\n",
    "# input desc\n",
    "# output name, desc, name and desc\n",
    "# top25\n",
    "75, 71.4, 81.0\n",
    "\n",
    "# top5\n",
    "52.4, 46.4, 53.6"
   ]
  },
  {
   "cell_type": "code",
   "execution_count": null,
   "metadata": {},
   "outputs": [],
   "source": [
    "# filter missed matches\n",
    "# input name and desc\n",
    "# output name, desc, name and desc\n",
    "# top25\n",
    "72.6, 72.6, 78.6\n",
    "\n",
    "# top5\n",
    "53.6, 50, 53.6"
   ]
  },
  {
   "cell_type": "code",
   "execution_count": null,
   "metadata": {},
   "outputs": [],
   "source": []
  },
  {
   "cell_type": "code",
   "execution_count": 16,
   "metadata": {},
   "outputs": [
    {
     "data": {
      "text/plain": [
       "(50.5, 47.7, 53.3)"
      ]
     },
     "execution_count": 16,
     "metadata": {},
     "output_type": "execute_result"
    }
   ],
   "source": [
    "# input name\n",
    "# output name, desc, name and desc\n",
    "# top25\n",
    "76.6, 71.1, 78.5\n",
    "\n",
    "# top5\n",
    "50.5, 47.7, 53.3"
   ]
  },
  {
   "cell_type": "code",
   "execution_count": 17,
   "metadata": {},
   "outputs": [
    {
     "data": {
      "text/plain": [
       "(50.5, 43.9, 49.5)"
      ]
     },
     "execution_count": 17,
     "metadata": {},
     "output_type": "execute_result"
    }
   ],
   "source": [
    "# input desc\n",
    "# output name, desc, name and desc\n",
    "# top25\n",
    "73.8, 69.2, 78.5\n",
    "\n",
    "# top5\n",
    "50.5, 43.9, 49.5"
   ]
  },
  {
   "cell_type": "code",
   "execution_count": 18,
   "metadata": {},
   "outputs": [
    {
     "data": {
      "text/plain": [
       "(52.3, 45.8, 52.3)"
      ]
     },
     "execution_count": 18,
     "metadata": {},
     "output_type": "execute_result"
    }
   ],
   "source": [
    "# input name and desc\n",
    "# output name, desc, name and desc\n",
    "# top25\n",
    "73.8, 70.1, 76.6\n",
    "\n",
    "# top5\n",
    "52.3, 45.8, 52.3"
   ]
  },
  {
   "cell_type": "code",
   "execution_count": null,
   "metadata": {},
   "outputs": [],
   "source": []
  }
 ],
 "metadata": {
  "kernelspec": {
   "display_name": ".venv",
   "language": "python",
   "name": "python3"
  },
  "language_info": {
   "codemirror_mode": {
    "name": "ipython",
    "version": 3
   },
   "file_extension": ".py",
   "mimetype": "text/x-python",
   "name": "python",
   "nbconvert_exporter": "python",
   "pygments_lexer": "ipython3",
   "version": "3.12.2"
  }
 },
 "nbformat": 4,
 "nbformat_minor": 2
}
